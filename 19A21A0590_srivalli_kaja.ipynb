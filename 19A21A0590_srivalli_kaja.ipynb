{
  "nbformat": 4,
  "nbformat_minor": 0,
  "metadata": {
    "colab": {
      "name": "  19A21A0590-srivalli kaja",
      "provenance": [],
      "collapsed_sections": [],
      "authorship_tag": "ABX9TyPEnyYiCTMJ/PCnBULc8vaY",
      "include_colab_link": true
    },
    "kernelspec": {
      "display_name": "Python 3",
      "name": "python3"
    },
    "language_info": {
      "name": "python"
    }
  },
  "cells": [
    {
      "cell_type": "markdown",
      "metadata": {
        "id": "view-in-github",
        "colab_type": "text"
      },
      "source": [
        "<a href=\"https://colab.research.google.com/github/Srivallikaja3010/python-/blob/main/19A21A0590_srivalli_kaja.ipynb\" target=\"_parent\"><img src=\"https://colab.research.google.com/assets/colab-badge.svg\" alt=\"Open In Colab\"/></a>"
      ]
    },
    {
      "cell_type": "markdown",
      "metadata": {
        "id": "LkrbIovp5MMI"
      },
      "source": [
        " NAME:kaja Naga srivalli \n",
        " \n",
        "REGNO:19A21A0590\n",
        " \n",
        "SECTION:CSE-B"
      ]
    },
    {
      "cell_type": "markdown",
      "metadata": {
        "id": "CfoA4zq65tN3"
      },
      "source": [
        " EXCERSICE-1 A.WRITE PROGRAM IN INTERACTIVE,INTERPRETER,PYHON SCRIPT MODE.\n",
        "B.Write a program to purposefully raise Indentation Error and Correct it"
      ]
    },
    {
      "cell_type": "markdown",
      "metadata": {
        "id": "eYP4y_yOhkM6"
      },
      "source": [
        " **AIM**:\n",
        " \n",
        "a) Running instructions in Interactive interpreter and a Python Script\n",
        " \n",
        "**DESCRIPTION**:\n",
        " \n",
        "Python is a high-level, interpreted, interactive and object-oriented \n",
        "scripting language. \n",
        "Python is designed to be highly readable.  It uses English keywords frequently where as other languages use \n",
        "punctuation, and it has fewer syntactical constructions than other languages. \n",
        " \n",
        "* Python is Interpreted \n",
        " \n",
        "* Python is Interactive \n",
        " \n",
        "* Python is Object-Oriented\n",
        " \n",
        "* Python is a Beginner's Language\n",
        " \n",
        "**Python Programming Running Python Scripts**\n",
        " \n",
        "Running Python in THREE ways: \n",
        " \n",
        "a) Running Python Interpreter \n",
        " \n",
        "b) Running Python Scripts in IDLE \n",
        " \n",
        "c) Running python scripts in Command Prompt \n",
        " \n",
        "**a) Running Python Interpreter:**\n",
        "Python comes with an interactive interpreter. When you type python in your shell or command prompt, the python interpreter becomes active with a >>> prompt and waits for your commands\n",
        " \n",
        "b) **Running Python Scripts in IDLE:**\n",
        ". Go to File menu click on New File (CTRL+N) and write the \n",
        "code and save first.py\n",
        " \n",
        "c) **Running python scripts in Command Prompt: ** **bold text**\n",
        "· Before going to run we have to check the PATH in environment \n",
        "variables."
      ]
    },
    {
      "cell_type": "code",
      "metadata": {
        "colab": {
          "base_uri": "https://localhost:8080/"
        },
        "id": "O-cNkDUB6JHh",
        "outputId": "2098cfc6-54fb-4459-a3e5-5eba34f37d4d"
      },
      "source": [
        " a=78\n",
        "b=89\n",
        "a,b=b,a\n",
        "print(a,b)"
      ],
      "execution_count": null,
      "outputs": [
        {
          "name": "stdout",
          "output_type": "stream",
          "text": [
            "89 78\n"
          ]
        }
      ]
    },
    {
      "cell_type": "markdown",
      "metadata": {
        "id": "boZu_DOHhwwi"
      },
      "source": [
        " **AIM**:\n",
        " \n",
        " To Write a program to purposefully raise Indentation Error and Correct it\n",
        "  \n",
        "  **DESCRIPTION**:\n",
        " \n",
        "  **Indentation** \n",
        "* Python does not support braces to indicate blocks of code for class and \n",
        "function definitions or flow control. \n",
        " \n",
        "* Blocks of code are denoted by line indentation.\n",
        " \n",
        "* All the continuous lines indented with same number of spaces would form a block. \n",
        " \n",
        "* Python strictly follow indentation rules to indicate the blocks."
      ]
    },
    {
      "cell_type": "code",
      "metadata": {
        "colab": {
          "base_uri": "https://localhost:8080/"
        },
        "id": "5GWZrW4l7T8j",
        "outputId": "42266f7d-60a8-475b-82e8-be19a6b83d1f"
      },
      "source": [
        " a=input(\"enter a vlaue:\")\n",
        "b=input(\"enter b value:\")\n",
        "c=a+b;\n",
        "print(\"sum is \",c,sep=\"\\t\")\n",
        "c=int(a)+int(b)\n",
        "print(\"sum of {} and {} is : {}\".format(a,b,c))\n",
        "print(\"sum of %s and %s is:%d\"%(a,b,c))\n",
        "x=10\n",
        "y=123\n",
        "z=x+y;\n",
        "print(\"sum is\",z,sep='\\t' )"
      ],
      "execution_count": null,
      "outputs": [
        {
          "name": "stdout",
          "output_type": "stream",
          "text": [
            "enter a vlaue:14\n",
            "enter b value:34\n",
            "sum is \t1434\n",
            "sum of 14 and 34 is : 48\n",
            "sum of 14 and 34 is:48\n",
            "sum is\t133\n"
          ]
        }
      ]
    },
    {
      "cell_type": "code",
      "metadata": {
        "colab": {
          "base_uri": "https://localhost:8080/"
        },
        "id": "6ZG_92-t7nae",
        "outputId": "5401cb87-5ac3-4fbf-ec56-671508f46254"
      },
      "source": [
        " print(\"welcome to python\")\n",
        "a=20\n",
        "b=30\n",
        "print(\"the value of a:\",a)\n",
        "print(\"the value of b :\",b)\n",
        "if(a>b):\n",
        "       print(\"a is big\");\n",
        "       print(\"ifbblock ends\")\n",
        "else:\n",
        "            print(\"b is big\")\n",
        "            print(\"elseblock ends\")"
      ],
      "execution_count": null,
      "outputs": [
        {
          "name": "stdout",
          "output_type": "stream",
          "text": [
            "welcome to python\n",
            "the value of a: 20\n",
            "the value of b : 30\n",
            "b is big\n",
            "elseblock ends\n"
          ]
        }
      ]
    },
    {
      "cell_type": "markdown",
      "metadata": {
        "id": "V9oaAScJ7-YM"
      },
      "source": [
        " EXERCISE-2\n",
        "A.COMPUTE DISTANCE BETWEEN TWO POINTS\n",
        "B.TAKE TWO NUMBERS ON COMMAND LINE ARGUMENTS AND PRINT THE SUM."
      ]
    },
    {
      "cell_type": "markdown",
      "metadata": {
        "id": "9AZiaHYvh8n-"
      },
      "source": [
        " **AIM**:\n",
        " \n",
        "TO COMPUTE DISTANCE BETWEEN TWO POINTS\n",
        " \n",
        " \n",
        "**DESCRIPTION**:\n",
        " \n",
        "**Taking Input From the User:**\n",
        "A function is defined as a block of organized, reusable code used to perform a single, related action. Python has many built-in functions; you can also create your own. \n",
        " \n",
        "Python has an input function which lets you ask a user for some text input. You call this function to tell the program to stop and wait for the user to key in the data.\n",
        " \n",
        " In Python 2, you have a built-in function raw_input(), whereas in Python 3, you have input(). The program will resume once the user presses the ENTER or RETURN key.\n",
        " \n",
        " **Input Function**\n",
        " \n",
        "input(prompt=None,/). \n",
        " \n",
        "Read a string from standard input. The trailing newline is stripped. \n",
        " \n",
        "The prompt string, if given, is printed to standard output without a trailing newline before reading input. \n",
        " \n",
        "If the user hits EOF (*nix: Ctrl-D, Windows: Ctrl Z+Return), raise EOFError."
      ]
    },
    {
      "cell_type": "code",
      "metadata": {
        "colab": {
          "base_uri": "https://localhost:8080/"
        },
        "id": "W1cAdCzw8AWr",
        "outputId": "575ede52-8eee-4f06-fec0-3bb7224a6993"
      },
      "source": [
        " x1=10\n",
        "x2=80\n",
        "y1=12\n",
        "y2=20\n",
        "z=(pow((x2-x1),2)+pow((y2-y1),2))**0.5\n",
        "print(z)"
      ],
      "execution_count": null,
      "outputs": [
        {
          "name": "stdout",
          "output_type": "stream",
          "text": [
            "70.45565981523414\n"
          ]
        }
      ]
    },
    {
      "cell_type": "code",
      "metadata": {
        "colab": {
          "base_uri": "https://localhost:8080/"
        },
        "id": "krwG4IgZ8SXb",
        "outputId": "9417dbb7-bf6b-4dd1-e97f-9fecafb7a243"
      },
      "source": [
        " import math\n",
        "x1=int(input(\"enter  x1 value:\"))\n",
        "x2=int(input(\"enter  x2 value:\"))\n",
        "y1=int(input(\"enter  y1 value:\"))\n",
        "y2=int(input(\"enter  y2 value:\"))\n",
        "z=math.sqrt((x2-x1)**2+(y2-y1)**2)\n",
        "print(\"the distance between two points is :\",z)\n",
        "print(\"the distance between two points is :\",z,sep='\\t')\n",
        "print(\"the distance between ({}, {})and ({},{}) is  :{}\".format(x1,y1,x2,y2,z))\n",
        " \n",
        "print(\"the distance between (%d, %d)and (%d,%d) is  :%f\"%(x1,y1,x2,y2,z))"
      ],
      "execution_count": null,
      "outputs": [
        {
          "name": "stdout",
          "output_type": "stream",
          "text": [
            "enter  x1 value:15\n",
            "enter  x2 value:25\n",
            "enter  y1 value:10\n",
            "enter  y2 value:27\n",
            "the distance between two points is : 19.72308292331602\n",
            "the distance between two points is :\t19.72308292331602\n",
            "the distance between (15, 10)and (25,27) is  :19.72308292331602\n",
            "the distance between (15, 10)and (25,27) is  :19.723083\n"
          ]
        }
      ]
    },
    {
      "cell_type": "markdown",
      "metadata": {
        "id": "bWX7JNU4iRNH"
      },
      "source": [
        " **AIM**:\n",
        " \n",
        "TAKE TWO NUMBERS ON COMMAND LINE ARGUMENTS AND PRINT THE SUM\n",
        " \n",
        "**DESCRIPTION**:\n",
        " \n",
        "The arguments that are given after the name of the program in the command line shell of the operating system are known as Command Line Arguments. Python provides various ways of dealing with these types of arguments. The three most common are:\n",
        " \n",
        "Using sys.argv\n",
        " \n",
        "Using getopt module\n",
        " \n",
        "Using argparse module\n",
        " \n",
        "Using sys.argv\n",
        " \n",
        "The sys module provides functions and variables used to manipulate different parts of the Python runtime environment. This module provides access to some variables used or maintained by the interpreter and to functions that interact strongly with the interpreter.\n",
        " \n",
        "One such variable is sys.argv which is a simple list structure. It’s main purpose are:\n",
        " \n",
        "It is a list of command line arguments.\n",
        " \n",
        "len(sys.argv) provides the number of command line arguments.\n",
        " \n",
        "sys.argv[0] is the name of the current Python script."
      ]
    },
    {
      "cell_type": "code",
      "metadata": {
        "id": "u7gd8l1FilKd"
      },
      "source": [
        " import sys\n",
        "a=sys.argv[1]\n",
        "b=sys.argv[2]\n",
        "sum=int(a)+int(b)\n",
        "print(\"sum of two number is:\",sum)"
      ],
      "execution_count": null,
      "outputs": []
    },
    {
      "cell_type": "markdown",
      "metadata": {
        "id": "29dD1Bjm82ol"
      },
      "source": [
        " EXCERSCISE-3 A) Write a Program for checking whether the given number is an even number or not.\n",
        " \n",
        "b) Using a for loop, write a program that prints out the decimal equivalents of 1/2, 1/3, 1/4, . . .1/10\n",
        " \n",
        "c) Write a program using a for loop that loops over a sequence. What is sequence?\n",
        " \n",
        "d) Write a program using a while loop that asks the user for a number, and prints a countdownfrom that number to zero"
      ]
    },
    {
      "cell_type": "markdown",
      "metadata": {
        "id": "VNpeGzkxiqpR"
      },
      "source": [
        " **AIM**:\n",
        " \n",
        "a) Write a Program for checking whether the given number is an even number or not.\n",
        " \n",
        "**DESCRIPTION**:\n",
        " \n",
        "if..else Statement When there is an alternate operation in control flow, use an else statement alongside with if statement. The general format is\n",
        " \n",
        "if condition:\n",
        " \n",
        "    true statement\n",
        "else:\n",
        " \n",
        "     false statement"
      ]
    },
    {
      "cell_type": "code",
      "metadata": {
        "colab": {
          "base_uri": "https://localhost:8080/"
        },
        "id": "ARrBe3Tt9C9p",
        "outputId": "d77b7aa3-123d-4472-9b57-ce914c5d6258"
      },
      "source": [
        " n=int(input(\"enter a number:\"))\n",
        "if (n%2)==0:\n",
        "        print(\"given number is even\")\n",
        "else:\n",
        "      print(\"given number is odd\")"
      ],
      "execution_count": null,
      "outputs": [
        {
          "name": "stdout",
          "output_type": "stream",
          "text": [
            "enter a number:5\n",
            "given number is odd\n"
          ]
        }
      ]
    },
    {
      "cell_type": "markdown",
      "metadata": {
        "id": "Ei1CUsaOiy83"
      },
      "source": [
        " **AIM**:\n",
        " \n",
        "b) Using a for loop, write a program that prints out the decimal equivalents of 1/2, 1/3, 1/4, . . .1/10\n",
        " \n",
        "**DESCRIPTION**\n",
        " \n",
        "For Loop: For loops can iterate over a sequence of numbers using the \"range\" and \"xrange\" functions. The difference between range and xrange is that the range function returns a new list with numbers of that specified range, whereas xrange returns an iterator, which is more efficient.\n",
        " \n",
        "The general format is\n",
        " \n",
        "for x in range(start,stop,step):\n",
        " \n",
        "statements"
      ]
    },
    {
      "cell_type": "code",
      "metadata": {
        "colab": {
          "base_uri": "https://localhost:8080/"
        },
        "id": "m0dvK65_9OPD",
        "outputId": "a6c761e0-ecc3-48dc-b0a0-2f5373a66624"
      },
      "source": [
        " n=int(input(\"enter a number:\"))\n",
        "for i in range(2,n):\n",
        "    de=1/i;\n",
        "    print(\"1/\",i,\"=\",de)"
      ],
      "execution_count": null,
      "outputs": [
        {
          "name": "stdout",
          "output_type": "stream",
          "text": [
            "enter a number:5\n",
            "1/ 2 = 0.5\n",
            "1/ 3 = 0.3333333333333333\n",
            "1/ 4 = 0.25\n"
          ]
        }
      ]
    },
    {
      "cell_type": "markdown",
      "metadata": {
        "id": "fedAZwC0i6tG"
      },
      "source": [
        " **AIM**:\n",
        " \n",
        "c) Write a program using a for loop that loops over a sequence. What is sequence?\n",
        " \n",
        "**DESCRIPTION**:\n",
        " \n",
        "For Loop: For loops can iterate over a sequence of numbers using the \"range\" and \"xrange\" functions. The difference between range and xrange is that the range function returns a new list with numbers of that specified range, whereas xrange returns an iterator, which is more efficient.\n",
        " \n",
        "The general format is\n",
        " \n",
        "for x in range(start,stop,step):\n",
        " \n",
        "statements"
      ]
    },
    {
      "cell_type": "code",
      "metadata": {
        "colab": {
          "base_uri": "https://localhost:8080/"
        },
        "id": "n-RxaEzZ9buU",
        "outputId": "af7cc35c-2faf-49df-f8b4-7984bc5bbfdc"
      },
      "source": [
        " #program using a for a loop that loops over a sequence\n",
        "print(\"loop sequence\")\n",
        "num=[45,25,2,28,3,25]\n",
        "for i in num:\n",
        "    print(i)\n",
        " \n",
        "#string sequence\n",
        "print(\"string sequence\")\n",
        "days=[\"sun\",\"mon\",\"tue\",\"wed\",\"thur\",\"fri\",\"st\"]\n",
        "for d in days:\n",
        "    print(d)\n",
        "    \n",
        "#bothh sequence\n",
        "print(\"sequence\")\n",
        "arr=[123,\"abc\",5.6,'h',-33,\"xy\",True]\n",
        "for x in arr:\n",
        "      print(x)"
      ],
      "execution_count": null,
      "outputs": [
        {
          "name": "stdout",
          "output_type": "stream",
          "text": [
            "loop sequence\n",
            "45\n",
            "25\n",
            "2\n",
            "28\n",
            "3\n",
            "25\n",
            "string sequence\n",
            "sun\n",
            "mon\n",
            "tue\n",
            "wed\n",
            "thur\n",
            "fri\n",
            "st\n",
            "sequence\n",
            "123\n",
            "abc\n",
            "5.6\n",
            "h\n",
            "-33\n",
            "xy\n",
            "True\n"
          ]
        }
      ]
    },
    {
      "cell_type": "markdown",
      "metadata": {
        "id": "1Xe-l05xjBwf"
      },
      "source": [
        " **AIM**:\n",
        " \n",
        "D) Write a program using a while loop that asks the user for a number, and prints a countdownfrom that number to zero.\n",
        " \n",
        "**DESCRIPTION**:\n",
        " \n",
        "While Loop is used to execute a block of statements repeatedly until a given condition is satisfied. And when the condition becomes false, the line immediately after the loop in the program is executed. While loop falls under the category of indefinite iteration\n",
        " \n",
        "The syntax for a while loop is:\n",
        " \n",
        "while [ condition]"
      ]
    },
    {
      "cell_type": "code",
      "metadata": {
        "id": "Hvi3kSiq9zO3"
      },
      "source": [
        " #countdown seq\n",
        "n=int(input(\"enter the numbr:\"))\n",
        "while n>0:\n",
        "      print(n)\n",
        "      n=n-1"
      ],
      "execution_count": null,
      "outputs": []
    },
    {
      "cell_type": "markdown",
      "metadata": {
        "id": "tmQsqLz697ZZ"
      },
      "source": [
        " EXCERCISE-4 a) Find the sum of all the primes below two million. Each new term in the Fibonacci sequence is generated by adding the previous two terms. Bystarting with 1 and 2, the first 10 terms will be: 1, 2, 3, 5, 8, 13, 21, 34, 55, 89, ...\n",
        " \n",
        "b) By considering the terms in the Fibonacci sequence whose values do not exceed four million,find the sum of the even-valued terms"
      ]
    },
    {
      "cell_type": "markdown",
      "metadata": {
        "id": "TWF6YcV_jJ-t"
      },
      "source": [
        " \n",
        " \n",
        "**AIM**:\n",
        " \n",
        "a) Find the sum of all the primes below two million. Each new term in the Fibonacci sequence is generated by adding the previous two terms. Bystarting with 1 and 2, the first 10 terms will be: 1, 2, 3, 5, 8, 13, 21, 34, 55, 89, ...\n",
        " \n",
        "**DESCRIPTION**:\n",
        " \n",
        "A Fibonacci sequence is the integer sequence of 0, 1, 1, 2, 3, 5, 8....\n",
        " \n",
        "The first two terms are 0 and 1. All other terms are obtained by adding the preceding two terms. This means to say the nth term is the sum of (n-1)th and (n-2)th term\n",
        " \n",
        "Here, we store the number of terms in nterms. We initialize the first term to 0 and the second term to 1.\n",
        " \n",
        "If the number of terms is more than 2, we use a while loop to find the next term in the sequence by adding the preceding two terms. We then interchange the variables (update it) and continue on with the process."
      ]
    },
    {
      "cell_type": "code",
      "metadata": {
        "colab": {
          "base_uri": "https://localhost:8080/"
        },
        "id": "Qes2MmgR-DSW",
        "outputId": "993e5f82-35af-4a67-c930-f98033f95e8e"
      },
      "source": [
        " n=int(input(\"enter   a num:\"))\n",
        "a=0\n",
        "b=1\n",
        "c=a+b\n",
        "st=\"\"\n",
        "sum=0\n",
        "con=0\n",
        "while con<=n:\n",
        "    st+=\"\"+str(c)\n",
        "    sum+=c        \n",
        "    a=b\n",
        "    b=c \n",
        "    c=a+b\n",
        "    con+=1\n",
        "print(st)\n",
        "print(\"sum of fibonacii series:\",sum)"
      ],
      "execution_count": null,
      "outputs": [
        {
          "name": "stdout",
          "output_type": "stream",
          "text": [
            "enter   a num:10\n",
            "123581321345589144\n",
            "sum of fibonacii series: 375\n"
          ]
        }
      ]
    },
    {
      "cell_type": "markdown",
      "metadata": {
        "id": "RDCP-yTNjXu3"
      },
      "source": [
        " **AIM**:\n",
        " \n",
        "b) By considering the terms in the Fibonacci sequence whose values do not exceed four million,find the sum of the even-valued terms.\n",
        " \n",
        "**DESCRIPTION**:\n",
        " \n",
        "A Fibonacci sequence is the integer sequence of 0, 1, 1, 2, 3, 5, 8....\n",
        " \n",
        "The first two terms are 0 and 1. All other terms are obtained by adding the preceding two terms. This means to say the nth term is the sum of (n-1)th and (n-2)th term\n",
        " \n",
        "Here, we store the number of terms in nterms. We initialize the first term to 0 and the second term to 1.\n",
        " \n",
        "If the number of terms is more than 2, we use a while loop to find the next term in the sequence by adding the preceding two terms. We then interchange the variables (update it) and continue on with the process."
      ]
    },
    {
      "cell_type": "code",
      "metadata": {
        "id": "v6-jW1QPjyrT"
      },
      "source": [
        " \n",
        "n=int(input(\"enter a number:\"))\n",
        "c=0\n",
        " \n",
        " \n",
        "st=\"\"\n",
        "sum=0\n",
        " \n",
        "for i in range(2,n):\n",
        " state=True\n",
        "for j in range(2,i):\n",
        " if(i%j==0):\n",
        "        state=False\n",
        "        break;\n",
        " if state==True:\n",
        "            st+=\"\"+str(i)\n",
        "            c+=1\n",
        "            sum+=i\n",
        " \n",
        "print(\"prime numbers\")\n",
        "print(st)\n",
        " \n",
        "print(\"total count of the prime numbers:\",c)\n",
        "print(\"sum of all prime nums:\",sum)"
      ],
      "execution_count": null,
      "outputs": []
    },
    {
      "cell_type": "markdown",
      "metadata": {
        "id": "FXf3548h-QN8"
      },
      "source": [
        " EXCERCISE-5\n",
        " \n",
        "DS\n",
        " \n",
        "Aim\n",
        " \n",
        "a) Write a program to count the numbers of characters in the string and store them in adictionary data structure\n",
        " \n",
        " \n",
        "DESCRIPTION:\n",
        " \n",
        " \n",
        "Given a string, the task is to find the frequencies of all the characters in that string and return a dictionary with key as the character and its value as its frequency in the given string.\n",
        "Method #1 : Naive method\n",
        "Simply iterate through the string and form a key in dictionary of newly occurred element or if element is already occurred, increase its value by 1.\n",
        "Method #2 : Using collections.Counter()\n",
        "The most suggested method that could be used to find all occurrences is this method, this actually gets all element frequency and could also be used to print single element frequency if required."
      ]
    },
    {
      "cell_type": "code",
      "metadata": {
        "colab": {
          "base_uri": "https://localhost:8080/"
        },
        "id": "mu-8UtsYJEcK",
        "outputId": "1dbeac0a-539e-498e-88de-2dd6701337c6"
      },
      "source": [
        " name=input(\"Enter a Name: \")\n",
        "dic={}\n",
        " \n",
        "for ch in name:\n",
        "    keys=dic.keys()\n",
        " \n",
        "    if(ch in keys):\n",
        "        dic[ch]=dic[ch]+1\n",
        "    else:\n",
        "        dic[ch]=1\n",
        " \n",
        "print(\"Dictionary is: \",dic)"
      ],
      "execution_count": null,
      "outputs": [
        {
          "name": "stdout",
          "output_type": "stream",
          "text": [
            "Enter a Name: Valli\n",
            "Dictionary is:  {'V': 1, 'a': 1, 'l': 2, 'i': 1}\n"
          ]
        }
      ]
    },
    {
      "cell_type": "markdown",
      "metadata": {
        "id": "ou2r6V59LGk-"
      },
      "source": [
        " AIM:\n",
        " \n",
        "b) Write a program to use split and join methods in the string and trace a birthday with adictionary data structure"
      ]
    },
    {
      "cell_type": "markdown",
      "metadata": {
        "id": "YsGs011zLPNM"
      },
      "source": [
        " DESCRIPTION:\n",
        " \n",
        "Python program to Split a string based on a delimiter and join the string using another delimiter.\n",
        "Split a string can be quite useful sometimes, especially when you need only certain parts of strings. A simple yet effective example is splitting the First-name and Last-name of a person. Another application is CSV(Comma Separated Files). We use split to get data from CSV and join to write data to CSV\n",
        " \n",
        ".\n",
        "In Python, we can use the function split() to split a string and\n",
        " \n",
        "join() to join a string."
      ]
    },
    {
      "cell_type": "code",
      "metadata": {
        "colab": {
          "base_uri": "https://localhost:8080/"
        },
        "id": "NWI75M4ZJgoZ",
        "outputId": "5693c900-6485-4174-b19c-dac41d8f0830"
      },
      "source": [
        " dob={\"Srivalli\":\"18-10-2006\",\"naga\":\"19-03-2001\"}\n",
        " \n",
        "name=input(\"Which person DOB You Want: \")\n",
        "I=name.split()\n",
        "birth=\"\"\n",
        " \n",
        "for i in I:\n",
        "    if i in dob.keys():\n",
        "        pers=i\n",
        " \n",
        "print(\" \".join([pers,\"Birthday is\",dob[pers]]))"
      ],
      "execution_count": null,
      "outputs": [
        {
          "name": "stdout",
          "output_type": "stream",
          "text": [
            "Which person DOB You Want: naga\n",
            "naga Birthday is 19-03-2001\n"
          ]
        }
      ]
    },
    {
      "cell_type": "markdown",
      "metadata": {
        "id": "RsmF1ttC-qr9"
      },
      "source": [
        " EXERCISE-6\n",
        " \n",
        " DS - Continued\n",
        " \n",
        "a) Write a program combinelists that combines these lists into a dictionary.\n",
        " \n",
        "b) Write a program to count frequency of characters in a given file. Can you use characterfrequency to\n",
        "tell whether the given file is a Python program file, C program file or a text file?"
      ]
    },
    {
      "cell_type": "markdown",
      "metadata": {
        "id": "6UC4WO_84ELF"
      },
      "source": [
        " **AIM**:\n",
        " \n",
        "a) Write a program combinelists that combines these lists into a dictionary.\n",
        " \n",
        "**DESCRIPTION**:\n",
        " \n",
        "For this, simply declare a dictionary, and then run nested loop for both the lists and assign key and value pairs to from list values to dictionary.\n",
        " \n",
        "Most pythonic and generic method to perform this very task is by using zip(). This function pairs the list element with other list element at corresponding index in form of key-value pairs."
      ]
    },
    {
      "cell_type": "code",
      "metadata": {
        "colab": {
          "base_uri": "https://localhost:8080/"
        },
        "id": "6UPWaP1j-333",
        "outputId": "d407b81e-cbb9-4611-b042-febcbd2c861a"
      },
      "source": [
        " sub=[\"daa\",\"os\",\"dbms\",\"p&s\",\"ppl\",\"se\"]\n",
        "marks=[85,96,75,65,83,56]\n",
        "print(sub)\n",
        "print(marks)\n",
        "dic=dict(zip(sub,marks))\n",
        "print(dic)"
      ],
      "execution_count": null,
      "outputs": [
        {
          "name": "stdout",
          "output_type": "stream",
          "text": [
            "['daa', 'os', 'dbms', 'p&s', 'ppl', 'se']\n",
            "[85, 96, 75, 65, 83, 56]\n",
            "{'daa': 85, 'os': 96, 'dbms': 75, 'p&s': 65, 'ppl': 83, 'se': 56}\n"
          ]
        }
      ]
    },
    {
      "cell_type": "markdown",
      "metadata": {
        "id": "WWR7yXH34PAL"
      },
      "source": [
        " **AIM**:\n",
        " \n",
        "b) Write a program to count frequency of characters in a given file. Can you use characterfrequency to tell whether the given file is a Python program file, C program file or a text file?\n",
        " \n",
        "**DESCRIPTION**:\n",
        " \n",
        "approaches to count the number of times a letter appears in a text file in Python.\n",
        " \n",
        "Method 1: Using the in-built count() method.\n",
        " \n",
        "Approach:\n",
        " \n",
        "Read the file.\n",
        "Store the content of the file in a variable.\n",
        "Use the count() method with the argument as a letter whose frequency is required.\n",
        "Display the count of the letter."
      ]
    },
    {
      "cell_type": "code",
      "metadata": {
        "id": "pYKesq6x-9u2"
      },
      "source": [
        " filetypes=['.py','.c','.txt']\n",
        "fn=input(\"enter a file name:\")\n",
        "f=open(fn,\"r\")\n",
        "count=dict()\n",
        "for  ft in filetypes:\n",
        "     if(ft in  fn):\n",
        "           if(ft==\".py\"):\n",
        "             print(\"python file\")\n",
        "           elif(ft==\".c\"):\n",
        "             print(\"cfile\")\n",
        "           elif(ft==\".txt\"):\n",
        "             print(\"text file\")\n",
        " \n",
        " \n",
        "for line in f:\n",
        "     for ch in line:\n",
        "          if ch in count:\n",
        "               count[ch]=count[ch]+1\n",
        " \n",
        "          else:\n",
        "              count[ch]=1\n",
        " \n",
        " \n",
        "print(count)\n",
        "f.close()"
      ],
      "execution_count": null,
      "outputs": []
    },
    {
      "cell_type": "markdown",
      "metadata": {
        "id": "emG4FHll_HF0"
      },
      "source": [
        " EXCERCISE-7\n",
        " \n",
        "7 Files\n",
        " \n",
        "a) Write a program to print each line of a file in reverse order.\n",
        " \n",
        "b) Write a program to compute the number of characters, words and lines in a file."
      ]
    },
    {
      "cell_type": "markdown",
      "metadata": {
        "id": "DH1q0Ead4eKl"
      },
      "source": [
        " **AIM**\n",
        " \n",
        "a) Write a program to print each line of a file in reverse order.\n",
        " \n",
        "**DESCRIPTION**:\n",
        " \n",
        "The file handling plays an important role when the data needs to be stored permanently into the file. A file is a named location on disk to store related information. We can access the stored information (non-volatile) after the program termination. In Python, files are treated in two modes as text or binary. The file may be in the text or binary format, and each line of a file is ended with the special character. Hence, a file operation can be done in the following order.\n",
        " \n",
        " Open a file\n",
        " \n",
        " Read or write - Performing operation\n",
        " \n",
        " Close the file"
      ]
    },
    {
      "cell_type": "code",
      "metadata": {
        "id": "YTu-FYJb5s0B"
      },
      "source": [
        " obj=open(\"/abcd.txt\",\"r\")\n",
        "if obj:\n",
        "  st=obj.read()\n",
        "  print(\"File content is:\\n\",st)\n",
        "obj.close()\n",
        "print()\n",
        "lines=st.split('\\n')\n",
        "for ln in lines:\n",
        "  i=len(ln)-1\n",
        "  while(i>=0):\n",
        "    print(ln[i],end=\"\")\n",
        "    i=i-1\n",
        "  print()"
      ],
      "execution_count": null,
      "outputs": []
    },
    {
      "cell_type": "markdown",
      "metadata": {
        "id": "CCJ9g1l16nOU"
      },
      "source": [
        " **AIM**:\n",
        " \n",
        "b) Write a program to compute the number of characters, words and lines in a file\n",
        " \n",
        "**DESCRIPTION**:\n",
        " \n",
        "Given a text file fname, the task is to count the total number of characters, words, spaces and lines in the file.\n",
        " \n",
        "As we know, Python provides multiple in-built features and modules for handling files. Let’s discuss different ways to calculate total number of characters, words, spaces and lines in a file using Python.\n",
        " \n",
        "Method #1: Naive approach\n",
        " \n",
        "In this approach, the idea is to solve the task by developing our own logic. Without using any built-in function of Python, the total number of characters, words, spaces and lines of the file will be calculated.\n",
        " \n",
        "Method #2: Using some built-in functions and OS module functions\n",
        " \n",
        "In this approach, the idea is to use the os.linesep() method of OS module to separate the lines on the current platform. When the interpreter’s scanner encounter os.linesep it replaces it with \\n character. After that strip() and split() functions will be used to carry out the task."
      ]
    },
    {
      "cell_type": "code",
      "metadata": {
        "id": "7sAjA5t__aDI"
      },
      "source": [
        " obj=open(\"sam.txt\",\"r\")\n",
        "if obj:\n",
        "    st=obj.read()\n",
        "    print(\"file content is:\")\n",
        "obj.close()\n",
        "print()\n",
        "nc=nw=nl=0\n",
        "for ch in st:\n",
        "    if(ch):\n",
        "        nc=nc+1\n",
        "    if(ch==''):\n",
        "        nw=nw+1\n",
        "    if(ch=='\\n'):\n",
        "        nl=nl+1\n",
        " \n",
        "print(\"number of characters in a file:\",nc)\n",
        "print(\"number of words in file is:\",nw)\n",
        "print(\"number of lines ins file:\",nl)"
      ],
      "execution_count": null,
      "outputs": []
    },
    {
      "cell_type": "markdown",
      "metadata": {
        "id": "gmLWF79A_dtn"
      },
      "source": [
        " EXCERCISE-8\n",
        " \n",
        "8 Functions'\n",
        " \n",
        "a) Write a function ball collide that takes two balls as parameters and computes if they arecolliding. Your function should return a Boolean representing whether or not the balls arecolliding. Hint: Represent a ball on a plane as a tuple of (x, y, r), r being the radius If (distance between two balls centers) <= (sum of their radii) then (they are colliding)\n",
        " \n",
        "b) Find mean, median, mode for the given set of numbers in a list."
      ]
    },
    {
      "cell_type": "markdown",
      "metadata": {
        "id": "sn8yvKfu7CSm"
      },
      "source": [
        " **AIM**:\n",
        " \n",
        "a) Write a function ball collide that takes two balls as parameters and computes if they arecolliding. Your function should return a Boolean representing whether or not the balls arecolliding.\n",
        " \n",
        "Hint: Represent a ball on a plane as a tuple of (x, y, r), r being the radius If (distance between two balls centers) <= (sum of their radii) then (they are colliding)\n",
        " \n",
        "**DESCRIPTION**\n",
        " \n",
        "Functions A function in python is a block of code that is defined for doing frequent operations in a particular task. The general format is\n",
        " \n",
        "def Functionname(arguments):\n",
        " \n",
        "  Statements\n",
        "Calling a Function:\n",
        " \n",
        "A function can be called by its name followed by arguments within parenthesis.\n",
        " \n",
        "function()"
      ]
    },
    {
      "cell_type": "code",
      "metadata": {
        "colab": {
          "base_uri": "https://localhost:8080/"
        },
        "id": "fcqqvrPP_r0h",
        "outputId": "58083a4d-6396-494e-be4c-8c489aea1571"
      },
      "source": [
        " import math\n",
        "def ballcollide(b1tup,b2tup):\n",
        "    x1=b1tup[0]\n",
        "    y1=b1tup[1]\n",
        "    x2=b2tup[0]\n",
        "    y2=b2tup[1]\n",
        "    r1=b1tup[2]\n",
        "    r2=b2tup[2]\n",
        " \n",
        " \n",
        "    d=math.sqrt((x2-x1)**2+(y2-y1)**2)\n",
        "    if(d<=r1+r2):\n",
        "      return True\n",
        "    else:\n",
        "        return False\n",
        " \n",
        " \n",
        "ball1=(1,2,3)\n",
        "ball2=(3,2,1)\n",
        "c=ballcollide(ball1,ball2)\n",
        "if(c):\n",
        "    print(\"balls are collided\")\n",
        "else:\n",
        "    print(\"ball are not collided\")"
      ],
      "execution_count": null,
      "outputs": [
        {
          "name": "stdout",
          "output_type": "stream",
          "text": [
            "balls are collided\n"
          ]
        }
      ]
    },
    {
      "cell_type": "markdown",
      "metadata": {
        "id": "om6HqoPU7YLi"
      },
      "source": [
        " **AIM**:\n",
        " \n",
        "b) Find mean, median, mode for the given set of numbers in a list\n",
        " \n",
        "**DESCRIPTION**\n",
        " \n",
        "**Mean** : The mean is the average of all numbers and is sometimes called the arithmetic mean. This code calculates Mean or Average of a list containing numbers:\n",
        " \n",
        "**Median** : The median is the middle number in a group of numbers. This code calculates Median of a list containing numbers:\n",
        " \n",
        "**Mode** : The mode is the number that occurs most often within a set of numbers. This code calculates Mode of a list containing numbers:\n",
        " \n",
        "We will import Counter from collections library which is a built-in module in Python 2 and 3. This module will help us count duplicate elements in a list. We define a list of numbers and calculate the length of the list. We then call Counter (a dict subclass) which helps to count hashable objects, and we then convert it to dict object. We then initialize a list with a For Loop to compare all the dict values (Number of elements) to the max of all dict values (count of most occurring element) and it returns all the elements equal to max count. If the elements returned are equal to the number of total elements in a list then we print out ‘No mode’, else we print out the modes returned."
      ]
    },
    {
      "cell_type": "code",
      "metadata": {
        "colab": {
          "base_uri": "https://localhost:8080/"
        },
        "id": "3p9UreHj_zDO",
        "outputId": "26b7674f-cb28-4279-9dd7-ca3969f046c8"
      },
      "source": [
        " def mean(numlist):\n",
        "    return sum(numlist)/len(numlist)\n",
        "def median(numlist):\n",
        "    numlist.sort()\n",
        "    print(numlist)\n",
        "    n=len(numlist)\n",
        "    print(\"total\",n)\n",
        "    mid=n//2\n",
        "    print(\"mid:\",mid)\n",
        "    if(n%2==0):\n",
        "        return numlist[mid]\n",
        "    else:\n",
        "        return (numlist[mid-1]+numlist[mid])/2\n",
        "def mode(numlist):\n",
        "    numlist.sort()\n",
        "    temp=[]\n",
        "    i=0\n",
        "    while i<len(numlist):\n",
        "        temp.append(numlist.count(numlist[i]))\n",
        "        i+=1\n",
        "    dic=dict(zip(numlist,temp))\n",
        "    modes={k for k, v in dic.items() if(v==max(temp))}\n",
        "    return modes\n",
        "list=[1,1,2,2,3,4,5,3,3]\n",
        "print(\"mean of guive list:\",mean(list))\n",
        "print(\"median of guive list:\",median(list))\n",
        " \n",
        "print(\"mode of guive list:\",mode(list))"
      ],
      "execution_count": null,
      "outputs": [
        {
          "name": "stdout",
          "output_type": "stream",
          "text": [
            "mean of guive list: 2.6666666666666665\n",
            "[1, 1, 2, 2, 3, 3, 3, 4, 5]\n",
            "total 9\n",
            "mid: 4\n",
            "median of guive list: 2.5\n",
            "mode of guive list: {3}\n"
          ]
        }
      ]
    },
    {
      "cell_type": "markdown",
      "metadata": {
        "id": "1mXtWHLy_8rf"
      },
      "source": [
        " Exercise - 9\n",
        " \n",
        " Functions - Continued\n",
        " \n",
        "a) Write a function nearly equal to test whether two strings are nearly equal. Two strings a and bare nearly equal when a can be generated by a single mutation on b.\n",
        " \n",
        "b) Write a function dup to find all duplicates in the list.\n",
        " \n",
        "c) Write a function unique to find all the unique elements of a list."
      ]
    },
    {
      "cell_type": "markdown",
      "metadata": {
        "id": "Bhdx2Asu7jeG"
      },
      "source": [
        " **AIM**:\n",
        " \n",
        "a) Write a function nearly equal to test whether two strings are nearly\n",
        " \n",
        "**DESCRIPTION**:\n",
        " \n",
        "**strlen**() function is used to check wether the two string are nearly equal or not by basis of the Length of those Strings\n",
        " \n",
        "len(**bold text**) function is an inbuilt function in Python programming language that returns the length of the string.\n",
        " \n",
        "**len**() is a built-in function in python.You can use the len() to get the length of the given string, array, list, tuple, dictionary, etc.\n",
        " \n",
        "**Value**: the given value you want the length of.\n",
        " \n",
        "Return value a return an integer value i.e. the length of the given string, or array, or list, or collections.\n",
        " \n",
        "Syntax:\n",
        " \n",
        "len(string)"
      ]
    },
    {
      "cell_type": "code",
      "metadata": {
        "colab": {
          "base_uri": "https://localhost:8080/"
        },
        "id": "5VvF-STbAfX1",
        "outputId": "839d603a-1492-482f-ab11-c7a83f03046c"
      },
      "source": [
        " def nearlyeq(str1,str2):\n",
        "    count=0\n",
        "    i=j=0\n",
        "    ss=0\n",
        "    while(i<len(str1)and j<len(str2)):\n",
        "        if(str1[i]!=str2[j]):\n",
        "            count+=1\n",
        "        if(len(str1)>len(str2)):\n",
        "            i+=1\n",
        " \n",
        "        elif(len(str1)==len(str2)):\n",
        "            pass\n",
        "        else:\n",
        "            i-=1     \n",
        "        if(count>1):\n",
        "             ss-=1\n",
        "             \n",
        "        i+=1\n",
        "        j+=1\n",
        "        if(count<2):\n",
        "             ss+=1\n",
        " \n",
        "    return ss\n",
        "s1=input(\"enter a string 1:\")\n",
        "s2=input(\"enter the string2:\")\n",
        "t=nearlyeq(s1,s2)\n",
        "if(t>1):\n",
        "    print(\"neraly equal0\")\n",
        "else:\n",
        "    print(\"not nearly equal\")"
      ],
      "execution_count": null,
      "outputs": [
        {
          "name": "stdout",
          "output_type": "stream",
          "text": [
            "enter a string 1:Valli\n",
            "enter the string2:Sri\n",
            "not nearly equal\n"
          ]
        }
      ]
    },
    {
      "cell_type": "markdown",
      "metadata": {
        "id": "bjuyPNyO70Pw"
      },
      "source": [
        " **AIM**:\n",
        " \n",
        "b) Write a function dup to find all duplicates in the list.\n",
        " \n",
        "**DESCRIPTION**:\n",
        " \n",
        "To check if a list contains any duplicate element follow the following steps,\n",
        " \n",
        "Add the contents of list in a set.\n",
        " \n",
        " As set contains only unique elements, so no duplicates will be added   the the set.\n",
        "Compare the size of set and list.\n",
        " \n",
        "     If size of list & set is equal then it means no duplicates in list.\n",
        " \n",
        "If size of list & set are different then it means yes, there are duplicates in list."
      ]
    },
    {
      "cell_type": "code",
      "metadata": {
        "colab": {
          "base_uri": "https://localhost:8080/"
        },
        "id": "y3fImqfUAkm0",
        "outputId": "9d8fdeba-eccb-486b-c74a-7fd478558755"
      },
      "source": [
        " def dup(list):\n",
        "  list1=[]\n",
        "  for i in list:\n",
        "    count=list.count(i)\n",
        "    if(count>1 and (i not in list1)):\n",
        "        list1.append(i)\n",
        "        \n",
        "  print(\"the dups int he list are:\",list1)        \n",
        "list2=[1,2,1,2]\n",
        " \n",
        "dup(list2)"
      ],
      "execution_count": null,
      "outputs": [
        {
          "name": "stdout",
          "output_type": "stream",
          "text": [
            "the dups int he list are: [1, 2]\n"
          ]
        }
      ]
    },
    {
      "cell_type": "markdown",
      "metadata": {
        "id": "HmMvurOv8Auq"
      },
      "source": [
        " **AIM**:\n",
        " \n",
        "c) Write a function unique to find all the unique elements of a list.\n",
        " \n",
        "**DESCRIPTION**:\n",
        " \n",
        "To find the unique in the list .There is a Specific Method i.e.,\n",
        " \n",
        "Method : Traversal of list\n",
        " \n",
        "Using traversal, we can traverse for every element in the list and check if the element is in the unique_list already if it is not over there, then we can append it in the unique_list.\n",
        " \n",
        "This is done using one for loop and other if statement which check if the value is in the unique list or not which is equivalent to another for loop."
      ]
    },
    {
      "cell_type": "code",
      "metadata": {
        "colab": {
          "base_uri": "https://localhost:8080/"
        },
        "id": "UHgZLpS9AmMm",
        "outputId": "fc717cda-72ce-4778-8312-0ccf210f0649"
      },
      "source": [
        " def unique(list1):\n",
        "  list2={}\n",
        " \n",
        "  for i in list1:\n",
        "    c=list1.count(i)\n",
        "    if c==1:\n",
        "      list2[i]=c\n",
        "  print(\"the unique elements in the list are:\",list2)\n",
        " \n",
        "list=[1,2,3,45,45,6,88,88,9]\n",
        "unique(list)"
      ],
      "execution_count": null,
      "outputs": [
        {
          "name": "stdout",
          "output_type": "stream",
          "text": [
            "the unique elements in the list are: {1: 1, 2: 1, 3: 1, 6: 1, 9: 1}\n"
          ]
        }
      ]
    },
    {
      "cell_type": "markdown",
      "metadata": {
        "id": "5FmmBVhcAxN6"
      },
      "source": [
        " Exercise - 10 \n",
        " \n",
        "- Functions - Problem Solving\n",
        " \n",
        "a) Write a function cumulative product to compute cumulative product of a list of numbers.\n",
        " \n",
        "b) Write a function reverse to reverse a list. Without using the reverse function.\n",
        " \n",
        "c) Write function to compute gcd, lcm of two numbers. Each function shouldn’t exceed one line"
      ]
    },
    {
      "cell_type": "markdown",
      "metadata": {
        "id": "lgw75bGd8Hjh"
      },
      "source": [
        " **AIM**:\n",
        " \n",
        "a) Write a function cumulative product to compute cumulative product of a list of numbers.\n",
        " \n",
        "**DESCRIPTION**:\n",
        " \n",
        "A cumulative product is a sequence of partial products of a given sequence. For example, the cumulative products of the sequence. , are , , .. Cumulative products can be implemented in the Wolfram Language as Rest[FoldList[Times, 1, list]]\n",
        " \n",
        "cumprod(A,1) works on successive elements in the columns of A and returns the cumulative products of each column. cumprod(A,2) works on successive elements in the rows of A and returns the cumulative products of each row.\n",
        " \n",
        "umprod() function is used when we want to compute the cumulative product of array elements over a given axis. Syntax : numpy.cumprod(arr, axis=None, dtype=None, out=None) Parameters : arr : [array_like] Array containing numbers whose cumulative product is desired."
      ]
    },
    {
      "cell_type": "code",
      "metadata": {
        "colab": {
          "base_uri": "https://localhost:8080/"
        },
        "id": "cqDtNzXVBA0w",
        "outputId": "0d98d7f1-1494-4b87-f6c2-8bd66fae05b9"
      },
      "source": [
        " def cumulative_product(list1,n):\n",
        "    list2=[]\n",
        "    i=0\n",
        "    list2.append(list1[i])\n",
        "    for i in range(1,n):\n",
        "        v=list1[i]*list2[i-1]\n",
        "        list2.append(v)\n",
        "        \n",
        "    print(list2)\n",
        "list3=[]\n",
        "n=int(input(\"enter size :\"))\n",
        "print(\"enter the data:\")\n",
        "for i in range(0,n):\n",
        "    x=int(input())\n",
        "    list3.append(x)\n",
        "cumulative_product(list3,n)"
      ],
      "execution_count": null,
      "outputs": [
        {
          "name": "stdout",
          "output_type": "stream",
          "text": [
            "enter size :3\n",
            "enter the data:\n",
            "7\n",
            "3\n",
            "5\n",
            "[7, 21, 105]\n"
          ]
        }
      ]
    },
    {
      "cell_type": "markdown",
      "metadata": {
        "id": "84AIuYwd8dfP"
      },
      "source": [
        " **AIM**:\n",
        " \n",
        "b) Write a function reverse to reverse a list. Without using the reverse function.\n",
        " \n",
        "**DESCRIPTION**:\n",
        " \n",
        "In this Python code snippet post, we are going to implement a list reverse function from the scratch without using any builtin functions.\n",
        " \n",
        "Let us see how…\n",
        " \n",
        "Iterative solution\n",
        " \n",
        "We can use a for loop to swap the first and last items, the second and the one before the last item and so on until the list is reversed in place. The number of iterations needed is half the list size. If the list has an odd number of items then the middle item will stay in its place."
      ]
    },
    {
      "cell_type": "code",
      "metadata": {
        "colab": {
          "base_uri": "https://localhost:8080/"
        },
        "id": "Vv5zQRqSBFl9",
        "outputId": "435b5688-9f85-486f-bd4d-612532cf8c30"
      },
      "source": [
        " def reverse_list(numlist):\n",
        "    temp=list1[::-1]\n",
        "    numlist=temp\n",
        "    return temp\n",
        "list1=[1,2,3,4]\n",
        "print(\"giiven list is :\",list1)\n",
        "print(\"after reverse function:\",reverse_list(list1))\n",
        "print(\"after list is:\",list1)"
      ],
      "execution_count": null,
      "outputs": [
        {
          "name": "stdout",
          "output_type": "stream",
          "text": [
            "giiven list is : [1, 2, 3, 4]\n",
            "after reverse function: [4, 3, 2, 1]\n",
            "after list is: [1, 2, 3, 4]\n"
          ]
        }
      ]
    },
    {
      "cell_type": "markdown",
      "metadata": {
        "id": "LLNmZ3Pg8mVD"
      },
      "source": [
        " **AIM**:\n",
        "\n",
        "c) Write function to compute gcd, lcm of two numbers. Each function shouldn’t exceed one line.\n",
        "\n",
        "DESCRIPTION:\n",
        "**bold text**\n",
        "Python provides you an anonymous function called lambda. It can take any number of arguments, but can only have one expression. It can be used to find LCM and GCD values without exceeding each from from one line.\n",
        "\n",
        "The general format is\n",
        "\n",
        "lambda arguments: expression\n",
        "\n",
        "The expression is executed during the function call and the result is returned.\n",
        "\n",
        "Lambda as a Function\n",
        "\n",
        "The power of using a lambda expression is implementing it using a function"
      ]
    },
    {
      "cell_type": "code",
      "metadata": {
        "colab": {
          "base_uri": "https://localhost:8080/"
        },
        "id": "8kaV5b6mBL9m",
        "outputId": "9dd8a3b8-7dd3-42df-d940-362a83c3e61a"
      },
      "source": [
        " gcd=lambda a,b: a if b==0 else gcd(a,a%b)\n",
        "lcm=lambda a,b: (a*b)/gcd(a,b)\n",
        " \n",
        "x=4\n",
        "y=24\n",
        "print(\"gcd=\",gcd(x,y))\n",
        "print(\"lcm=\",lcm(x,y))"
      ],
      "execution_count": null,
      "outputs": [
        {
          "name": "stdout",
          "output_type": "stream",
          "text": [
            "gcd= 4\n",
            "lcm= 24.0\n"
          ]
        }
      ]
    },
    {
      "cell_type": "markdown",
      "metadata": {
        "id": "1S7fvbydUrtj"
      },
      "source": [
        " Exercise 11:\n",
        " \n",
        " Multi-D Lists\n",
        " \n",
        "a)Write a program that defines a matrix and prints.\n",
        " \n",
        "b) write a program to perform addition of two square matrices\n",
        " \n",
        "c) write a program to perform multiplication of two square matrices"
      ]
    },
    {
      "cell_type": "markdown",
      "metadata": {
        "id": "lXYHXBm11pjJ"
      },
      "source": [
        " **AIM**:\n",
        " \n",
        "a) Write a program that defines a matrix and prints\n",
        " \n",
        "**DESCRIPTION**:\n",
        " \n",
        "Lists are a very widely use data structure in python. They contain a list of elements separated by comma. But sometimes lists can also contain lists within them. These are called nested lists or multidimensional lists. In this article we will see how to create and access elements in a multidimensional list.\n",
        " \n",
        "Methods on Multidimensional lists\n",
        " \n",
        "append(): Adds an element at the end of the list.\n",
        " \n",
        "extend(): Add the elements of a list (or any iterable), to the end of the current list.\n",
        " \n",
        "reverse(): Reverses the order of the list."
      ]
    },
    {
      "cell_type": "code",
      "metadata": {
        "colab": {
          "base_uri": "https://localhost:8080/"
        },
        "id": "Fh-Jq0AQU7Df",
        "outputId": "d7e62a5a-9501-48cd-d824-36fa49317f68"
      },
      "source": [
        " matA=[[]]\n",
        "rows=int(input(\"Enter row size of matrix: \"))\n",
        "cols=int(input(\"Enter column size of matrix: \"))\n",
        "matA=[[int(input(\"Enter[%d,%d] value: \"%(i,j)))for j in range(cols)]for i in range(rows)]\n",
        "print(\"matrix is: \")\n",
        "for i in range(rows):\n",
        "  for j in range(cols):\n",
        "    print(matA[i][j],end='\\t')\n",
        "  print()"
      ],
      "execution_count": null,
      "outputs": [
        {
          "name": "stdout",
          "output_type": "stream",
          "text": [
            "Enter row size of matrix: 3\n",
            "Enter column size of matrix: 3\n",
            "Enter[0,0] value: 1\n",
            "Enter[0,1] value: 2\n",
            "Enter[0,2] value: 3\n",
            "Enter[1,0] value: 4\n",
            "Enter[1,1] value: 5\n",
            "Enter[1,2] value: 6\n",
            "Enter[2,0] value: 7\n",
            "Enter[2,1] value: 8\n",
            "Enter[2,2] value: 9\n",
            "matrix is: \n",
            "1\t2\t3\t\n",
            "4\t5\t6\t\n",
            "7\t8\t9\t\n"
          ]
        }
      ]
    },
    {
      "cell_type": "markdown",
      "metadata": {
        "id": "xV58yTxw2PJh"
      },
      "source": [
        " **AIM**:\n",
        " \n",
        "b) Write a program to perform addition of two square matrices\n",
        " \n",
        "**DESCRIPTION**:\n",
        " \n",
        "We can perform matrix addition in following ways in Python.\n",
        " \n",
        "Using for loop:\n",
        "Explanation :- In this program we have used nested for loops to iterate through each row and each column. At each point we add the corresponding elements in the two matrices and store it in the result.\n",
        " \n",
        "Using nested list comprehension :\n",
        " \n",
        "In Python, we can implement a matrix as nested list (list inside a list). We can treat each element as a row of the matrix.\n",
        " \n",
        "Explanation :-\n",
        " \n",
        "The output of this program is the same as above. We have used nested list comprehension to iterate through each element in the matrix. List comprehension allows us to write concise codes and we must try to use them frequently in Python. They are very helpful.\n",
        " \n",
        "uising zip function\n",
        "Explanation :\n",
        " \n",
        "The zip function accepts iterator i of each element(list) of matrix, mapping them, adding them using sum() and storing them in the map form."
      ]
    },
    {
      "cell_type": "code",
      "metadata": {
        "colab": {
          "base_uri": "https://localhost:8080/"
        },
        "id": "A8wMItwlVk16",
        "outputId": "e9c15513-9c6a-47c2-d336-90a2affd9e95"
      },
      "source": [
        " 4\n",
        "def matRead(r,c):\n",
        "  return[[int(input(\"[%d,%d]value:\"%(i,j)))for j in range(c)]for i in range(r)]\n",
        "def matDisp(mat,r,c):\n",
        "  for i in range(r):\n",
        "    for j in range(c):\n",
        "      print(mat[i][j],end='\\t')\n",
        "    print()\n",
        "matA=[[]]\n",
        "matB=[[]]       \n",
        "matSum=[[]]\n",
        "rows=int(input(\"Enter row size of the matrix: \"))\n",
        "cols=int(input(\"Enter column size of the matrix: \"))\n",
        "if rows==cols:\n",
        "  print(\"Enter Matrix-A elements: \")\n",
        "  matA=matRead(rows,cols)\n",
        " \n",
        "  print(\"Enter Matrix-B elements: \")\n",
        "  matB=matRead(rows,cols)\n",
        " \n",
        "  print(\"Matrix-A is: \")\n",
        "  matDisp(matA,rows,cols)\n",
        " \n",
        "  print(\"Matrix-B is: \")\n",
        "  matDisp(matB,rows,cols)\n",
        "  matSum=[[matA[i][j]+matB[i][j]for j in range(cols)]for i in range(rows)]\n",
        "  print(\"sum of matrices is: \")\n",
        "  matDisp(matSum,rows,cols)\n",
        "else:\n",
        "  print(\"Matrices addition is not possible\")"
      ],
      "execution_count": null,
      "outputs": [
        {
          "name": "stdout",
          "output_type": "stream",
          "text": [
            "Enter row size of the matrix: 2\n",
            "Enter column size of the matrix: 2\n",
            "Enter Matrix-A elements: \n",
            "[0,0]value:2\n",
            "[0,1]value:4\n",
            "[1,0]value:6\n",
            "[1,1]value:8\n",
            "Enter Matrix-B elements: \n",
            "[0,0]value:8\n",
            "[0,1]value:6\n",
            "[1,0]value:4\n",
            "[1,1]value:2\n",
            "Matrix-A is: \n",
            "2\t4\t\n",
            "6\t8\t\n",
            "Matrix-B is: \n",
            "8\t6\t\n",
            "4\t2\t\n",
            "sum of matrices is: \n",
            "10\t10\t\n",
            "10\t10\t\n"
          ]
        }
      ]
    },
    {
      "cell_type": "markdown",
      "metadata": {
        "id": "PFzF0Ow72vgA"
      },
      "source": [
        " **AIM**:\n",
        " \n",
        "c) Write a program to perform multiplication of two square\n",
        " \n",
        "**DESCRIPTION**:\n",
        " \n",
        "In Python, we can implement a matrix as nested list (list inside a list).\n",
        " \n",
        "We can treat each element as a row of the matrix.\n",
        " \n",
        "For example X = [[1, 2], [4, 5], [3, 6]] would represent a 3x2 matrix.\n",
        " \n",
        "The first row can be selected as X[0]. And, the element in first row, first column can be selected as X[0][0].\n",
        " \n",
        "Multiplication of two matrices X and Y is defined only if the number of columns in X is equal to the number of rows Y.\n",
        " \n",
        "If X is a n x m matrix and Y is a m x l matrix then, XY is defined and has the dimension n x l (but YX is not defined). Here are a couple of ways to implement matrix multiplication in Python."
      ]
    },
    {
      "cell_type": "code",
      "metadata": {
        "colab": {
          "base_uri": "https://localhost:8080/"
        },
        "id": "5WUs8vmbV3wa",
        "outputId": "57305d4e-53ea-4234-ccf2-b5e21b8473e8"
      },
      "source": [
        " def  matRead(r,c):  \n",
        "  return[[int(input(\"[%d,%d]value: \"%(i,j)))for j in range(c)]for i in range(r)]\n",
        "def matDisp(mat,r,c):\n",
        "  for i in range(r):\n",
        "    for j in range(c):\n",
        "      print(mat[i][j],end='\\t')\n",
        "matA=[[]]\n",
        "matB=[[]]\n",
        "matMul=[[]]\n",
        "rows=int(input(\"Enter row size of the Matrix: \"))\n",
        "cols=int(input(\"Enter column size of the Matrix: \"))\n",
        " \n",
        "if rows==cols:\n",
        "  print(\"Enter Matrix-A: \")\n",
        "  matA=matRead(rows,cols)\n",
        "  print(\" Enter Matrix-B: \")\n",
        "  matB=matRead(rows,cols)\n",
        " \n",
        "  matMul=[[0 for j in range(cols)]for i in range(rows)]\n",
        "  for i in range(rows):\n",
        "    for j in range(cols):\n",
        "      for k in range(cols):\n",
        "        matMul[i][j]+=matA[i][k]*matB[k][j]\n",
        "  print(\"Matrix-A is: \")\n",
        "  matDisp(matA,rows,cols)\n",
        " \n",
        "  print(\"Matrix-B is: \")\n",
        "  matDisp(matB,rows,cols)\n",
        " \n",
        "  print(\"Multiplication of matrices is: \")\n",
        "  matDisp(matMul,rows,cols)\n",
        "else:\n",
        "  print(\"Matrices Multiplication is not possible is\")"
      ],
      "execution_count": null,
      "outputs": [
        {
          "name": "stdout",
          "output_type": "stream",
          "text": [
            "Enter row size of the Matrix: 2\n",
            "Enter column size of the Matrix: 2\n",
            "Enter Matrix-A: \n",
            "[0,0]value: 1\n",
            "[0,1]value: 2\n",
            "[1,0]value: 3\n",
            "[1,1]value: 4\n",
            " Enter Matrix-B: \n",
            "[0,0]value: 4\n",
            "[0,1]value: 3\n",
            "[1,0]value: 2\n",
            "[1,1]value: 1\n",
            "Matrix-A is: \n",
            "1\t2\t3\t4\tMatrix-B is: \n",
            "4\t3\t2\t1\tMultiplication of matrices is: \n",
            "8\t5\t20\t13\t"
          ]
        }
      ]
    },
    {
      "cell_type": "markdown",
      "metadata": {
        "id": "npYoeWZoWICY"
      },
      "source": [
        " Exercise 12\n",
        " \n",
        "-Modules\n",
        " \n",
        "a) Install package requests,flasks and explore them.using(pip)\n",
        " \n",
        "b) write a script that imports requests and fetch content from the page.Eg(wiki)\n",
        " \n",
        "c) write a simple script that serves a simple HTTPResponse and simple HTML page"
      ]
    },
    {
      "cell_type": "markdown",
      "metadata": {
        "id": "lq4gE6Lr3KLR"
      },
      "source": [
        " **AIM**:\n",
        " \n",
        "a) Install packages requests,flask and explore them using(pip)\n",
        " \n",
        "**DESCRIPTION**:\n",
        " \n",
        "Installing the pip Python package manager on Windows If you are on Windows, and your installed Python the current version, you already have pip! If your Python installation is not the most recent, the easiest thing to do is to simply reinstall it. Download the Python Windows installer at https://www.python.org/downloads/.\n",
        " \n",
        "In Windows, the variable that controls which programs are accessible from the command line is path. To modify your path to include Python and pip, we have to add C:\\Python27 and C:\\Python27\\Tools. Edit the Windows path by opening the Windows menu, right-clicking on Computer and clicking on Properties. Under Advanced system settings, click Environment Variables.... Scroll down until you find Path, double-click it, and add ;C:\\Python27;C:\\Python27\\Tools to the end.\n",
        " \n",
        "Installing packages:\n",
        " \n",
        "Suppose you want to install a package called requests (which is used to make HTTP requests). You need to issue the following command.\n",
        " \n",
        "pip install requests\n",
        " \n",
        "show installed packages\n",
        " \n",
        "You can use the following command to get information about a installed package, i.e Package name, version, location, dependencies.\n",
        " \n",
        "pip show package_name\n",
        " \n",
        "install flask\n",
        " \n",
        "On Mac and Linux, because you are installing programs outside the user-owned folders, you might have to prepend sudo to the install commands. To install Flask, simply run this:\n",
        " \n",
        "$ pip install flask\n",
        " \n",
        "show installed flask\n",
        " \n",
        "You can use the following command to get information about a installed flask, i.e Package name, version, location, dependencies\n",
        " \n",
        "$ pip show flask\n",
        " \n",
        "PROGRAM:"
      ]
    },
    {
      "cell_type": "code",
      "metadata": {
        "id": "8PucvfyF3Ts1"
      },
      "source": [
        " \n",
        "The requests and flask packages are download from internet using the following commands.\n",
        "C:\\python3.9\\scripts>pip install requests\n",
        " \n",
        "C:\\python3.9\\scripts>pip show requests\n",
        " \n",
        "C:\\python3.9\\scripts>pip install flask\n",
        " \n",
        "C:\\python3.9\\scripts>pip show flask"
      ],
      "execution_count": null,
      "outputs": []
    },
    {
      "cell_type": "markdown",
      "metadata": {
        "id": "1HzDjsbA3eV1"
      },
      "source": [
        " **AIM**:\n",
        " \n",
        "b) Write a scripts that imports requests and fetch content from the page.Eg. (Wiki)code:\n",
        " \n",
        "**DESCRIPTION**:\n",
        " \n",
        "The Hypertext Transfer Protocol (HTTP) is an application protocol for distributed, collaborative, hypermedia information systems. HTTP is the foundation of data communication for the World Wide Web.\n",
        " \n",
        "Python requests\n",
        " \n",
        "Requests is a simple and elegant Python HTTP library. It provides methods for accessing Web resources via HTTP.\n",
        " \n",
        "Python requests reading a web page\n",
        " \n",
        "The get() method issues a GET request; it fetches documents identified by the given URL.\n",
        " \n",
        "PROGRAM:"
      ]
    },
    {
      "cell_type": "code",
      "metadata": {
        "colab": {
          "base_uri": "https://localhost:8080/"
        },
        "id": "fYp4NbC9IKzf",
        "outputId": "6bbdd68a-9acb-4fee-f89b-43e8b1e60c6b"
      },
      "source": [
        " import requests\n",
        " \n",
        "r=requests.get('https://www.google.com')\n",
        " \n",
        "print(\"Statuscode:\",r.status_code)\n",
        " \n",
        "print(\"Header Content:\",r.headers['content-type'])\n",
        "print(r.text)"
      ],
      "execution_count": null,
      "outputs": [
        {
          "name": "stdout",
          "output_type": "stream",
          "text": [
            "Statuscode: 200\n",
            "Header Content: text/html; charset=ISO-8859-1\n",
            "<!doctype html><html itemscope=\"\" itemtype=\"http://schema.org/WebPage\" lang=\"en\"><head><meta content=\"Search the world's information, including webpages, images, videos and more. Google has many special features to help you find exactly what you're looking for.\" name=\"description\"><meta content=\"noodp\" name=\"robots\"><meta content=\"text/html; charset=UTF-8\" http-equiv=\"Content-Type\"><meta content=\"/images/branding/googleg/1x/googleg_standard_color_128dp.png\" itemprop=\"image\"><title>Google</title><script nonce=\"huwIBq4NB6jdCnBnACo9Yw==\">(function(){window.google={kEI:'eon1YO7_CIPPwbkP99KNoA8',kEXPI:'0,772215,1,530320,56873,954,5105,206,4804,2316,383,246,5,1354,4936,315,1122515,1197747,144,391,328985,51223,16112,6060,11387,11240,17572,4858,1362,283,9008,3020,2824,1929,12835,4020,978,13228,3847,4192,6434,1138,13386,4516,2779,918,6674,1279,2212,530,149,1103,840,1983,213,4101,108,3406,606,2023,1777,520,14670,3228,2844,7,12354,5096,7877,5036,1483,1924,908,2,16265,432,3,1590,1,5445,148,11323,2652,4,1528,2301,1239,5803,74,1983,2627,2014,4067,7434,2110,1714,1012,2038,2658,4243,3114,30,13628,2305,638,37,1457,5588,3770,5993,770,665,5803,2554,992,3102,17,2239,882,6,908,3,1166,2375,1,5096,1,2,2,248,9361,1,1813,283,38,874,5992,1160,9458,1908,2,1394,756,769,8,1,1272,1715,2,3057,6155,627,4,32,4,2237,2,3148,4,683,442,342,254,56,4,434,2377,93,30,286,234,1780,1275,1076,460,3042,1576,3,472,1646,173,5550,3,310,53,677,75,569,516,1269,3425,3,1712,291,1440,33,58,849,1340,1,233,1145,3708,2,835,3,117,8,5348,13,1447,86,2347,1,12,3,1,725,585,236,227,1898,640,1,8,82,1,8,24,2302,394,74,894,1,2,343,683,6,123,900,1509,109,317,470,84,51,274,156,4,7,728,16,41,101,190,145,424,321,935,279,341,7,236,1140,1071,714,295,397,1809,37,475,2049,1224,533,5613027,194,32,220,59,5996810,2800696,882,444,1,2,80,1,1796,1,9,2,2551,1,748,141,795,563,1,4265,1,1,2,1331,3299,843,2609,155,17,13,72,139,4,2,20,2,169,13,19,46,5,39,96,548,29,2,2,1,2,1,2,2,7,4,1,2,2,2,2,2,2,312,41,513,186,1,1,158,3,2,2,2,2,2,4,2,3,3,233,36,21,23954702,2866027,1146349,26661,7,2307,338,3,1454,886,74,541,2038,210,682,771654',kBL:'rUkx'};google.sn='webhp';google.kHL='en';})();(function(){\n",
            "var f=this||self;var h,k=[];function l(a){for(var b;a&&(!a.getAttribute||!(b=a.getAttribute(\"eid\")));)a=a.parentNode;return b||h}function m(a){for(var b=null;a&&(!a.getAttribute||!(b=a.getAttribute(\"leid\")));)a=a.parentNode;return b}\n",
            "function n(a,b,c,d,g){var e=\"\";c||-1!==b.search(\"&ei=\")||(e=\"&ei=\"+l(d),-1===b.search(\"&lei=\")&&(d=m(d))&&(e+=\"&lei=\"+d));d=\"\";!c&&f._cshid&&-1===b.search(\"&cshid=\")&&\"slh\"!==a&&(d=\"&cshid=\"+f._cshid);c=c||\"/\"+(g||\"gen_204\")+\"?atyp=i&ct=\"+a+\"&cad=\"+b+e+\"&zx=\"+Date.now()+d;/^http:/i.test(c)&&\"https:\"===window.location.protocol&&(google.ml&&google.ml(Error(\"a\"),!1,{src:c,glmm:1}),c=\"\");return c};h=google.kEI;google.getEI=l;google.getLEI=m;google.ml=function(){return null};google.log=function(a,b,c,d,g){if(c=n(a,b,c,d,g)){a=new Image;var e=k.length;k[e]=a;a.onerror=a.onload=a.onabort=function(){delete k[e]};a.src=c}};google.logUrl=n;}).call(this);(function(){\n",
            "google.y={};google.sy=[];google.x=function(a,b){if(a)var c=a.id;else{do c=Math.random();while(google.y[c])}google.y[c]=[a,b];return!1};google.sx=function(a){google.sy.push(a)};google.lm=[];google.plm=function(a){google.lm.push.apply(google.lm,a)};google.lq=[];google.load=function(a,b,c){google.lq.push([[a],b,c])};google.loadAll=function(a,b){google.lq.push([a,b])};google.bx=!1;google.lx=function(){};}).call(this);google.f={};(function(){\n",
            "document.documentElement.addEventListener(\"submit\",function(b){var a;if(a=b.target){var c=a.getAttribute(\"data-submitfalse\");a=\"1\"==c||\"q\"==c&&!a.elements.q.value?!0:!1}else a=!1;a&&(b.preventDefault(),b.stopPropagation())},!0);document.documentElement.addEventListener(\"click\",function(b){var a;a:{for(a=b.target;a&&a!=document.documentElement;a=a.parentElement)if(\"A\"==a.tagName){a=\"1\"==a.getAttribute(\"data-nohref\");break a}a=!1}a&&b.preventDefault()},!0);}).call(this);</script><style>#gbar,#guser{font-size:13px;padding-top:1px !important;}#gbar{height:22px}#guser{padding-bottom:7px !important;text-align:right}.gbh,.gbd{border-top:1px solid #c9d7f1;font-size:1px}.gbh{height:0;position:absolute;top:24px;width:100%}@media all{.gb1{height:22px;margin-right:.5em;vertical-align:top}#gbar{float:left}}a.gb1,a.gb4{text-decoration:underline !important}a.gb1,a.gb4{color:#00c !important}.gbi .gb4{color:#dd8e27 !important}.gbf .gb4{color:#900 !important}\n",
            "</style><style>body,td,a,p,.h{font-family:arial,sans-serif}body{margin:0;overflow-y:scroll}#gog{padding:3px 8px 0}td{line-height:.8em}.gac_m td{line-height:17px}form{margin-bottom:20px}.h{color:#1558d6}em{font-weight:bold;font-style:normal}.lst{height:25px;width:496px}.gsfi,.lst{font:18px arial,sans-serif}.gsfs{font:17px arial,sans-serif}.ds{display:inline-box;display:inline-block;margin:3px 0 4px;margin-left:4px}input{font-family:inherit}body{background:#fff;color:#000}a{color:#4b11a8;text-decoration:none}a:hover,a:active{text-decoration:underline}.fl a{color:#1558d6}a:visited{color:#4b11a8}.sblc{padding-top:5px}.sblc a{display:block;margin:2px 0;margin-left:13px;font-size:11px}.lsbb{background:#f8f9fa;border:solid 1px;border-color:#dadce0 #70757a #70757a #dadce0;height:30px}.lsbb{display:block}#WqQANb a{display:inline-block;margin:0 12px}.lsb{background:url(/images/nav_logo229.png) 0 -261px repeat-x;border:none;color:#000;cursor:pointer;height:30px;margin:0;outline:0;font:15px arial,sans-serif;vertical-align:top}.lsb:active{background:#dadce0}.lst:focus{outline:none}</style><script nonce=\"huwIBq4NB6jdCnBnACo9Yw==\"></script></head><body bgcolor=\"#fff\"><script nonce=\"huwIBq4NB6jdCnBnACo9Yw==\">(function(){var src='/images/nav_logo229.png';var iesg=false;document.body.onload = function(){window.n && window.n();if (document.images){new Image().src=src;}\n",
            "if (!iesg){document.f&&document.f.q.focus();document.gbqf&&document.gbqf.q.focus();}\n",
            "}\n",
            "})();</script><div id=\"mngb\"><div id=gbar><nobr><b class=gb1>Search</b> <a class=gb1 href=\"https://www.google.com/imghp?hl=en&tab=wi\">Images</a> <a class=gb1 href=\"https://maps.google.com/maps?hl=en&tab=wl\">Maps</a> <a class=gb1 href=\"https://play.google.com/?hl=en&tab=w8\">Play</a> <a class=gb1 href=\"https://www.youtube.com/?gl=US&tab=w1\">YouTube</a> <a class=gb1 href=\"https://news.google.com/?tab=wn\">News</a> <a class=gb1 href=\"https://mail.google.com/mail/?tab=wm\">Gmail</a> <a class=gb1 href=\"https://drive.google.com/?tab=wo\">Drive</a> <a class=gb1 style=\"text-decoration:none\" href=\"https://www.google.com/intl/en/about/products?tab=wh\"><u>More</u> &raquo;</a></nobr></div><div id=guser width=100%><nobr><span id=gbn class=gbi></span><span id=gbf class=gbf></span><span id=gbe></span><a href=\"http://www.google.com/history/optout?hl=en\" class=gb4>Web History</a> | <a  href=\"/preferences?hl=en\" class=gb4>Settings</a> | <a target=_top id=gb_70 href=\"https://accounts.google.com/ServiceLogin?hl=en&passive=true&continue=https://www.google.com/&ec=GAZAAQ\" class=gb4>Sign in</a></nobr></div><div class=gbh style=left:0></div><div class=gbh style=right:0></div></div><center><br clear=\"all\" id=\"lgpd\"><div id=\"lga\"><img alt=\"Google\" height=\"92\" src=\"/images/branding/googlelogo/1x/googlelogo_white_background_color_272x92dp.png\" style=\"padding:28px 0 14px\" width=\"272\" id=\"hplogo\"><br><br></div><form action=\"/search\" name=\"f\"><table cellpadding=\"0\" cellspacing=\"0\"><tr valign=\"top\"><td width=\"25%\">&nbsp;</td><td align=\"center\" nowrap=\"\"><input name=\"ie\" value=\"ISO-8859-1\" type=\"hidden\"><input value=\"en\" name=\"hl\" type=\"hidden\"><input name=\"source\" type=\"hidden\" value=\"hp\"><input name=\"biw\" type=\"hidden\"><input name=\"bih\" type=\"hidden\"><div class=\"ds\" style=\"height:32px;margin:4px 0\"><input class=\"lst\" style=\"margin:0;padding:5px 8px 0 6px;vertical-align:top;color:#000\" autocomplete=\"off\" value=\"\" title=\"Google Search\" maxlength=\"2048\" name=\"q\" size=\"57\"></div><br style=\"line-height:0\"><span class=\"ds\"><span class=\"lsbb\"><input class=\"lsb\" value=\"Google Search\" name=\"btnG\" type=\"submit\"></span></span><span class=\"ds\"><span class=\"lsbb\"><input class=\"lsb\" id=\"tsuid1\" value=\"I'm Feeling Lucky\" name=\"btnI\" type=\"submit\"><script nonce=\"huwIBq4NB6jdCnBnACo9Yw==\">(function(){var id='tsuid1';document.getElementById(id).onclick = function(){if (this.form.q.value){this.checked = 1;if (this.form.iflsig)this.form.iflsig.disabled = false;}\n",
            "else top.location='/doodles/';};})();</script><input value=\"AINFCbYAAAAAYPWXiu1VStvH1uR15olXpynNlJKRh_Aw\" name=\"iflsig\" type=\"hidden\"></span></span></td><td class=\"fl sblc\" align=\"left\" nowrap=\"\" width=\"25%\"><a href=\"/advanced_search?hl=en&amp;authuser=0\">Advanced search</a></td></tr></table><input id=\"gbv\" name=\"gbv\" type=\"hidden\" value=\"1\"><script nonce=\"huwIBq4NB6jdCnBnACo9Yw==\">(function(){\n",
            "var a,b=\"1\";if(document&&document.getElementById)if(\"undefined\"!=typeof XMLHttpRequest)b=\"2\";else if(\"undefined\"!=typeof ActiveXObject){var c,d,e=[\"MSXML2.XMLHTTP.6.0\",\"MSXML2.XMLHTTP.3.0\",\"MSXML2.XMLHTTP\",\"Microsoft.XMLHTTP\"];for(c=0;d=e[c++];)try{new ActiveXObject(d),b=\"2\"}catch(h){}}a=b;if(\"2\"==a&&-1==location.search.indexOf(\"&gbv=2\")){var f=google.gbvu,g=document.getElementById(\"gbv\");g&&(g.value=a);f&&window.setTimeout(function(){location.href=f},0)};}).call(this);</script></form><div id=\"gac_scont\"></div><div style=\"font-size:83%;min-height:3.5em\"><br></div><span id=\"footer\"><div style=\"font-size:10pt\"><div style=\"margin:19px auto;text-align:center\" id=\"WqQANb\"><a href=\"/intl/en/ads/\">Advertising Programs</a><a href=\"/services/\">Business Solutions</a><a href=\"/intl/en/about.html\">About Google</a></div></div><p style=\"font-size:8pt;color:#70757a\">&copy; 2021 - <a href=\"/intl/en/policies/privacy/\">Privacy</a> - <a href=\"/intl/en/policies/terms/\">Terms</a></p></span></center><script nonce=\"huwIBq4NB6jdCnBnACo9Yw==\">(function(){window.google.cdo={height:757,width:1440};(function(){\n",
            "var a=window.innerWidth,b=window.innerHeight;if(!a||!b){var c=window.document,d=\"CSS1Compat\"==c.compatMode?c.documentElement:c.body;a=d.clientWidth;b=d.clientHeight}a&&b&&(a!=google.cdo.width||b!=google.cdo.height)&&google.log(\"\",\"\",\"/client_204?&atyp=i&biw=\"+a+\"&bih=\"+b+\"&ei=\"+google.kEI);}).call(this);})();</script> <script nonce=\"huwIBq4NB6jdCnBnACo9Yw==\">(function(){google.xjs={ck:'',cs:'',excm:[],pml:false};})();</script>  <script nonce=\"huwIBq4NB6jdCnBnACo9Yw==\">(function(){var u='/xjs/_/js/k\\x3dxjs.hp.en_US.uG5gNub4OSM.O/m\\x3dsb_he,d/am\\x3dAHgCLA/d\\x3d1/ed\\x3d1/rs\\x3dACT90oE5mpOHNMzK1ifCe0jZfTofWVvTxQ';\n",
            "var e=this||self,f=function(a){return a};var g;var l=function(a,b){this.g=b===h?a:\"\"};l.prototype.toString=function(){return this.g+\"\"};var h={};function m(){var a=u;google.lx=function(){n(a);google.lx=function(){}};google.bx||google.lx()}\n",
            "function n(a){google.timers&&google.timers.load&&google.tick&&google.tick(\"load\",\"xjsls\");var b=document;var c=\"SCRIPT\";\"application/xhtml+xml\"===b.contentType&&(c=c.toLowerCase());c=b.createElement(c);if(void 0===g){b=null;var k=e.trustedTypes;if(k&&k.createPolicy){try{b=k.createPolicy(\"goog#html\",{createHTML:f,createScript:f,createScriptURL:f})}catch(p){e.console&&e.console.error(p.message)}g=b}else g=b}a=(b=g)?b.createScriptURL(a):a;a=new l(a,h);c.src=a instanceof l&&a.constructor===l?a.g:\"type_error:TrustedResourceUrl\";var d;a=(c.ownerDocument&&c.ownerDocument.defaultView||window).document;(d=(a=null===(d=a.querySelector)||void 0===d?void 0:d.call(a,\"script[nonce]\"))?a.nonce||a.getAttribute(\"nonce\")||\"\":\"\")&&c.setAttribute(\"nonce\",d);document.body.appendChild(c);google.psa=!0};setTimeout(function(){m()},0);})();(function(){window.google.xjsu='/xjs/_/js/k\\x3dxjs.hp.en_US.uG5gNub4OSM.O/m\\x3dsb_he,d/am\\x3dAHgCLA/d\\x3d1/ed\\x3d1/rs\\x3dACT90oE5mpOHNMzK1ifCe0jZfTofWVvTxQ';})();function _DumpException(e){throw e;}\n",
            "function _F_installCss(c){}\n",
            "(function(){google.jl={attn:false,blt:'none',chnk:0,dw:false,emtn:0,end:0,ine:false,lls:'default',pdt:0,rep:0,snet:true,strt:0,ubm:false,uwp:true};})();(function(){var pmc='{\\x22d\\x22:{},\\x22sb_he\\x22:{\\x22agen\\x22:true,\\x22cgen\\x22:true,\\x22client\\x22:\\x22heirloom-hp\\x22,\\x22dh\\x22:true,\\x22dhqt\\x22:true,\\x22ds\\x22:\\x22\\x22,\\x22ffql\\x22:\\x22en\\x22,\\x22fl\\x22:true,\\x22host\\x22:\\x22google.com\\x22,\\x22isbh\\x22:28,\\x22jsonp\\x22:true,\\x22msgs\\x22:{\\x22cibl\\x22:\\x22Clear Search\\x22,\\x22dym\\x22:\\x22Did you mean:\\x22,\\x22lcky\\x22:\\x22I\\\\u0026#39;m Feeling Lucky\\x22,\\x22lml\\x22:\\x22Learn more\\x22,\\x22oskt\\x22:\\x22Input tools\\x22,\\x22psrc\\x22:\\x22This search was removed from your \\\\u003Ca href\\x3d\\\\\\x22/history\\\\\\x22\\\\u003EWeb History\\\\u003C/a\\\\u003E\\x22,\\x22psrl\\x22:\\x22Remove\\x22,\\x22sbit\\x22:\\x22Search by image\\x22,\\x22srch\\x22:\\x22Google Search\\x22},\\x22ovr\\x22:{},\\x22pq\\x22:\\x22\\x22,\\x22refpd\\x22:true,\\x22rfs\\x22:[],\\x22sbas\\x22:\\x220 3px 8px 0 rgba(0,0,0,0.2),0 0 0 1px rgba(0,0,0,0.08)\\x22,\\x22sbpl\\x22:16,\\x22sbpr\\x22:16,\\x22scd\\x22:10,\\x22stok\\x22:\\x22cmeiR7LwZkiENX7MHBYfltOCumI\\x22,\\x22uhde\\x22:false}}';google.pmc=JSON.parse(pmc);})();</script>        </body></html>\n"
          ]
        }
      ]
    },
    {
      "cell_type": "markdown",
      "metadata": {
        "id": "vjiz0nDH3qZ_"
      },
      "source": [
        " **AIM**:\n",
        " \n",
        "c) Write a simple script that serves a simple HTTPResponse and Simple HTML page.\n",
        " \n",
        "**DESCRIPTION**:\n",
        " \n",
        "HTTP Protocol\n",
        " \n",
        "The most important part of a web server is HTTP protocol.So now we will see what exactly this is –\n",
        " \n",
        "It stands for Hyper Text Transfer Protocol.\n",
        " \n",
        "It is an application layer protocol that allows web based applications to communicate and exchange data.\n",
        " \n",
        "The HTTP is the messenger of web.\n",
        " \n",
        "The computer that communicate via the HTTP must speak the HTTP protocol.\n",
        " \n",
        "It is a TCP/IP based protocol.\n",
        " \n",
        "It is used to deliver contents, for eg. images, audios, videos, documents etc.\n",
        " \n",
        "Using HTTP is the most convenient way to quickly and reliably move data on the web.\n",
        " \n",
        "HTML stands for hypertext markup language. It is the standard markup language for web pages that define the structure of the content. These elements are the building blocks of any website"
      ]
    },
    {
      "cell_type": "code",
      "metadata": {
        "colab": {
          "base_uri": "https://localhost:8080/"
        },
        "id": "XdWEnyyF4MHv",
        "outputId": "f98614ce-849d-49d1-c5c2-6d583aadc6dd"
      },
      "source": [
        " from flask import Flask,render_template\n",
        "app=Flask(__name__)\n",
        "print(app)\n",
        "@app.route(\"/\")\n",
        "def main():\n",
        "  return render_template('login.html')\n",
        "  if __name__==\"__main__\":\n",
        "    app.run(host=\"127.0.0.1\",port=2500)"
      ],
      "execution_count": null,
      "outputs": [
        {
          "name": "stdout",
          "output_type": "stream",
          "text": [
            "<Flask '__main__'>\n"
          ]
        }
      ]
    },
    {
      "cell_type": "markdown",
      "metadata": {
        "id": "wOwjtyhYWQNM"
      },
      "source": [
        " Exercise 13- OOP\n",
        " \n",
        "a)Class variables and instance variables and illsustration of the self variable\n",
        " \n",
        "1)Robot"
      ]
    },
    {
      "cell_type": "markdown",
      "metadata": {
        "id": "N68QLN0U4UPx"
      },
      "source": [
        " **AIM**:\n",
        " \n",
        "a)class variables and instance variable and illustration of the self -variable\n",
        " \n",
        "**DESCRIPTION**:\n",
        " \n",
        "Variables are named storage location. In python variables are not defined by its type instead it will be automatically determined by the value assigned to it. To determine the type of a variable a function called type () is used.\n",
        " \n",
        "class variableis shared by all object instances of a class. ... They are not defined inside any methods of a class. Because a class variable is shared by instances of a class, the Python class owns the variable. As a result, all instances of the class will be able to access that variable\n",
        " \n",
        "Instance variables are owned by instances of the class. This means that for each object or instance of a class, the instance variables are different. ... Instance variables, owned by objects of the class, allow for each object or instance to have different values assigned to those variables\n",
        " \n",
        "self variable is used to bind the instance of the class to the instance method. We have to explicitly declare it as the first method argument to access the instance variables and methods. This variable is used only with the instance methods.\n",
        " \n",
        "PROGRAM:\n",
        " \n",
        "i)robot\n",
        " \n",
        " ii)atm"
      ]
    },
    {
      "cell_type": "code",
      "metadata": {
        "colab": {
          "base_uri": "https://localhost:8080/"
        },
        "id": "K3v1Dm6XWbnJ",
        "outputId": "06f7fb23-4e5f-441e-d824-72fa374c1e59"
      },
      "source": [
        " class Robot:\n",
        "    what=\"Machine\"\n",
        "    name=\"Chitti\"\n",
        "    version=1.0\n",
        "    speed=\"1THz\"\n",
        "    memory=\"1ZB\"\n",
        " \n",
        "    def update(upd):\n",
        "        upd.version=2.0\n",
        "        upd.speed=\"2THz\"\n",
        "        upd.memory=\"2ZB\"\n",
        " \n",
        "    def disp(self):\n",
        "        print(\"Myself is a\",robj.what)\n",
        "        print(\"MyName is a\",robj.name)\n",
        "        print(\"Version :\",robj.version)\n",
        "        print(\"Speed : \",robj.speed)\n",
        "        print(\"Memory: \",robj.memory)\n",
        " \n",
        "robj=Robot()\n",
        "robj.disp()\n",
        " \n",
        "print(\"---------------Update---------\")\n",
        "robj.update()\n",
        "robj.disp()"
      ],
      "execution_count": null,
      "outputs": [
        {
          "name": "stdout",
          "output_type": "stream",
          "text": [
            "Myself is a Machine\n",
            "MyName is a Chitti\n",
            "Version : 1.0\n",
            "Speed :  1THz\n",
            "Memory:  1ZB\n",
            "---------------Update---------\n",
            "Myself is a Machine\n",
            "MyName is a Chitti\n",
            "Version : 2.0\n",
            "Speed :  2THz\n",
            "Memory:  2ZB\n"
          ]
        }
      ]
    },
    {
      "cell_type": "markdown",
      "metadata": {
        "id": "MXCkYDM3WgxI"
      },
      "source": [
        " 2)ATM Machine"
      ]
    },
    {
      "cell_type": "code",
      "metadata": {
        "colab": {
          "base_uri": "https://localhost:8080/"
        },
        "id": "oWTBPlKOWldz",
        "outputId": "9a878156-5550-4f02-9d57-06b6a50880de"
      },
      "source": [
        " class ATM:\n",
        "    def __init__(self):\n",
        "        self.balance=0\n",
        "        print(\"New Account\")\n",
        "        \n",
        "    def enquire(self):\n",
        "        print(\"Balance: \",self.balance)\n",
        "        \n",
        "    def deposit(self):\n",
        "        amount=int(input(\"Enter the Deposit Amount:\"))\n",
        "        self.balance+=amount\n",
        "        self.enquire()\n",
        " \n",
        "    def withdraw(self):\n",
        "        amount=int(input(\"Enter the Withdraw Amount: \"))\n",
        "        if self.balance<amount:\n",
        "            print(\"Insufficient Balance.....!\")\n",
        "        else:\n",
        "            self.balance-=amount\n",
        "            self.enquire()\n",
        " \n",
        "aobj=ATM()\n",
        "while(True):\n",
        "    print(\"*****Menu****\")\n",
        "    print(\"1.Deposit\")\n",
        "    print(\"2.Withdarw\")\n",
        "    print(\"3.Balance\")\n",
        "    print(\"0.Exit\")\n",
        "    ch=int(input(\"Enter Your Choice: \"))\n",
        "    if ch==0:\n",
        "        break\n",
        "    elif ch==1:\n",
        "        aobj.deposit()\n",
        "    elif ch==2:\n",
        "        aobj.withdraw()\n",
        "    elif ch==3:\n",
        "        aobj.enquire()\n",
        "    else:\n",
        "        print(\"Invalid choice:\")\n",
        "        pass"
      ],
      "execution_count": null,
      "outputs": [
        {
          "name": "stdout",
          "output_type": "stream",
          "text": [
            "New Account\n",
            "*****Menu****\n",
            "1.Deposit\n",
            "2.Withdarw\n",
            "3.Balance\n",
            "0.Exit\n",
            "Enter Your Choice: 1\n",
            "Enter the Deposit Amount:1000\n",
            "Balance:  1000\n",
            "*****Menu****\n",
            "1.Deposit\n",
            "2.Withdarw\n",
            "3.Balance\n",
            "0.Exit\n",
            "Enter Your Choice: 2\n",
            "Enter the Withdraw Amount: 3000\n",
            "Insufficient Balance.....!\n",
            "*****Menu****\n",
            "1.Deposit\n",
            "2.Withdarw\n",
            "3.Balance\n",
            "0.Exit\n",
            "Enter Your Choice: 3\n",
            "Balance:  1000\n",
            "*****Menu****\n",
            "1.Deposit\n",
            "2.Withdarw\n",
            "3.Balance\n",
            "0.Exit\n",
            "Enter Your Choice: 4\n",
            "Invalid choice:\n",
            "*****Menu****\n",
            "1.Deposit\n",
            "2.Withdarw\n",
            "3.Balance\n",
            "0.Exit\n",
            "Enter Your Choice: 5\n",
            "Invalid choice:\n",
            "*****Menu****\n",
            "1.Deposit\n",
            "2.Withdarw\n",
            "3.Balance\n",
            "0.Exit\n",
            "Enter Your Choice: 0\n"
          ]
        }
      ]
    },
    {
      "cell_type": "markdown",
      "metadata": {
        "id": "DD8m1AEBW49l"
      },
      "source": [
        " Exercise14:\n",
        " \n",
        "GUI,Graphics\n",
        " \n",
        "1.Write a GUI for an Expression Calculator using tk.\n",
        " \n",
        "2.Write a program to implement the following figures using turtle"
      ]
    },
    {
      "cell_type": "markdown",
      "metadata": {
        "id": "-zYe0kLe48s4"
      },
      "source": [
        " **AIM**:\n",
        " \n",
        "a. Write a GUI for an Expression Calculator using tk\n",
        " \n",
        "**DESCRIPTION**:\n",
        " \n",
        "Tkinter is a Python package which comes with many functions and methods that can be used to create an application. In order to create a tkinter application, we generally create an instance of tkinter frame, i.e., Tk(). It helps to display the root window and manages all the other components of the tkinter application. We can initialize the tkinter instance by assigning the variable to it."
      ]
    },
    {
      "cell_type": "code",
      "metadata": {
        "id": "l3Q-jkjX5JGQ"
      },
      "source": [
        " \n",
        "from tkinter import *\n",
        " \n",
        "win = Tk() # to create a basic window\n",
        "win.geometry(\"312x324\")  #for the size of the window \n",
        "win.resizable(0, 0)  # to prevent from resizing the window\n",
        "win.title(\"Calculator\")\n",
        " \n",
        "# 'btn_click' Function continuously updates the \n",
        "# input field whenever you enters a number\n",
        " \n",
        "def btn_click(item):\n",
        "    global expression\n",
        "    expression = expression + str(item)\n",
        "    input_text.set(expression)\n",
        " \n",
        "# 'bt_clear' function : used to clear the input field\n",
        " \n",
        "def bt_clear(): \n",
        "    global expression \n",
        "    expression = \"\"\n",
        "    input_text.set(\"\")\n",
        " \n",
        "# 'bt_equal':calculates the expression present in input field\n",
        " \n",
        "def bt_equal():\n",
        "    global expression\n",
        "    result = str(eval(expression)) # 'eval':This function is used to evaluates the string expression directly\n",
        "    input_text.set(result)\n",
        "    expression = \"\"\n",
        " \n",
        "expression = \"\"\n",
        " \n",
        "# 'StringVar()' :used to get the instance of input field\n",
        " \n",
        "input_text = StringVar()\n",
        " \n",
        "# creating a frame for the input field\n",
        " \n",
        "input_frame = Frame(win, width=312, height=50, bd=0, highlightbackground=\"black\", highlightcolor=\"black\", highlightthickness=2)\n",
        " \n",
        "input_frame.pack(side=TOP)\n",
        " \n",
        "#create a input field inside the 'Frame'\n",
        " \n",
        "input_field = Entry(input_frame, font=('arial', 18, 'bold'), textvariable=input_text, width=50, bg=\"#eee\", bd=0, justify=RIGHT)\n",
        " \n",
        "input_field.grid(row=0, column=0)\n",
        " \n",
        "input_field.pack(ipady=10)\n",
        "# 'ipady' is internal padding to increase the height of input field\n",
        " \n",
        "#creating another 'Frame' for the button below the 'input_frame'\n",
        " \n",
        "btns_frame = Frame(win, width=312, height=272.5, bg=\"grey\")\n",
        " \n",
        "btns_frame.pack()\n",
        " \n",
        "# first row\n",
        " \n",
        "clear = Button(btns_frame, text = \"C\", fg = \"black\", width = 32, height = 3, bd = 0, bg = \"#eee\", cursor = \"hand2\", command = lambda: bt_clear()).grid(row = 0, column = 0, columnspan = 3, padx = 1, pady = 1)\n",
        " \n",
        "divide = Button(btns_frame, text = \"/\", fg = \"black\", width = 10, height = 3, bd = 0, bg = \"#eee\", cursor = \"hand2\", command = lambda: btn_click(\"/\")).grid(row = 0, column = 3, padx = 1, pady = 1)\n",
        " \n",
        "# second row\n",
        " \n",
        "seven = Button(btns_frame, text = \"7\", fg = \"black\", width = 10, height = 3, bd = 0, bg = \"#fff\", cursor = \"hand2\", command = lambda: btn_click(7)).grid(row = 1, column = 0, padx = 1, pady = 1)\n",
        " \n",
        "eight = Button(btns_frame, text = \"8\", fg = \"black\", width = 10, height = 3, bd = 0, bg = \"#fff\", cursor = \"hand2\", command = lambda: btn_click(8)).grid(row = 1, column = 1, padx = 1, pady = 1)\n",
        " \n",
        "nine = Button(btns_frame, text = \"9\", fg = \"black\", width = 10, height = 3, bd = 0, bg = \"#fff\", cursor = \"hand2\", command = lambda: btn_click(9)).grid(row = 1, column = 2, padx = 1, pady = 1)\n",
        " \n",
        "multiply = Button(btns_frame, text = \"\", fg = \"black\", width = 10, height = 3, bd = 0, bg = \"#eee\", cursor = \"hand2\", command = lambda: btn_click(\"\")).grid(row = 1, column = 3, padx = 1, pady = 1)\n",
        " \n",
        "# third row\n",
        " \n",
        "four = Button(btns_frame, text = \"4\", fg = \"black\", width = 10, height = 3, bd = 0, bg = \"#fff\", cursor = \"hand2\", command = lambda: btn_click(4)).grid(row = 2, column = 0, padx = 1, pady = 1)\n",
        " \n",
        "five = Button(btns_frame, text = \"5\", fg = \"black\", width = 10, height = 3, bd = 0, bg = \"#fff\", cursor = \"hand2\", command = lambda: btn_click(5)).grid(row = 2, column = 1, padx = 1, pady = 1)\n",
        " \n",
        "six = Button(btns_frame, text = \"6\", fg = \"black\", width = 10, height = 3, bd = 0, bg = \"#fff\", cursor = \"hand2\", command = lambda: btn_click(6)).grid(row = 2, column = 2, padx = 1, pady = 1)\n",
        " \n",
        "minus = Button(btns_frame, text = \"-\", fg = \"black\", width = 10, height = 3, bd = 0, bg = \"#eee\", cursor = \"hand2\", command = lambda: btn_click(\"-\")).grid(row = 2, column = 3, padx = 1, pady = 1)\n",
        " \n",
        "# fourth row\n",
        " \n",
        "one = Button(btns_frame, text = \"1\", fg = \"black\", width = 10, height = 3, bd = 0, bg = \"#fff\", cursor = \"hand2\", command = lambda: btn_click(1)).grid(row = 3, column = 0, padx = 1, pady = 1)\n",
        " \n",
        "two = Button(btns_frame, text = \"2\", fg = \"black\", width = 10, height = 3, bd = 0, bg = \"#fff\", cursor = \"hand2\", command = lambda: btn_click(2)).grid(row = 3, column = 1, padx = 1, pady = 1)\n",
        " \n",
        "three = Button(btns_frame, text = \"3\", fg = \"black\", width = 10, height = 3, bd = 0, bg = \"#fff\", cursor = \"hand2\", command = lambda: btn_click(3)).grid(row = 3, column = 2, padx = 1, pady = 1)\n",
        " \n",
        "plus = Button(btns_frame, text = \"+\", fg = \"black\", width = 10, height = 3, bd = 0, bg = \"#eee\", cursor = \"hand2\", command = lambda: btn_click(\"+\")).grid(row = 3, column = 3, padx = 1, pady = 1)\n",
        " \n",
        "# fifth row\n",
        " \n",
        "zero = Button(btns_frame, text = \"0\", fg = \"black\", width = 21, height = 3, bd = 0, bg = \"#fff\", cursor = \"hand2\", command = lambda: btn_click(0)).grid(row = 4, column = 0, columnspan = 2, padx = 1, pady = 1)\n",
        " \n",
        "point = Button(btns_frame, text = \".\", fg = \"black\", width = 10, height = 3, bd = 0, bg = \"#eee\", cursor = \"hand2\", command = lambda: btn_click(\".\")).grid(row = 4, column = 2, padx = 1, pady = 1)\n",
        " \n",
        "equals = Button(btns_frame, text = \"=\", fg = \"black\", width = 10, height = 3, bd = 0, bg = \"#eee\", cursor = \"hand2\", command = lambda: bt_equal()).grid(row = 4, column = 3, padx = 1, pady = 1)\n",
        " \n",
        "win.mainloop()"
      ],
      "execution_count": null,
      "outputs": []
    },
    {
      "cell_type": "markdown",
      "metadata": {
        "id": "jfbh2QEr5Tg8"
      },
      "source": [
        " b. Write a program to implement the following figures using turtle\n",
        " \n",
        "**DESCRIPTION**:\n",
        " \n",
        "The turtle module is an extended reimplementation of the same-named module from the Python standard distribution up to version Python 2.5.\n",
        " \n",
        "It tries to keep the merits of the old turtle module and to be (nearly) 100% compatible with it. This means in the first place to enable the learning programmer to use all the commands, classes and methods interactively when using the module from within IDLE run with the -n switch.\n",
        " \n",
        "The turtle module provides turtle graphics primitives, in both object-oriented and procedure-oriented ways. Because it uses tkinter for the underlying graphics, it needs a version of Python installed with Tk support."
      ]
    },
    {
      "cell_type": "code",
      "metadata": {
        "id": "u8MDPhjJ5Zjc"
      },
      "source": [
        " \n",
        "import turtle\n",
        "c=[\"red\",\"green\",\"blue\"]\n",
        "i=0\n",
        "turtle.pensize(5)\n",
        " \n",
        "for angle in range(0,360,30):\n",
        "    if i>2:\n",
        "        i=0\n",
        "    turtle.color(c[i])\n",
        "    turtle.seth(angle)\n",
        "    turtle.circle(50)\n",
        "    i+=1"
      ],
      "execution_count": null,
      "outputs": []
    },
    {
      "cell_type": "code",
      "metadata": {
        "id": "gqPvDgDf5hAE"
      },
      "source": [
        " \n",
        " import turtle\n",
        "turtle.pensize(1)\n",
        " \n",
        "for i in range(36):\n",
        "    for j in range(4):\n",
        "        turtle.forward(70)\n",
        "        turtle.left(90)\n",
        "    turtle.left(10)"
      ],
      "execution_count": null,
      "outputs": []
    },
    {
      "cell_type": "markdown",
      "metadata": {
        "id": "BvQqrVbIXGlz"
      },
      "source": [
        " Exercise 15\n",
        " \n",
        ": Testing\n",
        " \n",
        "a)Write a test case to check the function even numbers which return true on passing a list of all even numbers.\n",
        " \n",
        "b) Write a test-case to check the function reverse string which returns the reversed string"
      ]
    },
    {
      "cell_type": "markdown",
      "metadata": {
        "id": "B0ZOJlD-5mjn"
      },
      "source": [
        " **AIM**:\n",
        " \n",
        "a) Write a test-case to check the function even numbers which return True on passing a list of all even numbers\n",
        " \n",
        "**DESCRIPTION**:\n",
        " \n",
        "TestCase is used to create test cases by subclassing it. The last block of the code at the bottom allows us to run all the tests just by running the file. Basic terms used in the code : assertEqual() – This statement is used to check if the result obtained is equal to the expected result\n",
        " \n",
        "test case:\n",
        " \n",
        "A test case is a set of conditions which is used to determine whether a system under test works correctly."
      ]
    },
    {
      "cell_type": "code",
      "metadata": {
        "colab": {
          "base_uri": "https://localhost:8080/"
        },
        "id": "mOPZ07gJXM9f",
        "outputId": "7ce83e66-ce6f-490f-e6c4-4dcf2ff25f4c"
      },
      "source": [
        " def evnNo(num):\n",
        "    stat=True\n",
        " \n",
        "    for i in num:\n",
        "        if i%2 ==1:\n",
        "            stat=False\n",
        "            break\n",
        "    return stat\n",
        "        \n",
        "numbers=[]\n",
        "for i in range(0,2):\n",
        "    numbers.append(int(input(\"Enter a value\")))\n",
        "print(evnNo(numbers))"
      ],
      "execution_count": null,
      "outputs": [
        {
          "name": "stdout",
          "output_type": "stream",
          "text": [
            "Enter a value4\n",
            "Enter a value3\n",
            "False\n"
          ]
        }
      ]
    },
    {
      "cell_type": "markdown",
      "metadata": {
        "id": "wpSZuUKw5tv8"
      },
      "source": [
        " **AIM**:\n",
        " \n",
        "b) Write a test-case to check the function reverse string which returns the reversed string\n",
        " \n",
        "**DESCRIPTION**:\n",
        " \n",
        "Python string library does’nt support the in-built “reverse()” as done by other python containers like list, hence knowing other methods to reverse string can prove to be useful. This article discusses several ways to achieve it.\n",
        " \n",
        "The reversed() returns the reversed iterator of the given string and then its elements are joined empty string separated using join(). And reversed order string is formed."
      ]
    },
    {
      "cell_type": "code",
      "metadata": {
        "colab": {
          "base_uri": "https://localhost:8080/"
        },
        "id": "znpL0o-yXUKO",
        "outputId": "99b8b41f-d92b-4674-c2e6-2d71ab23ef66"
      },
      "source": [
        " def rev_str(st):\n",
        "    return st[::-1]\n",
        " \n",
        "st=\"swarnandhra\"\n",
        "print(\"Given String is: \",st)\n",
        " \n",
        "print(\"Reverse is: \",rev_str(st))"
      ],
      "execution_count": null,
      "outputs": [
        {
          "name": "stdout",
          "output_type": "stream",
          "text": [
            "Given String is:  swarnandhra\n",
            "Reverse is:  arhdnanraws\n"
          ]
        }
      ]
    },
    {
      "cell_type": "markdown",
      "metadata": {
        "id": "_r014UlxIcBX"
      },
      "source": [
        " Exercise - 16 - Advanced\n",
        " \n",
        "a) Build any one classical data structure.\n",
        " \n",
        "b) Write a program to solve knapsack problem"
      ]
    },
    {
      "cell_type": "markdown",
      "metadata": {
        "id": "36x7hSsk51TT"
      },
      "source": [
        " **AIM**:\n",
        " \n",
        "a) Build any one classical data structure.\n",
        " \n",
        "**DESCRIPTION**:\n",
        " \n",
        "**What is a Data Structure**\n",
        "Organizing, managing and storing data is important as it enables easier access and efficient modifications. Data Structures allows you to organize your data in such a way that enables you to store collections of data, relate them and perform operations on them accordingly.\n",
        " \n",
        "Stack Stacks are linear Data Structures which are based on the principle of Last-In-First-Out (LIFO) where data which is entered last will be the first to get accessed. It is built using the array structure and has operations namely, pushing (adding) elements, popping (deleting) elements and accessing elements only from one point in the stack called as the TOP. This TOP is the pointer to the current position of the stack. Stacks are prominently used in applications such as Recursive Programming, reversing words, undo mechanisms in word editors and so forth."
      ]
    },
    {
      "cell_type": "code",
      "metadata": {
        "colab": {
          "background_save": true,
          "base_uri": "https://localhost:8080/"
        },
        "id": "_qOlgaDA7Vvx",
        "outputId": "730b029b-4c7f-43da-b22e-a629207cf1a9"
      },
      "source": [
        " \n",
        " import sys\n",
        "a=[]\n",
        " \n",
        "while True:\n",
        "  print (\"\\nl.PUSH 2.POP 3.DISPLAY 4.EXIT\")\n",
        "  ch=int(input(\"Enter Your Choice: \"))\n",
        "  if ch==1:\n",
        "   ele=int(input(\"Enter element: \"))\n",
        "   a.append(ele)\n",
        "   print(\"Inserted\")\n",
        "  elif ch==2:\n",
        "   if len(a)==0:\n",
        "     print (\"\\t STACK IS EMPTY\")\n",
        "   else:\n",
        "     print (\"Deleted element is: \",a[len(a)-1])\n",
        "     a.remove(a[len(a)-1])\n",
        "  elif ch==3:\n",
        "   if len(a)==0:\n",
        "     print (\"\\t STACK IS EMPTY\")\n",
        "   else:\n",
        "    print (\"The Elements in Stack is: \")\n",
        "    for i in reversed(a):\n",
        "       print(i)\n",
        "  elif ch==4:\n",
        "       sys.exit()\n",
        "  else:\n",
        "   print (\"\\tINVALID CHOICE\")"
      ],
      "execution_count": null,
      "outputs": [
        {
          "name": "stdout",
          "output_type": "stream",
          "text": [
            "\n",
            "l.PUSH 2.POP 3.DISPLAY 4.EXIT\n"
          ]
        }
      ]
    },
    {
      "cell_type": "markdown",
      "metadata": {
        "id": "GmifRiOV6-NB"
      },
      "source": [
        " **AIM**:\n",
        " \n",
        "b) Write a program to solve knapsack problem\n",
        " \n",
        "**DESCRIPTION**:\n",
        " \n",
        "Python Program for 0-1 Knapsack Problem\n",
        " \n",
        "Problem statement − We are given weights and values of n items, we need to put these items in a bag of capacity W up to the maximum capacity w. We need to carry a maximum number of items and return its value.\n",
        " \n",
        "Brute-force approach.\n",
        " \n",
        "dynamic approach."
      ]
    },
    {
      "cell_type": "code",
      "metadata": {
        "colab": {
          "base_uri": "https://localhost:8080/"
        },
        "id": "sjEOPqj6O35V",
        "outputId": "9593a211-55bc-4f0c-d70d-c05d68042d77"
      },
      "source": [
        " \n",
        "def knapSack(W,wt,val,n):\n",
        "    K=[[0 for x in range(W+1)] for x in range(n+1)]\n",
        "    for i in range(n+1):\n",
        "        for w in range(W+1):\n",
        "            if i==0 or w==0:\n",
        "                K[i][w]=0\n",
        "            elif wt[i-1]<=w:\n",
        "                K[i][w]=max(val[i-1]+K[i-1][w-wt[i-1]],K[i-1][w])\n",
        "            else:\n",
        "                K[i][w]=K[i-1][w]\n",
        "    return K[n][W]\n",
        "val=[5,3,4]\n",
        "wt=[3,2,1]\n",
        "W=5\n",
        "n=len(val)\n",
        "print(\"Maximum value knapsack of capacity W: \",knapSack(W,wt,val,n))"
      ],
      "execution_count": null,
      "outputs": [
        {
          "name": "stdout",
          "output_type": "stream",
          "text": [
            "Maximum value knapsack of capacity W:  9\n"
          ]
        }
      ]
    },
    {
      "cell_type": "markdown",
      "metadata": {
        "id": "ljgneQTHnOdT"
      },
      "source": [
        " • EXERCISE - 17 \n",
        " :: Data Analysis\n",
        " \n",
        "Data analysis or manipulation using the following packages\n",
        " \n",
        "a) Numpy b) Pandas\n",
        " \n",
        " \n",
        "• EXERCISE - 18::\n",
        "Advanced Data analysis or manipulation using the following packages\n",
        " \n",
        "a) Scipy\n",
        "b) matplotlib"
      ]
    },
    {
      "cell_type": "markdown",
      "metadata": {
        "id": "vaumquulO__3"
      },
      "source": [
        " **AIM**:\n",
        " \n",
        "Data analysis or manipulation using the following packages\n",
        "a) Numpy b) Pandas a) Scipy b) matplotlib\n",
        " \n",
        " \n",
        "**DESCRIPTION**:\n",
        " \n",
        "Learn how to analyze data using Python. ... It includes following parts: Data Analysis libraries: will learn to use Pandas, Numpy and Scipy libraries to work with a sample dataset. We will introduce you to pandas, an open-source library, and we will use it to load, manipulate, analyze, and visualize cool datasets.\n",
        " \n",
        "**SciPy** is a free and open-source Python library used for scientific computing and technical computing. It is a collection of mathematical algorithms and convenience functions built on the NumPy extension of Python\n",
        " \n",
        "**NumPy** is the fundamental package for scientific computing in Python. ... NumPy arrays facilitate advanced mathematical and other types of operations on large numbers of data.\n",
        " \n",
        "**Matplotlib** is a plotting library for the Python programming language and its numerical mathematics extension NumPy. It provides an object-oriented API for embedding plots into applications using general-purpose GUI toolkits like Tkinter, wxPython, Qt, or GTK\n",
        " \n",
        "**Pandas** is an open source Python package that is most widely used for data science/data analysis and machine learning tasks. It is built on top of another package named Numpy, which provides support for multi-dimensional arrays.\n",
        " \n",
        "Scikit-learn is probably the most useful library for machine learning in Python. The sklearn library contains a lot of efficient tools for machine learning and statistical modeling including classification, regression, clustering and dimensionality reduction.\n",
        " \n",
        "Seaborn is a library in Python predominantly used for making statistical graphics. Seaborn is a data visualization library built on top of matplotlib and closely integrated with pandas data structures in Python\n",
        " \n",
        "**PROGRAM:**"
      ]
    },
    {
      "cell_type": "code",
      "metadata": {
        "colab": {
          "base_uri": "https://localhost:8080/"
        },
        "id": "PO1n_ynEJuRY",
        "outputId": "fa335aff-7a5d-47fb-e821-3df7d8f4e23f"
      },
      "source": [
        " import sys\n",
        " \n",
        "print('Python:{}'.format(sys.version))\n",
        " \n",
        "#scipy\n",
        " \n",
        "import scipy\n",
        "print('scipy: {}'.format(scipy.__version__))\n",
        " \n",
        "#numpy \n",
        " \n",
        "import numpy\n",
        "print('numpy:{}'.format(numpy.__version__))\n",
        " \n",
        "#matplotlib \n",
        " \n",
        "import matplotlib\n",
        "print('matplotlib:{}'.format(matplotlib.__version__))\n",
        " \n",
        "#pandas \n",
        " \n",
        "import pandas\n",
        "print('pandas:{}'.format(pandas. __version__))\n",
        " \n",
        "#scikit-learn\n",
        " \n",
        "import sklearn\n",
        "print('sklearn:{}'.format(sklearn.__version__))\n",
        " \n",
        "import seaborn\n",
        "print('seaborn: {}'.format(seaborn.__version__)) \n",
        " \n",
        "import urllib\n",
        "print('urlib:{}'.format(urllib.__name__)) \n",
        " \n",
        "import csv\n",
        "print('csv: {}'.format(csv.__version__))"
      ],
      "execution_count": null,
      "outputs": [
        {
          "name": "stdout",
          "output_type": "stream",
          "text": [
            "Python:3.7.11 (default, Jul  3 2021, 18:01:19) \n",
            "[GCC 7.5.0]\n",
            "scipy: 1.4.1\n",
            "numpy:1.19.5\n",
            "matplotlib:3.2.2\n",
            "pandas:1.1.5\n",
            "sklearn:0.22.2.post1\n",
            "seaborn: 0.11.1\n",
            "urlib:urllib\n",
            "csv: 1.0\n"
          ]
        }
      ]
    },
    {
      "cell_type": "markdown",
      "metadata": {
        "id": "IcB_0dJ2QSQ3"
      },
      "source": [
        "NumPy"
      ]
    },
    {
      "cell_type": "code",
      "metadata": {
        "id": "fet-2p6jQ_gw",
        "colab": {
          "base_uri": "https://localhost:8080/"
        },
        "outputId": "a7b68132-5a9a-49ca-9303-fe25d57a8591"
      },
      "source": [
        " import numpy as np\n",
        "a=np.array([0,1,2])\n",
        "print(type(a))\n",
        "print(a.shape)\n",
        "print(a[0])\n",
        "print(a[1])\n",
        "print(a[2])\n",
        "a[0]=5\n",
        "print(a)"
      ],
      "execution_count": null,
      "outputs": [
        {
          "output_type": "stream",
          "name": "stdout",
          "text": [
            "<class 'numpy.ndarray'>\n",
            "(3,)\n",
            "0\n",
            "1\n",
            "2\n",
            "[5 1 2]\n"
          ]
        }
      ]
    },
    {
      "cell_type": "code",
      "metadata": {
        "id": "vYUHGPyBTWZp",
        "colab": {
          "base_uri": "https://localhost:8080/"
        },
        "outputId": "c69c215a-bedc-4f1c-9405-5809d8bba33c"
      },
      "source": [
        "import numpy as np\n",
        "b=np.array([[0,1,2],[3,4,5]])\n",
        "print(b.shape)\n",
        "print(b)\n",
        "print(b[0,0],b[0,1],b[1,0])"
      ],
      "execution_count": null,
      "outputs": [
        {
          "output_type": "stream",
          "name": "stdout",
          "text": [
            "(2, 3)\n",
            "[[0 1 2]\n",
            " [3 4 5]]\n",
            "0 1 3\n"
          ]
        }
      ]
    },
    {
      "cell_type": "code",
      "metadata": {
        "id": "iU8uPrOLTvcz",
        "colab": {
          "base_uri": "https://localhost:8080/"
        },
        "outputId": "ffa0805c-8dc8-4e43-f4e4-9b81fffa7340"
      },
      "source": [
        "import numpy as np\n",
        "a=np.zeros((3,3))\n",
        "print(a)"
      ],
      "execution_count": null,
      "outputs": [
        {
          "output_type": "stream",
          "name": "stdout",
          "text": [
            "[[0. 0. 0.]\n",
            " [0. 0. 0.]\n",
            " [0. 0. 0.]]\n"
          ]
        }
      ]
    },
    {
      "cell_type": "code",
      "metadata": {
        "id": "opVS8bQBT2h0"
      },
      "source": [
        "import numpy as np\n",
        "b=np.ones((2,2))\n",
        "print(b)"
      ],
      "execution_count": null,
      "outputs": []
    },
    {
      "cell_type": "code",
      "metadata": {
        "id": "hJQKu405T6y3"
      },
      "source": [
        "import numpy as np\n",
        "c=np.full((3,3),7)\n",
        "print(c)"
      ],
      "execution_count": null,
      "outputs": []
    },
    {
      "cell_type": "code",
      "metadata": {
        "id": "khpi2aduT_2z"
      },
      "source": [
        "import numpy as np\n",
        "d=np.random.random((3,3))\n",
        "print(d)"
      ],
      "execution_count": null,
      "outputs": []
    },
    {
      "cell_type": "code",
      "metadata": {
        "id": "QnEkdhpiUML-"
      },
      "source": [
        "import numpy as np\n",
        "e=np.eye(3)\n",
        "print(e)"
      ],
      "execution_count": null,
      "outputs": []
    },
    {
      "cell_type": "code",
      "metadata": {
        "id": "yJePSqwvUSqC"
      },
      "source": [
        "import numpy as np\n",
        "f=np.array([2,3,1,0])\n",
        "print(f)"
      ],
      "execution_count": null,
      "outputs": []
    },
    {
      "cell_type": "code",
      "metadata": {
        "id": "TPPGBfpWUWmo"
      },
      "source": [
        "import numpy as np\n",
        "g=np.arange(2,10)\n",
        "print(g)"
      ],
      "execution_count": null,
      "outputs": []
    },
    {
      "cell_type": "code",
      "metadata": {
        "id": "u6iHl8QGUcwk",
        "colab": {
          "base_uri": "https://localhost:8080/"
        },
        "outputId": "b4cfbdc0-4190-49ff-be61-90270827ca2b"
      },
      "source": [
        "import numpy as np\n",
        "h=np.array([[0,1,2.0],[0,0,0],(1+1j,3.,2.)])\n",
        "print(h)"
      ],
      "execution_count": null,
      "outputs": [
        {
          "output_type": "stream",
          "name": "stdout",
          "text": [
            "[[0.+0.j 1.+0.j 2.+0.j]\n",
            " [0.+0.j 0.+0.j 0.+0.j]\n",
            " [1.+1.j 3.+0.j 2.+0.j]]\n"
          ]
        }
      ]
    },
    {
      "cell_type": "code",
      "metadata": {
        "id": "7_PDCZ94UpDO",
        "colab": {
          "base_uri": "https://localhost:8080/"
        },
        "outputId": "34be1680-54a5-42ef-ebd0-4369d277f6f1"
      },
      "source": [
        "import numpy as np\n",
        "i=np.arange(1,8,dtype=np.float)\n",
        "print(i)"
      ],
      "execution_count": null,
      "outputs": [
        {
          "output_type": "stream",
          "name": "stdout",
          "text": [
            "[1. 2. 3. 4. 5. 6. 7.]\n"
          ]
        }
      ]
    },
    {
      "cell_type": "code",
      "metadata": {
        "id": "K4eLQS-HUuaF",
        "colab": {
          "base_uri": "https://localhost:8080/"
        },
        "outputId": "e8029b9e-22da-42b3-9e9d-6d44e13990f9"
      },
      "source": [
        "import numpy as np\n",
        "j=np.linspace(2.,4., 5)\n",
        "print(j)"
      ],
      "execution_count": null,
      "outputs": [
        {
          "output_type": "stream",
          "name": "stdout",
          "text": [
            "[2.  2.5 3.  3.5 4. ]\n"
          ]
        }
      ]
    },
    {
      "cell_type": "code",
      "metadata": {
        "id": "2cPycjWdUzw7",
        "colab": {
          "base_uri": "https://localhost:8080/"
        },
        "outputId": "4623a102-4ca3-4d3a-adfe-9e934d47269d"
      },
      "source": [
        "import numpy as np\n",
        "k=np.indices((3,3))\n",
        "print(k)"
      ],
      "execution_count": null,
      "outputs": [
        {
          "output_type": "stream",
          "name": "stdout",
          "text": [
            "[[[0 0 0]\n",
            "  [1 1 1]\n",
            "  [2 2 2]]\n",
            "\n",
            " [[0 1 2]\n",
            "  [0 1 2]\n",
            "  [0 1 2]]]\n"
          ]
        }
      ]
    },
    {
      "cell_type": "code",
      "metadata": {
        "id": "L1u_xSmKU4Mi",
        "colab": {
          "base_uri": "https://localhost:8080/"
        },
        "outputId": "5842f9ea-fa01-4e93-9147-691187d3ef2a"
      },
      "source": [
        "import numpy as np\n",
        "x=np.array([0,1])\n",
        "y=np.array([2.0,3.0])\n",
        "z=np.array([5,6], dtype=np.int64)\n",
        "print(x.dtype,y.dtype,z.dtype)"
      ],
      "execution_count": null,
      "outputs": [
        {
          "output_type": "stream",
          "name": "stdout",
          "text": [
            "int64 float64 int64\n"
          ]
        }
      ]
    },
    {
      "cell_type": "code",
      "metadata": {
        "id": "VAsxRWyEU7eZ",
        "colab": {
          "base_uri": "https://localhost:8080/"
        },
        "outputId": "f8abf79e-6a21-4e62-cb42-ce48bdcace0d"
      },
      "source": [
        "import numpy as np\n",
        "x=np.array([5,6,7,8,9])\n",
        "print(x[1:7:2])\n",
        "print(x[-2:5])\n",
        "print(x[-1:1:-1])"
      ],
      "execution_count": null,
      "outputs": [
        {
          "output_type": "stream",
          "name": "stdout",
          "text": [
            "[6 8]\n",
            "[8 9]\n",
            "[9 8 7]\n"
          ]
        }
      ]
    },
    {
      "cell_type": "code",
      "metadata": {
        "id": "q4R0x54lU_dg",
        "colab": {
          "base_uri": "https://localhost:8080/"
        },
        "outputId": "3d6e7df0-8a4c-47eb-a840-d06f3d92eecb"
      },
      "source": [
        "import numpy as np\n",
        "a=np.array([[1,2],[3,4],[5,6]])\n",
        "print(a>2)\n",
        "print(a[a>2])"
      ],
      "execution_count": null,
      "outputs": [
        {
          "output_type": "stream",
          "name": "stdout",
          "text": [
            "[[False False]\n",
            " [ True  True]\n",
            " [ True  True]]\n",
            "[3 4 5 6]\n"
          ]
        }
      ]
    },
    {
      "cell_type": "code",
      "metadata": {
        "id": "s7X_28jxVDKp",
        "colab": {
          "base_uri": "https://localhost:8080/"
        },
        "outputId": "28f7f69a-a744-4912-abd4-47810296ad86"
      },
      "source": [
        "import numpy as np\n",
        "x=np.array([[1,2],[3,4],[5,6]])\n",
        "y=np.array([[7,8],[9,10],[11,12]])\n",
        "print(x+y)\n",
        "print(np.add(x,y))\n",
        "print(x-y)\n",
        "print(np.subtract(x,y))"
      ],
      "execution_count": null,
      "outputs": [
        {
          "output_type": "stream",
          "name": "stdout",
          "text": [
            "[[ 8 10]\n",
            " [12 14]\n",
            " [16 18]]\n",
            "[[ 8 10]\n",
            " [12 14]\n",
            " [16 18]]\n",
            "[[-6 -6]\n",
            " [-6 -6]\n",
            " [-6 -6]]\n",
            "[[-6 -6]\n",
            " [-6 -6]\n",
            " [-6 -6]]\n"
          ]
        }
      ]
    },
    {
      "cell_type": "code",
      "metadata": {
        "id": "EJLv4_nyVInR",
        "colab": {
          "base_uri": "https://localhost:8080/"
        },
        "outputId": "39d705bb-f64d-46b7-b28f-dc0d823a8348"
      },
      "source": [
        "import numpy as np\n",
        "x=np.array([[1,2],[3,4],[5,6]])\n",
        "y=np.array([[7,8],[9,10],[11,12]])\n",
        "print(np.multiply(x,y))\n",
        "print(x*y)"
      ],
      "execution_count": null,
      "outputs": [
        {
          "output_type": "stream",
          "name": "stdout",
          "text": [
            "[[ 7 16]\n",
            " [27 40]\n",
            " [55 72]]\n",
            "[[ 7 16]\n",
            " [27 40]\n",
            " [55 72]]\n"
          ]
        }
      ]
    },
    {
      "cell_type": "code",
      "metadata": {
        "id": "J-InRZwMVM-Y",
        "colab": {
          "base_uri": "https://localhost:8080/"
        },
        "outputId": "38460ca3-c405-4269-c24b-7090ac167443"
      },
      "source": [
        "import numpy as np\n",
        "x=np.array([[1,2],[3,4],[5,6]])\n",
        "y=np.array([[7,8],[9,10],[11,12]])\n",
        "print(np.divide(x,y))\n",
        "print(x/y)"
      ],
      "execution_count": null,
      "outputs": [
        {
          "output_type": "stream",
          "name": "stdout",
          "text": [
            "[[0.14285714 0.25      ]\n",
            " [0.33333333 0.4       ]\n",
            " [0.45454545 0.5       ]]\n",
            "[[0.14285714 0.25      ]\n",
            " [0.33333333 0.4       ]\n",
            " [0.45454545 0.5       ]]\n"
          ]
        }
      ]
    },
    {
      "cell_type": "code",
      "metadata": {
        "id": "Y5Y9xiqUVQNx",
        "colab": {
          "base_uri": "https://localhost:8080/"
        },
        "outputId": "135406e0-b4b3-407b-b147-c2ef4a2b8934"
      },
      "source": [
        "import numpy as np\n",
        "x=np.array([[1,2],[3,4],[5,6]])\n",
        "print(np.sqrt(x))"
      ],
      "execution_count": null,
      "outputs": [
        {
          "output_type": "stream",
          "name": "stdout",
          "text": [
            "[[1.         1.41421356]\n",
            " [1.73205081 2.        ]\n",
            " [2.23606798 2.44948974]]\n"
          ]
        }
      ]
    },
    {
      "cell_type": "code",
      "metadata": {
        "id": "kxZFIGH2VWMC",
        "colab": {
          "base_uri": "https://localhost:8080/"
        },
        "outputId": "9457af11-51c1-41f0-8bdd-f1c0d0c08eda"
      },
      "source": [
        "import numpy as np\n",
        "a=np.array([9,10])\n",
        "b=np.array([11,12])\n",
        "print(a.dot(b))\n",
        "print(np.dot(a,b))"
      ],
      "execution_count": null,
      "outputs": [
        {
          "output_type": "stream",
          "name": "stdout",
          "text": [
            "219\n",
            "219\n"
          ]
        }
      ]
    },
    {
      "cell_type": "code",
      "metadata": {
        "id": "d2B7XxHmVa-x",
        "colab": {
          "base_uri": "https://localhost:8080/"
        },
        "outputId": "e8918017-d3f6-4b66-a973-2c1516f732bb"
      },
      "source": [
        "import numpy as np\n",
        "a=np.array([9,10])\n",
        "x=np.array([[1,2],[3,4]])\n",
        "print(x.dot(a))\n",
        "print(np.dot(x,a))"
      ],
      "execution_count": null,
      "outputs": [
        {
          "output_type": "stream",
          "name": "stdout",
          "text": [
            "[29 67]\n",
            "[29 67]\n"
          ]
        }
      ]
    },
    {
      "cell_type": "code",
      "metadata": {
        "id": "oQ0puRUIVeXp"
      },
      "source": [
        "import numpy as np\n",
        "x=np.array([[1,2],[3,4]])\n",
        "y=np.array([[5,6],[7,8]])\n",
        "print(x.dot(y))\n",
        "print(np.dot(x,y))"
      ],
      "execution_count": null,
      "outputs": []
    },
    {
      "cell_type": "code",
      "metadata": {
        "id": "bXqHK6v9ViYC"
      },
      "source": [
        "import numpy as np\n",
        "x=np.array([[1,2],[3,4]])\n",
        "print(np.sum(x))\n",
        "print(np.sum(x,axis=0))\n",
        "print(np.sum(x,axis=1))"
      ],
      "execution_count": null,
      "outputs": []
    },
    {
      "cell_type": "code",
      "metadata": {
        "id": "FPdxzapXVmfy"
      },
      "source": [
        "import numpy as np\n",
        "x=np.array([[1,2],[3,4]])\n",
        "print(x)\n",
        "print(x.T)"
      ],
      "execution_count": null,
      "outputs": []
    },
    {
      "cell_type": "code",
      "metadata": {
        "id": "8XF5X_4tVthU"
      },
      "source": [
        "import numpy as np\n",
        "v=np.array([1,2,3])\n",
        "print(v)\n",
        "print(v.T)"
      ],
      "execution_count": null,
      "outputs": []
    },
    {
      "cell_type": "code",
      "metadata": {
        "id": "A5UJ-x9EVwrj"
      },
      "source": [
        "import numpy as np\n",
        "a=np.array([[1,2,3],[4,5,6],[7,8,9]])\n",
        "v=np.array([1,0,1])\n",
        "b=a+v\n",
        "print(b)"
      ],
      "execution_count": null,
      "outputs": []
    },
    {
      "cell_type": "code",
      "metadata": {
        "id": "TXsNBeXIV3R6",
        "colab": {
          "base_uri": "https://localhost:8080/"
        },
        "outputId": "97f54e40-d8fc-42d3-9725-bd400989c1b9"
      },
      "source": [
        "import numpy as np\n",
        "x=np.array([[1,2,1],[3,4,1]])\n",
        "print(\"X.T:\\n\",x.T)\n",
        "w=np.array([1,1])\n",
        "print(\"W:\\n\",w)\n",
        " \n",
        "print(\"Final :\\n\",(x.T+w).T)"
      ],
      "execution_count": null,
      "outputs": [
        {
          "output_type": "stream",
          "name": "stdout",
          "text": [
            "X.T:\n",
            " [[1 3]\n",
            " [2 4]\n",
            " [1 1]]\n",
            "W:\n",
            " [1 1]\n",
            "Final :\n",
            " [[2 3 2]\n",
            " [4 5 2]]\n"
          ]
        }
      ]
    },
    {
      "cell_type": "code",
      "metadata": {
        "id": "uo-iEW3zV87S",
        "colab": {
          "base_uri": "https://localhost:8080/"
        },
        "outputId": "b0f08562-1d7a-4dc5-9e1b-462c5f54b9c2"
      },
      "source": [
        "import numpy as np\n",
        "x=np.array([[1,2,1],[3,4,1]])\n",
        "print(x*2)"
      ],
      "execution_count": null,
      "outputs": [
        {
          "output_type": "stream",
          "name": "stdout",
          "text": [
            "[[2 4 2]\n",
            " [6 8 2]]\n"
          ]
        }
      ]
    },
    {
      "cell_type": "code",
      "metadata": {
        "id": "0Qc63x0jWBjx",
        "colab": {
          "base_uri": "https://localhost:8080/"
        },
        "outputId": "03e17cae-7bd9-4616-a1b4-3cf7cf1c41fa"
      },
      "source": [
        "import numpy as np\n",
        "np.random.rand(3,2)"
      ],
      "execution_count": null,
      "outputs": [
        {
          "output_type": "execute_result",
          "data": {
            "text/plain": [
              "array([[0.95220848, 0.10798242],\n",
              "       [0.26089569, 0.18659189],\n",
              "       [0.23089905, 0.64596495]])"
            ]
          },
          "metadata": {},
          "execution_count": 48
        }
      ]
    },
    {
      "cell_type": "code",
      "metadata": {
        "id": "V6Ayo5ZPWGef",
        "colab": {
          "base_uri": "https://localhost:8080/"
        },
        "outputId": "911b06ac-6953-4ad9-f0f6-beb1a6e6a9c1"
      },
      "source": [
        "import numpy as np\n",
        "np.random.rand(10)"
      ],
      "execution_count": null,
      "outputs": [
        {
          "output_type": "execute_result",
          "data": {
            "text/plain": [
              "array([0.3884765 , 0.26953406, 0.80195941, 0.98970568, 0.14532722,\n",
              "       0.79835635, 0.97086399, 0.32895496, 0.89947871, 0.35159801])"
            ]
          },
          "metadata": {},
          "execution_count": 47
        }
      ]
    },
    {
      "cell_type": "code",
      "metadata": {
        "id": "AdHJfQqVWKPh",
        "colab": {
          "base_uri": "https://localhost:8080/"
        },
        "outputId": "63a20f90-60de-4a14-b013-1ae9038055a4"
      },
      "source": [
        "import random\n",
        "print (random.randint(0,9))"
      ],
      "execution_count": null,
      "outputs": [
        {
          "output_type": "stream",
          "name": "stdout",
          "text": [
            "2\n"
          ]
        }
      ]
    },
    {
      "cell_type": "markdown",
      "metadata": {
        "id": "wrge-fcWWOf4"
      },
      "source": [
        "# **Pandas**"
      ]
    },
    {
      "cell_type": "markdown",
      "metadata": {
        "id": "QXgpu9VmWR1E"
      },
      "source": [
        "# 1.**Creating** **Series**"
      ]
    },
    {
      "cell_type": "code",
      "metadata": {
        "id": "ws_zuZJHWW7i",
        "colab": {
          "base_uri": "https://localhost:8080/"
        },
        "outputId": "2f9072dc-a600-4d9a-bce5-c9eda72a2c67"
      },
      "source": [
        "import pandas as pd\n",
        "s=pd.Series([1,2,3,4,5],index=['A','B','C','D','E'])\n",
        "s"
      ],
      "execution_count": null,
      "outputs": [
        {
          "output_type": "execute_result",
          "data": {
            "text/plain": [
              "A    1\n",
              "B    2\n",
              "C    3\n",
              "D    4\n",
              "E    5\n",
              "dtype: int64"
            ]
          },
          "metadata": {},
          "execution_count": 45
        }
      ]
    },
    {
      "cell_type": "markdown",
      "metadata": {
        "id": "_81sDQv5WcFz"
      },
      "source": [
        "# 2.**Data** **Frames**"
      ]
    },
    {
      "cell_type": "code",
      "metadata": {
        "id": "WbfVEZrcWsvR",
        "colab": {
          "base_uri": "https://localhost:8080/"
        },
        "outputId": "2865470d-dc64-4a94-d386-b1d7a9148287"
      },
      "source": [
        "import pandas as pd\n",
        "data={'Gen':['F','M','M'],'EiD':['E01','E02','E03'],'Age':[25,45,38]}\n",
        " \n",
        "df=pd.DataFrame(data,columns=['EiD','Age','Gen'])\n",
        "print(df)"
      ],
      "execution_count": null,
      "outputs": [
        {
          "output_type": "stream",
          "name": "stdout",
          "text": [
            "   EiD  Age Gen\n",
            "0  E01   25   F\n",
            "1  E02   45   M\n",
            "2  E03   38   M\n"
          ]
        }
      ]
    },
    {
      "cell_type": "code",
      "metadata": {
        "id": "Ku2VoqhJW4Ra",
        "colab": {
          "base_uri": "https://localhost:8080/"
        },
        "outputId": "1e255615-6d72-4178-f706-312b7f78a110"
      },
      "source": [
        "import pandas as pd\n",
        "from numpy import loadtxt\n",
        "from urllib.request import urlopen\n",
        " \n",
        "url='https://raw.githubusercontent.com/jbrownlee/datasets/master/pima-indians-diabetes.data.csv'\n",
        " \n",
        "raw_data=pd.read_csv(urlopen(url))\n",
        "raw_data.shape"
      ],
      "execution_count": null,
      "outputs": [
        {
          "output_type": "execute_result",
          "data": {
            "text/plain": [
              "(767, 9)"
            ]
          },
          "metadata": {},
          "execution_count": 30
        }
      ]
    },
    {
      "cell_type": "code",
      "metadata": {
        "id": "u1bejdUDW8gz",
        "colab": {
          "base_uri": "https://localhost:8080/",
          "height": 224
        },
        "outputId": "0cbc4a19-8398-435b-e38e-d9c5d83495d5"
      },
      "source": [
        "raw_data.head()"
      ],
      "execution_count": null,
      "outputs": [
        {
          "output_type": "execute_result",
          "data": {
            "text/html": [
              "<div>\n",
              "<style scoped>\n",
              "    .dataframe tbody tr th:only-of-type {\n",
              "        vertical-align: middle;\n",
              "    }\n",
              "\n",
              "    .dataframe tbody tr th {\n",
              "        vertical-align: top;\n",
              "    }\n",
              "\n",
              "    .dataframe thead th {\n",
              "        text-align: right;\n",
              "    }\n",
              "</style>\n",
              "<table border=\"1\" class=\"dataframe\">\n",
              "  <thead>\n",
              "    <tr style=\"text-align: right;\">\n",
              "      <th></th>\n",
              "      <th>6</th>\n",
              "      <th>148</th>\n",
              "      <th>72</th>\n",
              "      <th>35</th>\n",
              "      <th>0</th>\n",
              "      <th>33.6</th>\n",
              "      <th>0.627</th>\n",
              "      <th>50</th>\n",
              "      <th>1</th>\n",
              "    </tr>\n",
              "  </thead>\n",
              "  <tbody>\n",
              "    <tr>\n",
              "      <th>0</th>\n",
              "      <td>1</td>\n",
              "      <td>85</td>\n",
              "      <td>66</td>\n",
              "      <td>29</td>\n",
              "      <td>0</td>\n",
              "      <td>26.6</td>\n",
              "      <td>0.351</td>\n",
              "      <td>31</td>\n",
              "      <td>0</td>\n",
              "    </tr>\n",
              "    <tr>\n",
              "      <th>1</th>\n",
              "      <td>8</td>\n",
              "      <td>183</td>\n",
              "      <td>64</td>\n",
              "      <td>0</td>\n",
              "      <td>0</td>\n",
              "      <td>23.3</td>\n",
              "      <td>0.672</td>\n",
              "      <td>32</td>\n",
              "      <td>1</td>\n",
              "    </tr>\n",
              "    <tr>\n",
              "      <th>2</th>\n",
              "      <td>1</td>\n",
              "      <td>89</td>\n",
              "      <td>66</td>\n",
              "      <td>23</td>\n",
              "      <td>94</td>\n",
              "      <td>28.1</td>\n",
              "      <td>0.167</td>\n",
              "      <td>21</td>\n",
              "      <td>0</td>\n",
              "    </tr>\n",
              "    <tr>\n",
              "      <th>3</th>\n",
              "      <td>0</td>\n",
              "      <td>137</td>\n",
              "      <td>40</td>\n",
              "      <td>35</td>\n",
              "      <td>168</td>\n",
              "      <td>43.1</td>\n",
              "      <td>2.288</td>\n",
              "      <td>33</td>\n",
              "      <td>1</td>\n",
              "    </tr>\n",
              "    <tr>\n",
              "      <th>4</th>\n",
              "      <td>5</td>\n",
              "      <td>116</td>\n",
              "      <td>74</td>\n",
              "      <td>0</td>\n",
              "      <td>0</td>\n",
              "      <td>25.6</td>\n",
              "      <td>0.201</td>\n",
              "      <td>30</td>\n",
              "      <td>0</td>\n",
              "    </tr>\n",
              "  </tbody>\n",
              "</table>\n",
              "</div>"
            ],
            "text/plain": [
              "   6  148  72  35    0  33.6  0.627  50  1\n",
              "0  1   85  66  29    0  26.6  0.351  31  0\n",
              "1  8  183  64   0    0  23.3  0.672  32  1\n",
              "2  1   89  66  23   94  28.1  0.167  21  0\n",
              "3  0  137  40  35  168  43.1  2.288  33  1\n",
              "4  5  116  74   0    0  25.6  0.201  30  0"
            ]
          },
          "metadata": {},
          "execution_count": 32
        }
      ]
    },
    {
      "cell_type": "code",
      "metadata": {
        "id": "iPY2w6ltXA0T",
        "colab": {
          "base_uri": "https://localhost:8080/",
          "height": 224
        },
        "outputId": "502f54d4-ef94-456d-e159-2f32855797c6"
      },
      "source": [
        "raw_data.tail()"
      ],
      "execution_count": null,
      "outputs": [
        {
          "output_type": "execute_result",
          "data": {
            "text/html": [
              "<div>\n",
              "<style scoped>\n",
              "    .dataframe tbody tr th:only-of-type {\n",
              "        vertical-align: middle;\n",
              "    }\n",
              "\n",
              "    .dataframe tbody tr th {\n",
              "        vertical-align: top;\n",
              "    }\n",
              "\n",
              "    .dataframe thead th {\n",
              "        text-align: right;\n",
              "    }\n",
              "</style>\n",
              "<table border=\"1\" class=\"dataframe\">\n",
              "  <thead>\n",
              "    <tr style=\"text-align: right;\">\n",
              "      <th></th>\n",
              "      <th>6</th>\n",
              "      <th>148</th>\n",
              "      <th>72</th>\n",
              "      <th>35</th>\n",
              "      <th>0</th>\n",
              "      <th>33.6</th>\n",
              "      <th>0.627</th>\n",
              "      <th>50</th>\n",
              "      <th>1</th>\n",
              "    </tr>\n",
              "  </thead>\n",
              "  <tbody>\n",
              "    <tr>\n",
              "      <th>762</th>\n",
              "      <td>10</td>\n",
              "      <td>101</td>\n",
              "      <td>76</td>\n",
              "      <td>48</td>\n",
              "      <td>180</td>\n",
              "      <td>32.9</td>\n",
              "      <td>0.171</td>\n",
              "      <td>63</td>\n",
              "      <td>0</td>\n",
              "    </tr>\n",
              "    <tr>\n",
              "      <th>763</th>\n",
              "      <td>2</td>\n",
              "      <td>122</td>\n",
              "      <td>70</td>\n",
              "      <td>27</td>\n",
              "      <td>0</td>\n",
              "      <td>36.8</td>\n",
              "      <td>0.340</td>\n",
              "      <td>27</td>\n",
              "      <td>0</td>\n",
              "    </tr>\n",
              "    <tr>\n",
              "      <th>764</th>\n",
              "      <td>5</td>\n",
              "      <td>121</td>\n",
              "      <td>72</td>\n",
              "      <td>23</td>\n",
              "      <td>112</td>\n",
              "      <td>26.2</td>\n",
              "      <td>0.245</td>\n",
              "      <td>30</td>\n",
              "      <td>0</td>\n",
              "    </tr>\n",
              "    <tr>\n",
              "      <th>765</th>\n",
              "      <td>1</td>\n",
              "      <td>126</td>\n",
              "      <td>60</td>\n",
              "      <td>0</td>\n",
              "      <td>0</td>\n",
              "      <td>30.1</td>\n",
              "      <td>0.349</td>\n",
              "      <td>47</td>\n",
              "      <td>1</td>\n",
              "    </tr>\n",
              "    <tr>\n",
              "      <th>766</th>\n",
              "      <td>1</td>\n",
              "      <td>93</td>\n",
              "      <td>70</td>\n",
              "      <td>31</td>\n",
              "      <td>0</td>\n",
              "      <td>30.4</td>\n",
              "      <td>0.315</td>\n",
              "      <td>23</td>\n",
              "      <td>0</td>\n",
              "    </tr>\n",
              "  </tbody>\n",
              "</table>\n",
              "</div>"
            ],
            "text/plain": [
              "      6  148  72  35    0  33.6  0.627  50  1\n",
              "762  10  101  76  48  180  32.9  0.171  63  0\n",
              "763   2  122  70  27    0  36.8  0.340  27  0\n",
              "764   5  121  72  23  112  26.2  0.245  30  0\n",
              "765   1  126  60   0    0  30.1  0.349  47  1\n",
              "766   1   93  70  31    0  30.4  0.315  23  0"
            ]
          },
          "metadata": {},
          "execution_count": 33
        }
      ]
    },
    {
      "cell_type": "code",
      "metadata": {
        "id": "jkpHz3BCXJEp",
        "colab": {
          "base_uri": "https://localhost:8080/",
          "height": 845
        },
        "outputId": "fad79f5c-33aa-42b7-e675-194199fc3716"
      },
      "source": [
        "raw_data.head(25)"
      ],
      "execution_count": null,
      "outputs": [
        {
          "output_type": "execute_result",
          "data": {
            "text/html": [
              "<div>\n",
              "<style scoped>\n",
              "    .dataframe tbody tr th:only-of-type {\n",
              "        vertical-align: middle;\n",
              "    }\n",
              "\n",
              "    .dataframe tbody tr th {\n",
              "        vertical-align: top;\n",
              "    }\n",
              "\n",
              "    .dataframe thead th {\n",
              "        text-align: right;\n",
              "    }\n",
              "</style>\n",
              "<table border=\"1\" class=\"dataframe\">\n",
              "  <thead>\n",
              "    <tr style=\"text-align: right;\">\n",
              "      <th></th>\n",
              "      <th>6</th>\n",
              "      <th>148</th>\n",
              "      <th>72</th>\n",
              "      <th>35</th>\n",
              "      <th>0</th>\n",
              "      <th>33.6</th>\n",
              "      <th>0.627</th>\n",
              "      <th>50</th>\n",
              "      <th>1</th>\n",
              "    </tr>\n",
              "  </thead>\n",
              "  <tbody>\n",
              "    <tr>\n",
              "      <th>0</th>\n",
              "      <td>1</td>\n",
              "      <td>85</td>\n",
              "      <td>66</td>\n",
              "      <td>29</td>\n",
              "      <td>0</td>\n",
              "      <td>26.6</td>\n",
              "      <td>0.351</td>\n",
              "      <td>31</td>\n",
              "      <td>0</td>\n",
              "    </tr>\n",
              "    <tr>\n",
              "      <th>1</th>\n",
              "      <td>8</td>\n",
              "      <td>183</td>\n",
              "      <td>64</td>\n",
              "      <td>0</td>\n",
              "      <td>0</td>\n",
              "      <td>23.3</td>\n",
              "      <td>0.672</td>\n",
              "      <td>32</td>\n",
              "      <td>1</td>\n",
              "    </tr>\n",
              "    <tr>\n",
              "      <th>2</th>\n",
              "      <td>1</td>\n",
              "      <td>89</td>\n",
              "      <td>66</td>\n",
              "      <td>23</td>\n",
              "      <td>94</td>\n",
              "      <td>28.1</td>\n",
              "      <td>0.167</td>\n",
              "      <td>21</td>\n",
              "      <td>0</td>\n",
              "    </tr>\n",
              "    <tr>\n",
              "      <th>3</th>\n",
              "      <td>0</td>\n",
              "      <td>137</td>\n",
              "      <td>40</td>\n",
              "      <td>35</td>\n",
              "      <td>168</td>\n",
              "      <td>43.1</td>\n",
              "      <td>2.288</td>\n",
              "      <td>33</td>\n",
              "      <td>1</td>\n",
              "    </tr>\n",
              "    <tr>\n",
              "      <th>4</th>\n",
              "      <td>5</td>\n",
              "      <td>116</td>\n",
              "      <td>74</td>\n",
              "      <td>0</td>\n",
              "      <td>0</td>\n",
              "      <td>25.6</td>\n",
              "      <td>0.201</td>\n",
              "      <td>30</td>\n",
              "      <td>0</td>\n",
              "    </tr>\n",
              "    <tr>\n",
              "      <th>5</th>\n",
              "      <td>3</td>\n",
              "      <td>78</td>\n",
              "      <td>50</td>\n",
              "      <td>32</td>\n",
              "      <td>88</td>\n",
              "      <td>31.0</td>\n",
              "      <td>0.248</td>\n",
              "      <td>26</td>\n",
              "      <td>1</td>\n",
              "    </tr>\n",
              "    <tr>\n",
              "      <th>6</th>\n",
              "      <td>10</td>\n",
              "      <td>115</td>\n",
              "      <td>0</td>\n",
              "      <td>0</td>\n",
              "      <td>0</td>\n",
              "      <td>35.3</td>\n",
              "      <td>0.134</td>\n",
              "      <td>29</td>\n",
              "      <td>0</td>\n",
              "    </tr>\n",
              "    <tr>\n",
              "      <th>7</th>\n",
              "      <td>2</td>\n",
              "      <td>197</td>\n",
              "      <td>70</td>\n",
              "      <td>45</td>\n",
              "      <td>543</td>\n",
              "      <td>30.5</td>\n",
              "      <td>0.158</td>\n",
              "      <td>53</td>\n",
              "      <td>1</td>\n",
              "    </tr>\n",
              "    <tr>\n",
              "      <th>8</th>\n",
              "      <td>8</td>\n",
              "      <td>125</td>\n",
              "      <td>96</td>\n",
              "      <td>0</td>\n",
              "      <td>0</td>\n",
              "      <td>0.0</td>\n",
              "      <td>0.232</td>\n",
              "      <td>54</td>\n",
              "      <td>1</td>\n",
              "    </tr>\n",
              "    <tr>\n",
              "      <th>9</th>\n",
              "      <td>4</td>\n",
              "      <td>110</td>\n",
              "      <td>92</td>\n",
              "      <td>0</td>\n",
              "      <td>0</td>\n",
              "      <td>37.6</td>\n",
              "      <td>0.191</td>\n",
              "      <td>30</td>\n",
              "      <td>0</td>\n",
              "    </tr>\n",
              "    <tr>\n",
              "      <th>10</th>\n",
              "      <td>10</td>\n",
              "      <td>168</td>\n",
              "      <td>74</td>\n",
              "      <td>0</td>\n",
              "      <td>0</td>\n",
              "      <td>38.0</td>\n",
              "      <td>0.537</td>\n",
              "      <td>34</td>\n",
              "      <td>1</td>\n",
              "    </tr>\n",
              "    <tr>\n",
              "      <th>11</th>\n",
              "      <td>10</td>\n",
              "      <td>139</td>\n",
              "      <td>80</td>\n",
              "      <td>0</td>\n",
              "      <td>0</td>\n",
              "      <td>27.1</td>\n",
              "      <td>1.441</td>\n",
              "      <td>57</td>\n",
              "      <td>0</td>\n",
              "    </tr>\n",
              "    <tr>\n",
              "      <th>12</th>\n",
              "      <td>1</td>\n",
              "      <td>189</td>\n",
              "      <td>60</td>\n",
              "      <td>23</td>\n",
              "      <td>846</td>\n",
              "      <td>30.1</td>\n",
              "      <td>0.398</td>\n",
              "      <td>59</td>\n",
              "      <td>1</td>\n",
              "    </tr>\n",
              "    <tr>\n",
              "      <th>13</th>\n",
              "      <td>5</td>\n",
              "      <td>166</td>\n",
              "      <td>72</td>\n",
              "      <td>19</td>\n",
              "      <td>175</td>\n",
              "      <td>25.8</td>\n",
              "      <td>0.587</td>\n",
              "      <td>51</td>\n",
              "      <td>1</td>\n",
              "    </tr>\n",
              "    <tr>\n",
              "      <th>14</th>\n",
              "      <td>7</td>\n",
              "      <td>100</td>\n",
              "      <td>0</td>\n",
              "      <td>0</td>\n",
              "      <td>0</td>\n",
              "      <td>30.0</td>\n",
              "      <td>0.484</td>\n",
              "      <td>32</td>\n",
              "      <td>1</td>\n",
              "    </tr>\n",
              "    <tr>\n",
              "      <th>15</th>\n",
              "      <td>0</td>\n",
              "      <td>118</td>\n",
              "      <td>84</td>\n",
              "      <td>47</td>\n",
              "      <td>230</td>\n",
              "      <td>45.8</td>\n",
              "      <td>0.551</td>\n",
              "      <td>31</td>\n",
              "      <td>1</td>\n",
              "    </tr>\n",
              "    <tr>\n",
              "      <th>16</th>\n",
              "      <td>7</td>\n",
              "      <td>107</td>\n",
              "      <td>74</td>\n",
              "      <td>0</td>\n",
              "      <td>0</td>\n",
              "      <td>29.6</td>\n",
              "      <td>0.254</td>\n",
              "      <td>31</td>\n",
              "      <td>1</td>\n",
              "    </tr>\n",
              "    <tr>\n",
              "      <th>17</th>\n",
              "      <td>1</td>\n",
              "      <td>103</td>\n",
              "      <td>30</td>\n",
              "      <td>38</td>\n",
              "      <td>83</td>\n",
              "      <td>43.3</td>\n",
              "      <td>0.183</td>\n",
              "      <td>33</td>\n",
              "      <td>0</td>\n",
              "    </tr>\n",
              "    <tr>\n",
              "      <th>18</th>\n",
              "      <td>1</td>\n",
              "      <td>115</td>\n",
              "      <td>70</td>\n",
              "      <td>30</td>\n",
              "      <td>96</td>\n",
              "      <td>34.6</td>\n",
              "      <td>0.529</td>\n",
              "      <td>32</td>\n",
              "      <td>1</td>\n",
              "    </tr>\n",
              "    <tr>\n",
              "      <th>19</th>\n",
              "      <td>3</td>\n",
              "      <td>126</td>\n",
              "      <td>88</td>\n",
              "      <td>41</td>\n",
              "      <td>235</td>\n",
              "      <td>39.3</td>\n",
              "      <td>0.704</td>\n",
              "      <td>27</td>\n",
              "      <td>0</td>\n",
              "    </tr>\n",
              "    <tr>\n",
              "      <th>20</th>\n",
              "      <td>8</td>\n",
              "      <td>99</td>\n",
              "      <td>84</td>\n",
              "      <td>0</td>\n",
              "      <td>0</td>\n",
              "      <td>35.4</td>\n",
              "      <td>0.388</td>\n",
              "      <td>50</td>\n",
              "      <td>0</td>\n",
              "    </tr>\n",
              "    <tr>\n",
              "      <th>21</th>\n",
              "      <td>7</td>\n",
              "      <td>196</td>\n",
              "      <td>90</td>\n",
              "      <td>0</td>\n",
              "      <td>0</td>\n",
              "      <td>39.8</td>\n",
              "      <td>0.451</td>\n",
              "      <td>41</td>\n",
              "      <td>1</td>\n",
              "    </tr>\n",
              "    <tr>\n",
              "      <th>22</th>\n",
              "      <td>9</td>\n",
              "      <td>119</td>\n",
              "      <td>80</td>\n",
              "      <td>35</td>\n",
              "      <td>0</td>\n",
              "      <td>29.0</td>\n",
              "      <td>0.263</td>\n",
              "      <td>29</td>\n",
              "      <td>1</td>\n",
              "    </tr>\n",
              "    <tr>\n",
              "      <th>23</th>\n",
              "      <td>11</td>\n",
              "      <td>143</td>\n",
              "      <td>94</td>\n",
              "      <td>33</td>\n",
              "      <td>146</td>\n",
              "      <td>36.6</td>\n",
              "      <td>0.254</td>\n",
              "      <td>51</td>\n",
              "      <td>1</td>\n",
              "    </tr>\n",
              "    <tr>\n",
              "      <th>24</th>\n",
              "      <td>10</td>\n",
              "      <td>125</td>\n",
              "      <td>70</td>\n",
              "      <td>26</td>\n",
              "      <td>115</td>\n",
              "      <td>31.1</td>\n",
              "      <td>0.205</td>\n",
              "      <td>41</td>\n",
              "      <td>1</td>\n",
              "    </tr>\n",
              "  </tbody>\n",
              "</table>\n",
              "</div>"
            ],
            "text/plain": [
              "     6  148  72  35    0  33.6  0.627  50  1\n",
              "0    1   85  66  29    0  26.6  0.351  31  0\n",
              "1    8  183  64   0    0  23.3  0.672  32  1\n",
              "2    1   89  66  23   94  28.1  0.167  21  0\n",
              "3    0  137  40  35  168  43.1  2.288  33  1\n",
              "4    5  116  74   0    0  25.6  0.201  30  0\n",
              "5    3   78  50  32   88  31.0  0.248  26  1\n",
              "6   10  115   0   0    0  35.3  0.134  29  0\n",
              "7    2  197  70  45  543  30.5  0.158  53  1\n",
              "8    8  125  96   0    0   0.0  0.232  54  1\n",
              "9    4  110  92   0    0  37.6  0.191  30  0\n",
              "10  10  168  74   0    0  38.0  0.537  34  1\n",
              "11  10  139  80   0    0  27.1  1.441  57  0\n",
              "12   1  189  60  23  846  30.1  0.398  59  1\n",
              "13   5  166  72  19  175  25.8  0.587  51  1\n",
              "14   7  100   0   0    0  30.0  0.484  32  1\n",
              "15   0  118  84  47  230  45.8  0.551  31  1\n",
              "16   7  107  74   0    0  29.6  0.254  31  1\n",
              "17   1  103  30  38   83  43.3  0.183  33  0\n",
              "18   1  115  70  30   96  34.6  0.529  32  1\n",
              "19   3  126  88  41  235  39.3  0.704  27  0\n",
              "20   8   99  84   0    0  35.4  0.388  50  0\n",
              "21   7  196  90   0    0  39.8  0.451  41  1\n",
              "22   9  119  80  35    0  29.0  0.263  29  1\n",
              "23  11  143  94  33  146  36.6  0.254  51  1\n",
              "24  10  125  70  26  115  31.1  0.205  41  1"
            ]
          },
          "metadata": {},
          "execution_count": 34
        }
      ]
    },
    {
      "cell_type": "code",
      "metadata": {
        "id": "x-ZNZCvrXOup",
        "colab": {
          "base_uri": "https://localhost:8080/",
          "height": 317
        },
        "outputId": "5a3d7a6d-aa4f-4e7f-e63f-8bd1234783db"
      },
      "source": [
        "raw_data.describe()"
      ],
      "execution_count": null,
      "outputs": [
        {
          "output_type": "execute_result",
          "data": {
            "text/html": [
              "<div>\n",
              "<style scoped>\n",
              "    .dataframe tbody tr th:only-of-type {\n",
              "        vertical-align: middle;\n",
              "    }\n",
              "\n",
              "    .dataframe tbody tr th {\n",
              "        vertical-align: top;\n",
              "    }\n",
              "\n",
              "    .dataframe thead th {\n",
              "        text-align: right;\n",
              "    }\n",
              "</style>\n",
              "<table border=\"1\" class=\"dataframe\">\n",
              "  <thead>\n",
              "    <tr style=\"text-align: right;\">\n",
              "      <th></th>\n",
              "      <th>6</th>\n",
              "      <th>148</th>\n",
              "      <th>72</th>\n",
              "      <th>35</th>\n",
              "      <th>0</th>\n",
              "      <th>33.6</th>\n",
              "      <th>0.627</th>\n",
              "      <th>50</th>\n",
              "      <th>1</th>\n",
              "    </tr>\n",
              "  </thead>\n",
              "  <tbody>\n",
              "    <tr>\n",
              "      <th>count</th>\n",
              "      <td>767.000000</td>\n",
              "      <td>767.000000</td>\n",
              "      <td>767.000000</td>\n",
              "      <td>767.000000</td>\n",
              "      <td>767.000000</td>\n",
              "      <td>767.000000</td>\n",
              "      <td>767.000000</td>\n",
              "      <td>767.000000</td>\n",
              "      <td>767.000000</td>\n",
              "    </tr>\n",
              "    <tr>\n",
              "      <th>mean</th>\n",
              "      <td>3.842243</td>\n",
              "      <td>120.859192</td>\n",
              "      <td>69.101695</td>\n",
              "      <td>20.517601</td>\n",
              "      <td>79.903520</td>\n",
              "      <td>31.990482</td>\n",
              "      <td>0.471674</td>\n",
              "      <td>33.219035</td>\n",
              "      <td>0.348110</td>\n",
              "    </tr>\n",
              "    <tr>\n",
              "      <th>std</th>\n",
              "      <td>3.370877</td>\n",
              "      <td>31.978468</td>\n",
              "      <td>19.368155</td>\n",
              "      <td>15.954059</td>\n",
              "      <td>115.283105</td>\n",
              "      <td>7.889091</td>\n",
              "      <td>0.331497</td>\n",
              "      <td>11.752296</td>\n",
              "      <td>0.476682</td>\n",
              "    </tr>\n",
              "    <tr>\n",
              "      <th>min</th>\n",
              "      <td>0.000000</td>\n",
              "      <td>0.000000</td>\n",
              "      <td>0.000000</td>\n",
              "      <td>0.000000</td>\n",
              "      <td>0.000000</td>\n",
              "      <td>0.000000</td>\n",
              "      <td>0.078000</td>\n",
              "      <td>21.000000</td>\n",
              "      <td>0.000000</td>\n",
              "    </tr>\n",
              "    <tr>\n",
              "      <th>25%</th>\n",
              "      <td>1.000000</td>\n",
              "      <td>99.000000</td>\n",
              "      <td>62.000000</td>\n",
              "      <td>0.000000</td>\n",
              "      <td>0.000000</td>\n",
              "      <td>27.300000</td>\n",
              "      <td>0.243500</td>\n",
              "      <td>24.000000</td>\n",
              "      <td>0.000000</td>\n",
              "    </tr>\n",
              "    <tr>\n",
              "      <th>50%</th>\n",
              "      <td>3.000000</td>\n",
              "      <td>117.000000</td>\n",
              "      <td>72.000000</td>\n",
              "      <td>23.000000</td>\n",
              "      <td>32.000000</td>\n",
              "      <td>32.000000</td>\n",
              "      <td>0.371000</td>\n",
              "      <td>29.000000</td>\n",
              "      <td>0.000000</td>\n",
              "    </tr>\n",
              "    <tr>\n",
              "      <th>75%</th>\n",
              "      <td>6.000000</td>\n",
              "      <td>140.000000</td>\n",
              "      <td>80.000000</td>\n",
              "      <td>32.000000</td>\n",
              "      <td>127.500000</td>\n",
              "      <td>36.600000</td>\n",
              "      <td>0.625000</td>\n",
              "      <td>41.000000</td>\n",
              "      <td>1.000000</td>\n",
              "    </tr>\n",
              "    <tr>\n",
              "      <th>max</th>\n",
              "      <td>17.000000</td>\n",
              "      <td>199.000000</td>\n",
              "      <td>122.000000</td>\n",
              "      <td>99.000000</td>\n",
              "      <td>846.000000</td>\n",
              "      <td>67.100000</td>\n",
              "      <td>2.420000</td>\n",
              "      <td>81.000000</td>\n",
              "      <td>1.000000</td>\n",
              "    </tr>\n",
              "  </tbody>\n",
              "</table>\n",
              "</div>"
            ],
            "text/plain": [
              "                6         148          72  ...       0.627          50           1\n",
              "count  767.000000  767.000000  767.000000  ...  767.000000  767.000000  767.000000\n",
              "mean     3.842243  120.859192   69.101695  ...    0.471674   33.219035    0.348110\n",
              "std      3.370877   31.978468   19.368155  ...    0.331497   11.752296    0.476682\n",
              "min      0.000000    0.000000    0.000000  ...    0.078000   21.000000    0.000000\n",
              "25%      1.000000   99.000000   62.000000  ...    0.243500   24.000000    0.000000\n",
              "50%      3.000000  117.000000   72.000000  ...    0.371000   29.000000    0.000000\n",
              "75%      6.000000  140.000000   80.000000  ...    0.625000   41.000000    1.000000\n",
              "max     17.000000  199.000000  122.000000  ...    2.420000   81.000000    1.000000\n",
              "\n",
              "[8 rows x 9 columns]"
            ]
          },
          "metadata": {},
          "execution_count": 35
        }
      ]
    },
    {
      "cell_type": "code",
      "metadata": {
        "id": "Es-1sHfWXT6J",
        "colab": {
          "base_uri": "https://localhost:8080/",
          "height": 348
        },
        "outputId": "d9b921c1-a35a-46dd-a196-656799232724"
      },
      "source": [
        "raw_data.cov()"
      ],
      "execution_count": null,
      "outputs": [
        {
          "output_type": "execute_result",
          "data": {
            "text/html": [
              "<div>\n",
              "<style scoped>\n",
              "    .dataframe tbody tr th:only-of-type {\n",
              "        vertical-align: middle;\n",
              "    }\n",
              "\n",
              "    .dataframe tbody tr th {\n",
              "        vertical-align: top;\n",
              "    }\n",
              "\n",
              "    .dataframe thead th {\n",
              "        text-align: right;\n",
              "    }\n",
              "</style>\n",
              "<table border=\"1\" class=\"dataframe\">\n",
              "  <thead>\n",
              "    <tr style=\"text-align: right;\">\n",
              "      <th></th>\n",
              "      <th>6</th>\n",
              "      <th>148</th>\n",
              "      <th>72</th>\n",
              "      <th>35</th>\n",
              "      <th>0</th>\n",
              "      <th>33.6</th>\n",
              "      <th>0.627</th>\n",
              "      <th>50</th>\n",
              "      <th>1</th>\n",
              "    </tr>\n",
              "  </thead>\n",
              "  <tbody>\n",
              "    <tr>\n",
              "      <th>6</th>\n",
              "      <td>11.362809</td>\n",
              "      <td>13.888985</td>\n",
              "      <td>9.218414</td>\n",
              "      <td>-4.436515</td>\n",
              "      <td>-28.367721</td>\n",
              "      <td>0.465859</td>\n",
              "      <td>-0.037912</td>\n",
              "      <td>21.551571</td>\n",
              "      <td>0.355250</td>\n",
              "    </tr>\n",
              "    <tr>\n",
              "      <th>148</th>\n",
              "      <td>13.888985</td>\n",
              "      <td>1022.622445</td>\n",
              "      <td>94.451675</td>\n",
              "      <td>28.764884</td>\n",
              "      <td>1225.357154</td>\n",
              "      <td>55.742783</td>\n",
              "      <td>1.451278</td>\n",
              "      <td>98.618350</td>\n",
              "      <td>7.101300</td>\n",
              "    </tr>\n",
              "    <tr>\n",
              "      <th>72</th>\n",
              "      <td>9.218414</td>\n",
              "      <td>94.451675</td>\n",
              "      <td>375.125415</td>\n",
              "      <td>64.058260</td>\n",
              "      <td>198.939328</td>\n",
              "      <td>43.054755</td>\n",
              "      <td>0.264396</td>\n",
              "      <td>54.531221</td>\n",
              "      <td>0.599018</td>\n",
              "    </tr>\n",
              "    <tr>\n",
              "      <th>35</th>\n",
              "      <td>-4.436515</td>\n",
              "      <td>28.764884</td>\n",
              "      <td>64.058260</td>\n",
              "      <td>254.532001</td>\n",
              "      <td>805.536948</td>\n",
              "      <td>49.407935</td>\n",
              "      <td>0.970472</td>\n",
              "      <td>-21.725792</td>\n",
              "      <td>0.557181</td>\n",
              "    </tr>\n",
              "    <tr>\n",
              "      <th>0</th>\n",
              "      <td>-28.367721</td>\n",
              "      <td>1225.357154</td>\n",
              "      <td>198.939328</td>\n",
              "      <td>805.536948</td>\n",
              "      <td>13290.194335</td>\n",
              "      <td>180.177540</td>\n",
              "      <td>7.092087</td>\n",
              "      <td>-55.469702</td>\n",
              "      <td>7.252951</td>\n",
              "    </tr>\n",
              "    <tr>\n",
              "      <th>33.6</th>\n",
              "      <td>0.465859</td>\n",
              "      <td>55.742783</td>\n",
              "      <td>43.054755</td>\n",
              "      <td>49.407935</td>\n",
              "      <td>180.177540</td>\n",
              "      <td>62.237755</td>\n",
              "      <td>0.367558</td>\n",
              "      <td>3.329503</td>\n",
              "      <td>1.100707</td>\n",
              "    </tr>\n",
              "    <tr>\n",
              "      <th>0.627</th>\n",
              "      <td>-0.037912</td>\n",
              "      <td>1.451278</td>\n",
              "      <td>0.264396</td>\n",
              "      <td>0.970472</td>\n",
              "      <td>7.092087</td>\n",
              "      <td>0.367558</td>\n",
              "      <td>0.109890</td>\n",
              "      <td>0.127544</td>\n",
              "      <td>0.027376</td>\n",
              "    </tr>\n",
              "    <tr>\n",
              "      <th>50</th>\n",
              "      <td>21.551571</td>\n",
              "      <td>98.618350</td>\n",
              "      <td>54.531221</td>\n",
              "      <td>-21.725792</td>\n",
              "      <td>-55.469702</td>\n",
              "      <td>3.329503</td>\n",
              "      <td>0.127544</td>\n",
              "      <td>138.116452</td>\n",
              "      <td>1.324436</td>\n",
              "    </tr>\n",
              "    <tr>\n",
              "      <th>1</th>\n",
              "      <td>0.355250</td>\n",
              "      <td>7.101300</td>\n",
              "      <td>0.599018</td>\n",
              "      <td>0.557181</td>\n",
              "      <td>7.252951</td>\n",
              "      <td>1.100707</td>\n",
              "      <td>0.027376</td>\n",
              "      <td>1.324436</td>\n",
              "      <td>0.227226</td>\n",
              "    </tr>\n",
              "  </tbody>\n",
              "</table>\n",
              "</div>"
            ],
            "text/plain": [
              "               6          148          72  ...     0.627          50         1\n",
              "6      11.362809    13.888985    9.218414  ... -0.037912   21.551571  0.355250\n",
              "148    13.888985  1022.622445   94.451675  ...  1.451278   98.618350  7.101300\n",
              "72      9.218414    94.451675  375.125415  ...  0.264396   54.531221  0.599018\n",
              "35     -4.436515    28.764884   64.058260  ...  0.970472  -21.725792  0.557181\n",
              "0     -28.367721  1225.357154  198.939328  ...  7.092087  -55.469702  7.252951\n",
              "33.6    0.465859    55.742783   43.054755  ...  0.367558    3.329503  1.100707\n",
              "0.627  -0.037912     1.451278    0.264396  ...  0.109890    0.127544  0.027376\n",
              "50     21.551571    98.618350   54.531221  ...  0.127544  138.116452  1.324436\n",
              "1       0.355250     7.101300    0.599018  ...  0.027376    1.324436  0.227226\n",
              "\n",
              "[9 rows x 9 columns]"
            ]
          },
          "metadata": {},
          "execution_count": 36
        }
      ]
    },
    {
      "cell_type": "code",
      "metadata": {
        "id": "p7yVH0h5XXOQ",
        "colab": {
          "base_uri": "https://localhost:8080/",
          "height": 348
        },
        "outputId": "d425932f-ab72-435e-9ffd-df2f819fd148"
      },
      "source": [
        "raw_data.corr()"
      ],
      "execution_count": null,
      "outputs": [
        {
          "output_type": "execute_result",
          "data": {
            "text/html": [
              "<div>\n",
              "<style scoped>\n",
              "    .dataframe tbody tr th:only-of-type {\n",
              "        vertical-align: middle;\n",
              "    }\n",
              "\n",
              "    .dataframe tbody tr th {\n",
              "        vertical-align: top;\n",
              "    }\n",
              "\n",
              "    .dataframe thead th {\n",
              "        text-align: right;\n",
              "    }\n",
              "</style>\n",
              "<table border=\"1\" class=\"dataframe\">\n",
              "  <thead>\n",
              "    <tr style=\"text-align: right;\">\n",
              "      <th></th>\n",
              "      <th>6</th>\n",
              "      <th>148</th>\n",
              "      <th>72</th>\n",
              "      <th>35</th>\n",
              "      <th>0</th>\n",
              "      <th>33.6</th>\n",
              "      <th>0.627</th>\n",
              "      <th>50</th>\n",
              "      <th>1</th>\n",
              "    </tr>\n",
              "  </thead>\n",
              "  <tbody>\n",
              "    <tr>\n",
              "      <th>6</th>\n",
              "      <td>1.000000</td>\n",
              "      <td>0.128846</td>\n",
              "      <td>0.141197</td>\n",
              "      <td>-0.082495</td>\n",
              "      <td>-0.072999</td>\n",
              "      <td>0.017518</td>\n",
              "      <td>-0.033927</td>\n",
              "      <td>0.544018</td>\n",
              "      <td>0.221087</td>\n",
              "    </tr>\n",
              "    <tr>\n",
              "      <th>148</th>\n",
              "      <td>0.128846</td>\n",
              "      <td>1.000000</td>\n",
              "      <td>0.152498</td>\n",
              "      <td>0.056381</td>\n",
              "      <td>0.332383</td>\n",
              "      <td>0.220955</td>\n",
              "      <td>0.136903</td>\n",
              "      <td>0.262408</td>\n",
              "      <td>0.465856</td>\n",
              "    </tr>\n",
              "    <tr>\n",
              "      <th>72</th>\n",
              "      <td>0.141197</td>\n",
              "      <td>0.152498</td>\n",
              "      <td>1.000000</td>\n",
              "      <td>0.207308</td>\n",
              "      <td>0.089098</td>\n",
              "      <td>0.281777</td>\n",
              "      <td>0.041180</td>\n",
              "      <td>0.239571</td>\n",
              "      <td>0.064882</td>\n",
              "    </tr>\n",
              "    <tr>\n",
              "      <th>35</th>\n",
              "      <td>-0.082495</td>\n",
              "      <td>0.056381</td>\n",
              "      <td>0.207308</td>\n",
              "      <td>1.000000</td>\n",
              "      <td>0.437974</td>\n",
              "      <td>0.392553</td>\n",
              "      <td>0.183498</td>\n",
              "      <td>-0.115873</td>\n",
              "      <td>0.073265</td>\n",
              "    </tr>\n",
              "    <tr>\n",
              "      <th>0</th>\n",
              "      <td>-0.072999</td>\n",
              "      <td>0.332383</td>\n",
              "      <td>0.089098</td>\n",
              "      <td>0.437974</td>\n",
              "      <td>1.000000</td>\n",
              "      <td>0.198111</td>\n",
              "      <td>0.185579</td>\n",
              "      <td>-0.040942</td>\n",
              "      <td>0.131984</td>\n",
              "    </tr>\n",
              "    <tr>\n",
              "      <th>33.6</th>\n",
              "      <td>0.017518</td>\n",
              "      <td>0.220955</td>\n",
              "      <td>0.281777</td>\n",
              "      <td>0.392553</td>\n",
              "      <td>0.198111</td>\n",
              "      <td>1.000000</td>\n",
              "      <td>0.140546</td>\n",
              "      <td>0.035911</td>\n",
              "      <td>0.292695</td>\n",
              "    </tr>\n",
              "    <tr>\n",
              "      <th>0.627</th>\n",
              "      <td>-0.033927</td>\n",
              "      <td>0.136903</td>\n",
              "      <td>0.041180</td>\n",
              "      <td>0.183498</td>\n",
              "      <td>0.185579</td>\n",
              "      <td>0.140546</td>\n",
              "      <td>1.000000</td>\n",
              "      <td>0.032738</td>\n",
              "      <td>0.173245</td>\n",
              "    </tr>\n",
              "    <tr>\n",
              "      <th>50</th>\n",
              "      <td>0.544018</td>\n",
              "      <td>0.262408</td>\n",
              "      <td>0.239571</td>\n",
              "      <td>-0.115873</td>\n",
              "      <td>-0.040942</td>\n",
              "      <td>0.035911</td>\n",
              "      <td>0.032738</td>\n",
              "      <td>1.000000</td>\n",
              "      <td>0.236417</td>\n",
              "    </tr>\n",
              "    <tr>\n",
              "      <th>1</th>\n",
              "      <td>0.221087</td>\n",
              "      <td>0.465856</td>\n",
              "      <td>0.064882</td>\n",
              "      <td>0.073265</td>\n",
              "      <td>0.131984</td>\n",
              "      <td>0.292695</td>\n",
              "      <td>0.173245</td>\n",
              "      <td>0.236417</td>\n",
              "      <td>1.000000</td>\n",
              "    </tr>\n",
              "  </tbody>\n",
              "</table>\n",
              "</div>"
            ],
            "text/plain": [
              "              6       148        72  ...     0.627        50         1\n",
              "6      1.000000  0.128846  0.141197  ... -0.033927  0.544018  0.221087\n",
              "148    0.128846  1.000000  0.152498  ...  0.136903  0.262408  0.465856\n",
              "72     0.141197  0.152498  1.000000  ...  0.041180  0.239571  0.064882\n",
              "35    -0.082495  0.056381  0.207308  ...  0.183498 -0.115873  0.073265\n",
              "0     -0.072999  0.332383  0.089098  ...  0.185579 -0.040942  0.131984\n",
              "33.6   0.017518  0.220955  0.281777  ...  0.140546  0.035911  0.292695\n",
              "0.627 -0.033927  0.136903  0.041180  ...  1.000000  0.032738  0.173245\n",
              "50     0.544018  0.262408  0.239571  ...  0.032738  1.000000  0.236417\n",
              "1      0.221087  0.465856  0.064882  ...  0.173245  0.236417  1.000000\n",
              "\n",
              "[9 rows x 9 columns]"
            ]
          },
          "metadata": {},
          "execution_count": 37
        }
      ]
    },
    {
      "cell_type": "code",
      "metadata": {
        "id": "K7kkfhwPXcPP",
        "colab": {
          "base_uri": "https://localhost:8080/"
        },
        "outputId": "f0e74a42-7a17-4fad-c12e-ed26ce65e70b"
      },
      "source": [
        "from sklearn.datasets import load_iris\n",
        "import numpy as np\n",
        "iris=load_iris()\n",
        "iris"
      ],
      "execution_count": null,
      "outputs": [
        {
          "output_type": "execute_result",
          "data": {
            "text/plain": [
              "{'DESCR': '.. _iris_dataset:\\n\\nIris plants dataset\\n--------------------\\n\\n**Data Set Characteristics:**\\n\\n    :Number of Instances: 150 (50 in each of three classes)\\n    :Number of Attributes: 4 numeric, predictive attributes and the class\\n    :Attribute Information:\\n        - sepal length in cm\\n        - sepal width in cm\\n        - petal length in cm\\n        - petal width in cm\\n        - class:\\n                - Iris-Setosa\\n                - Iris-Versicolour\\n                - Iris-Virginica\\n                \\n    :Summary Statistics:\\n\\n    ============== ==== ==== ======= ===== ====================\\n                    Min  Max   Mean    SD   Class Correlation\\n    ============== ==== ==== ======= ===== ====================\\n    sepal length:   4.3  7.9   5.84   0.83    0.7826\\n    sepal width:    2.0  4.4   3.05   0.43   -0.4194\\n    petal length:   1.0  6.9   3.76   1.76    0.9490  (high!)\\n    petal width:    0.1  2.5   1.20   0.76    0.9565  (high!)\\n    ============== ==== ==== ======= ===== ====================\\n\\n    :Missing Attribute Values: None\\n    :Class Distribution: 33.3% for each of 3 classes.\\n    :Creator: R.A. Fisher\\n    :Donor: Michael Marshall (MARSHALL%PLU@io.arc.nasa.gov)\\n    :Date: July, 1988\\n\\nThe famous Iris database, first used by Sir R.A. Fisher. The dataset is taken\\nfrom Fisher\\'s paper. Note that it\\'s the same as in R, but not as in the UCI\\nMachine Learning Repository, which has two wrong data points.\\n\\nThis is perhaps the best known database to be found in the\\npattern recognition literature.  Fisher\\'s paper is a classic in the field and\\nis referenced frequently to this day.  (See Duda & Hart, for example.)  The\\ndata set contains 3 classes of 50 instances each, where each class refers to a\\ntype of iris plant.  One class is linearly separable from the other 2; the\\nlatter are NOT linearly separable from each other.\\n\\n.. topic:: References\\n\\n   - Fisher, R.A. \"The use of multiple measurements in taxonomic problems\"\\n     Annual Eugenics, 7, Part II, 179-188 (1936); also in \"Contributions to\\n     Mathematical Statistics\" (John Wiley, NY, 1950).\\n   - Duda, R.O., & Hart, P.E. (1973) Pattern Classification and Scene Analysis.\\n     (Q327.D83) John Wiley & Sons.  ISBN 0-471-22361-1.  See page 218.\\n   - Dasarathy, B.V. (1980) \"Nosing Around the Neighborhood: A New System\\n     Structure and Classification Rule for Recognition in Partially Exposed\\n     Environments\".  IEEE Transactions on Pattern Analysis and Machine\\n     Intelligence, Vol. PAMI-2, No. 1, 67-71.\\n   - Gates, G.W. (1972) \"The Reduced Nearest Neighbor Rule\".  IEEE Transactions\\n     on Information Theory, May 1972, 431-433.\\n   - See also: 1988 MLC Proceedings, 54-64.  Cheeseman et al\"s AUTOCLASS II\\n     conceptual clustering system finds 3 classes in the data.\\n   - Many, many more ...',\n",
              " 'data': array([[5.1, 3.5, 1.4, 0.2],\n",
              "        [4.9, 3. , 1.4, 0.2],\n",
              "        [4.7, 3.2, 1.3, 0.2],\n",
              "        [4.6, 3.1, 1.5, 0.2],\n",
              "        [5. , 3.6, 1.4, 0.2],\n",
              "        [5.4, 3.9, 1.7, 0.4],\n",
              "        [4.6, 3.4, 1.4, 0.3],\n",
              "        [5. , 3.4, 1.5, 0.2],\n",
              "        [4.4, 2.9, 1.4, 0.2],\n",
              "        [4.9, 3.1, 1.5, 0.1],\n",
              "        [5.4, 3.7, 1.5, 0.2],\n",
              "        [4.8, 3.4, 1.6, 0.2],\n",
              "        [4.8, 3. , 1.4, 0.1],\n",
              "        [4.3, 3. , 1.1, 0.1],\n",
              "        [5.8, 4. , 1.2, 0.2],\n",
              "        [5.7, 4.4, 1.5, 0.4],\n",
              "        [5.4, 3.9, 1.3, 0.4],\n",
              "        [5.1, 3.5, 1.4, 0.3],\n",
              "        [5.7, 3.8, 1.7, 0.3],\n",
              "        [5.1, 3.8, 1.5, 0.3],\n",
              "        [5.4, 3.4, 1.7, 0.2],\n",
              "        [5.1, 3.7, 1.5, 0.4],\n",
              "        [4.6, 3.6, 1. , 0.2],\n",
              "        [5.1, 3.3, 1.7, 0.5],\n",
              "        [4.8, 3.4, 1.9, 0.2],\n",
              "        [5. , 3. , 1.6, 0.2],\n",
              "        [5. , 3.4, 1.6, 0.4],\n",
              "        [5.2, 3.5, 1.5, 0.2],\n",
              "        [5.2, 3.4, 1.4, 0.2],\n",
              "        [4.7, 3.2, 1.6, 0.2],\n",
              "        [4.8, 3.1, 1.6, 0.2],\n",
              "        [5.4, 3.4, 1.5, 0.4],\n",
              "        [5.2, 4.1, 1.5, 0.1],\n",
              "        [5.5, 4.2, 1.4, 0.2],\n",
              "        [4.9, 3.1, 1.5, 0.2],\n",
              "        [5. , 3.2, 1.2, 0.2],\n",
              "        [5.5, 3.5, 1.3, 0.2],\n",
              "        [4.9, 3.6, 1.4, 0.1],\n",
              "        [4.4, 3. , 1.3, 0.2],\n",
              "        [5.1, 3.4, 1.5, 0.2],\n",
              "        [5. , 3.5, 1.3, 0.3],\n",
              "        [4.5, 2.3, 1.3, 0.3],\n",
              "        [4.4, 3.2, 1.3, 0.2],\n",
              "        [5. , 3.5, 1.6, 0.6],\n",
              "        [5.1, 3.8, 1.9, 0.4],\n",
              "        [4.8, 3. , 1.4, 0.3],\n",
              "        [5.1, 3.8, 1.6, 0.2],\n",
              "        [4.6, 3.2, 1.4, 0.2],\n",
              "        [5.3, 3.7, 1.5, 0.2],\n",
              "        [5. , 3.3, 1.4, 0.2],\n",
              "        [7. , 3.2, 4.7, 1.4],\n",
              "        [6.4, 3.2, 4.5, 1.5],\n",
              "        [6.9, 3.1, 4.9, 1.5],\n",
              "        [5.5, 2.3, 4. , 1.3],\n",
              "        [6.5, 2.8, 4.6, 1.5],\n",
              "        [5.7, 2.8, 4.5, 1.3],\n",
              "        [6.3, 3.3, 4.7, 1.6],\n",
              "        [4.9, 2.4, 3.3, 1. ],\n",
              "        [6.6, 2.9, 4.6, 1.3],\n",
              "        [5.2, 2.7, 3.9, 1.4],\n",
              "        [5. , 2. , 3.5, 1. ],\n",
              "        [5.9, 3. , 4.2, 1.5],\n",
              "        [6. , 2.2, 4. , 1. ],\n",
              "        [6.1, 2.9, 4.7, 1.4],\n",
              "        [5.6, 2.9, 3.6, 1.3],\n",
              "        [6.7, 3.1, 4.4, 1.4],\n",
              "        [5.6, 3. , 4.5, 1.5],\n",
              "        [5.8, 2.7, 4.1, 1. ],\n",
              "        [6.2, 2.2, 4.5, 1.5],\n",
              "        [5.6, 2.5, 3.9, 1.1],\n",
              "        [5.9, 3.2, 4.8, 1.8],\n",
              "        [6.1, 2.8, 4. , 1.3],\n",
              "        [6.3, 2.5, 4.9, 1.5],\n",
              "        [6.1, 2.8, 4.7, 1.2],\n",
              "        [6.4, 2.9, 4.3, 1.3],\n",
              "        [6.6, 3. , 4.4, 1.4],\n",
              "        [6.8, 2.8, 4.8, 1.4],\n",
              "        [6.7, 3. , 5. , 1.7],\n",
              "        [6. , 2.9, 4.5, 1.5],\n",
              "        [5.7, 2.6, 3.5, 1. ],\n",
              "        [5.5, 2.4, 3.8, 1.1],\n",
              "        [5.5, 2.4, 3.7, 1. ],\n",
              "        [5.8, 2.7, 3.9, 1.2],\n",
              "        [6. , 2.7, 5.1, 1.6],\n",
              "        [5.4, 3. , 4.5, 1.5],\n",
              "        [6. , 3.4, 4.5, 1.6],\n",
              "        [6.7, 3.1, 4.7, 1.5],\n",
              "        [6.3, 2.3, 4.4, 1.3],\n",
              "        [5.6, 3. , 4.1, 1.3],\n",
              "        [5.5, 2.5, 4. , 1.3],\n",
              "        [5.5, 2.6, 4.4, 1.2],\n",
              "        [6.1, 3. , 4.6, 1.4],\n",
              "        [5.8, 2.6, 4. , 1.2],\n",
              "        [5. , 2.3, 3.3, 1. ],\n",
              "        [5.6, 2.7, 4.2, 1.3],\n",
              "        [5.7, 3. , 4.2, 1.2],\n",
              "        [5.7, 2.9, 4.2, 1.3],\n",
              "        [6.2, 2.9, 4.3, 1.3],\n",
              "        [5.1, 2.5, 3. , 1.1],\n",
              "        [5.7, 2.8, 4.1, 1.3],\n",
              "        [6.3, 3.3, 6. , 2.5],\n",
              "        [5.8, 2.7, 5.1, 1.9],\n",
              "        [7.1, 3. , 5.9, 2.1],\n",
              "        [6.3, 2.9, 5.6, 1.8],\n",
              "        [6.5, 3. , 5.8, 2.2],\n",
              "        [7.6, 3. , 6.6, 2.1],\n",
              "        [4.9, 2.5, 4.5, 1.7],\n",
              "        [7.3, 2.9, 6.3, 1.8],\n",
              "        [6.7, 2.5, 5.8, 1.8],\n",
              "        [7.2, 3.6, 6.1, 2.5],\n",
              "        [6.5, 3.2, 5.1, 2. ],\n",
              "        [6.4, 2.7, 5.3, 1.9],\n",
              "        [6.8, 3. , 5.5, 2.1],\n",
              "        [5.7, 2.5, 5. , 2. ],\n",
              "        [5.8, 2.8, 5.1, 2.4],\n",
              "        [6.4, 3.2, 5.3, 2.3],\n",
              "        [6.5, 3. , 5.5, 1.8],\n",
              "        [7.7, 3.8, 6.7, 2.2],\n",
              "        [7.7, 2.6, 6.9, 2.3],\n",
              "        [6. , 2.2, 5. , 1.5],\n",
              "        [6.9, 3.2, 5.7, 2.3],\n",
              "        [5.6, 2.8, 4.9, 2. ],\n",
              "        [7.7, 2.8, 6.7, 2. ],\n",
              "        [6.3, 2.7, 4.9, 1.8],\n",
              "        [6.7, 3.3, 5.7, 2.1],\n",
              "        [7.2, 3.2, 6. , 1.8],\n",
              "        [6.2, 2.8, 4.8, 1.8],\n",
              "        [6.1, 3. , 4.9, 1.8],\n",
              "        [6.4, 2.8, 5.6, 2.1],\n",
              "        [7.2, 3. , 5.8, 1.6],\n",
              "        [7.4, 2.8, 6.1, 1.9],\n",
              "        [7.9, 3.8, 6.4, 2. ],\n",
              "        [6.4, 2.8, 5.6, 2.2],\n",
              "        [6.3, 2.8, 5.1, 1.5],\n",
              "        [6.1, 2.6, 5.6, 1.4],\n",
              "        [7.7, 3. , 6.1, 2.3],\n",
              "        [6.3, 3.4, 5.6, 2.4],\n",
              "        [6.4, 3.1, 5.5, 1.8],\n",
              "        [6. , 3. , 4.8, 1.8],\n",
              "        [6.9, 3.1, 5.4, 2.1],\n",
              "        [6.7, 3.1, 5.6, 2.4],\n",
              "        [6.9, 3.1, 5.1, 2.3],\n",
              "        [5.8, 2.7, 5.1, 1.9],\n",
              "        [6.8, 3.2, 5.9, 2.3],\n",
              "        [6.7, 3.3, 5.7, 2.5],\n",
              "        [6.7, 3. , 5.2, 2.3],\n",
              "        [6.3, 2.5, 5. , 1.9],\n",
              "        [6.5, 3. , 5.2, 2. ],\n",
              "        [6.2, 3.4, 5.4, 2.3],\n",
              "        [5.9, 3. , 5.1, 1.8]]),\n",
              " 'feature_names': ['sepal length (cm)',\n",
              "  'sepal width (cm)',\n",
              "  'petal length (cm)',\n",
              "  'petal width (cm)'],\n",
              " 'filename': '/usr/local/lib/python3.7/dist-packages/sklearn/datasets/data/iris.csv',\n",
              " 'target': array([0, 0, 0, 0, 0, 0, 0, 0, 0, 0, 0, 0, 0, 0, 0, 0, 0, 0, 0, 0, 0, 0,\n",
              "        0, 0, 0, 0, 0, 0, 0, 0, 0, 0, 0, 0, 0, 0, 0, 0, 0, 0, 0, 0, 0, 0,\n",
              "        0, 0, 0, 0, 0, 0, 1, 1, 1, 1, 1, 1, 1, 1, 1, 1, 1, 1, 1, 1, 1, 1,\n",
              "        1, 1, 1, 1, 1, 1, 1, 1, 1, 1, 1, 1, 1, 1, 1, 1, 1, 1, 1, 1, 1, 1,\n",
              "        1, 1, 1, 1, 1, 1, 1, 1, 1, 1, 1, 1, 2, 2, 2, 2, 2, 2, 2, 2, 2, 2,\n",
              "        2, 2, 2, 2, 2, 2, 2, 2, 2, 2, 2, 2, 2, 2, 2, 2, 2, 2, 2, 2, 2, 2,\n",
              "        2, 2, 2, 2, 2, 2, 2, 2, 2, 2, 2, 2, 2, 2, 2, 2, 2, 2]),\n",
              " 'target_names': array(['setosa', 'versicolor', 'virginica'], dtype='<U10')}"
            ]
          },
          "metadata": {},
          "execution_count": 38
        }
      ]
    },
    {
      "cell_type": "code",
      "metadata": {
        "id": "t1mWLi2WXh26",
        "colab": {
          "base_uri": "https://localhost:8080/",
          "height": 420
        },
        "outputId": "11273de8-d026-4693-e9b8-3d1f7f65e374"
      },
      "source": [
        "X=pd.DataFrame(iris.data)\n",
        "X"
      ],
      "execution_count": null,
      "outputs": [
        {
          "output_type": "execute_result",
          "data": {
            "text/html": [
              "<div>\n",
              "<style scoped>\n",
              "    .dataframe tbody tr th:only-of-type {\n",
              "        vertical-align: middle;\n",
              "    }\n",
              "\n",
              "    .dataframe tbody tr th {\n",
              "        vertical-align: top;\n",
              "    }\n",
              "\n",
              "    .dataframe thead th {\n",
              "        text-align: right;\n",
              "    }\n",
              "</style>\n",
              "<table border=\"1\" class=\"dataframe\">\n",
              "  <thead>\n",
              "    <tr style=\"text-align: right;\">\n",
              "      <th></th>\n",
              "      <th>0</th>\n",
              "      <th>1</th>\n",
              "      <th>2</th>\n",
              "      <th>3</th>\n",
              "    </tr>\n",
              "  </thead>\n",
              "  <tbody>\n",
              "    <tr>\n",
              "      <th>0</th>\n",
              "      <td>5.1</td>\n",
              "      <td>3.5</td>\n",
              "      <td>1.4</td>\n",
              "      <td>0.2</td>\n",
              "    </tr>\n",
              "    <tr>\n",
              "      <th>1</th>\n",
              "      <td>4.9</td>\n",
              "      <td>3.0</td>\n",
              "      <td>1.4</td>\n",
              "      <td>0.2</td>\n",
              "    </tr>\n",
              "    <tr>\n",
              "      <th>2</th>\n",
              "      <td>4.7</td>\n",
              "      <td>3.2</td>\n",
              "      <td>1.3</td>\n",
              "      <td>0.2</td>\n",
              "    </tr>\n",
              "    <tr>\n",
              "      <th>3</th>\n",
              "      <td>4.6</td>\n",
              "      <td>3.1</td>\n",
              "      <td>1.5</td>\n",
              "      <td>0.2</td>\n",
              "    </tr>\n",
              "    <tr>\n",
              "      <th>4</th>\n",
              "      <td>5.0</td>\n",
              "      <td>3.6</td>\n",
              "      <td>1.4</td>\n",
              "      <td>0.2</td>\n",
              "    </tr>\n",
              "    <tr>\n",
              "      <th>...</th>\n",
              "      <td>...</td>\n",
              "      <td>...</td>\n",
              "      <td>...</td>\n",
              "      <td>...</td>\n",
              "    </tr>\n",
              "    <tr>\n",
              "      <th>145</th>\n",
              "      <td>6.7</td>\n",
              "      <td>3.0</td>\n",
              "      <td>5.2</td>\n",
              "      <td>2.3</td>\n",
              "    </tr>\n",
              "    <tr>\n",
              "      <th>146</th>\n",
              "      <td>6.3</td>\n",
              "      <td>2.5</td>\n",
              "      <td>5.0</td>\n",
              "      <td>1.9</td>\n",
              "    </tr>\n",
              "    <tr>\n",
              "      <th>147</th>\n",
              "      <td>6.5</td>\n",
              "      <td>3.0</td>\n",
              "      <td>5.2</td>\n",
              "      <td>2.0</td>\n",
              "    </tr>\n",
              "    <tr>\n",
              "      <th>148</th>\n",
              "      <td>6.2</td>\n",
              "      <td>3.4</td>\n",
              "      <td>5.4</td>\n",
              "      <td>2.3</td>\n",
              "    </tr>\n",
              "    <tr>\n",
              "      <th>149</th>\n",
              "      <td>5.9</td>\n",
              "      <td>3.0</td>\n",
              "      <td>5.1</td>\n",
              "      <td>1.8</td>\n",
              "    </tr>\n",
              "  </tbody>\n",
              "</table>\n",
              "<p>150 rows × 4 columns</p>\n",
              "</div>"
            ],
            "text/plain": [
              "       0    1    2    3\n",
              "0    5.1  3.5  1.4  0.2\n",
              "1    4.9  3.0  1.4  0.2\n",
              "2    4.7  3.2  1.3  0.2\n",
              "3    4.6  3.1  1.5  0.2\n",
              "4    5.0  3.6  1.4  0.2\n",
              "..   ...  ...  ...  ...\n",
              "145  6.7  3.0  5.2  2.3\n",
              "146  6.3  2.5  5.0  1.9\n",
              "147  6.5  3.0  5.2  2.0\n",
              "148  6.2  3.4  5.4  2.3\n",
              "149  5.9  3.0  5.1  1.8\n",
              "\n",
              "[150 rows x 4 columns]"
            ]
          },
          "metadata": {},
          "execution_count": 39
        }
      ]
    },
    {
      "cell_type": "code",
      "metadata": {
        "id": "Hb4umuMxXlse",
        "colab": {
          "base_uri": "https://localhost:8080/",
          "height": 224
        },
        "outputId": "0321cdbe-6223-40ae-a922-4c24927e3d12"
      },
      "source": [
        "X.shape\n",
        "(150,4)\n",
        "X.columns=['Sepal_length','Sepal_width','petal_length','petal_width']\n",
        "X.head()"
      ],
      "execution_count": null,
      "outputs": [
        {
          "output_type": "execute_result",
          "data": {
            "text/html": [
              "<div>\n",
              "<style scoped>\n",
              "    .dataframe tbody tr th:only-of-type {\n",
              "        vertical-align: middle;\n",
              "    }\n",
              "\n",
              "    .dataframe tbody tr th {\n",
              "        vertical-align: top;\n",
              "    }\n",
              "\n",
              "    .dataframe thead th {\n",
              "        text-align: right;\n",
              "    }\n",
              "</style>\n",
              "<table border=\"1\" class=\"dataframe\">\n",
              "  <thead>\n",
              "    <tr style=\"text-align: right;\">\n",
              "      <th></th>\n",
              "      <th>Sepal_length</th>\n",
              "      <th>Sepal_width</th>\n",
              "      <th>petal_length</th>\n",
              "      <th>petal_width</th>\n",
              "    </tr>\n",
              "  </thead>\n",
              "  <tbody>\n",
              "    <tr>\n",
              "      <th>0</th>\n",
              "      <td>5.1</td>\n",
              "      <td>3.5</td>\n",
              "      <td>1.4</td>\n",
              "      <td>0.2</td>\n",
              "    </tr>\n",
              "    <tr>\n",
              "      <th>1</th>\n",
              "      <td>4.9</td>\n",
              "      <td>3.0</td>\n",
              "      <td>1.4</td>\n",
              "      <td>0.2</td>\n",
              "    </tr>\n",
              "    <tr>\n",
              "      <th>2</th>\n",
              "      <td>4.7</td>\n",
              "      <td>3.2</td>\n",
              "      <td>1.3</td>\n",
              "      <td>0.2</td>\n",
              "    </tr>\n",
              "    <tr>\n",
              "      <th>3</th>\n",
              "      <td>4.6</td>\n",
              "      <td>3.1</td>\n",
              "      <td>1.5</td>\n",
              "      <td>0.2</td>\n",
              "    </tr>\n",
              "    <tr>\n",
              "      <th>4</th>\n",
              "      <td>5.0</td>\n",
              "      <td>3.6</td>\n",
              "      <td>1.4</td>\n",
              "      <td>0.2</td>\n",
              "    </tr>\n",
              "  </tbody>\n",
              "</table>\n",
              "</div>"
            ],
            "text/plain": [
              "   Sepal_length  Sepal_width  petal_length  petal_width\n",
              "0           5.1          3.5           1.4          0.2\n",
              "1           4.9          3.0           1.4          0.2\n",
              "2           4.7          3.2           1.3          0.2\n",
              "3           4.6          3.1           1.5          0.2\n",
              "4           5.0          3.6           1.4          0.2"
            ]
          },
          "metadata": {},
          "execution_count": 40
        }
      ]
    },
    {
      "cell_type": "code",
      "metadata": {
        "id": "7bOo74cEXpWR",
        "colab": {
          "base_uri": "https://localhost:8080/",
          "height": 224
        },
        "outputId": "71ade91a-198a-4a5c-df55-41d7d838370e"
      },
      "source": [
        "X.tail()"
      ],
      "execution_count": null,
      "outputs": [
        {
          "output_type": "execute_result",
          "data": {
            "text/html": [
              "<div>\n",
              "<style scoped>\n",
              "    .dataframe tbody tr th:only-of-type {\n",
              "        vertical-align: middle;\n",
              "    }\n",
              "\n",
              "    .dataframe tbody tr th {\n",
              "        vertical-align: top;\n",
              "    }\n",
              "\n",
              "    .dataframe thead th {\n",
              "        text-align: right;\n",
              "    }\n",
              "</style>\n",
              "<table border=\"1\" class=\"dataframe\">\n",
              "  <thead>\n",
              "    <tr style=\"text-align: right;\">\n",
              "      <th></th>\n",
              "      <th>Sepal_length</th>\n",
              "      <th>Sepal_width</th>\n",
              "      <th>petal_length</th>\n",
              "      <th>petal_width</th>\n",
              "    </tr>\n",
              "  </thead>\n",
              "  <tbody>\n",
              "    <tr>\n",
              "      <th>145</th>\n",
              "      <td>6.7</td>\n",
              "      <td>3.0</td>\n",
              "      <td>5.2</td>\n",
              "      <td>2.3</td>\n",
              "    </tr>\n",
              "    <tr>\n",
              "      <th>146</th>\n",
              "      <td>6.3</td>\n",
              "      <td>2.5</td>\n",
              "      <td>5.0</td>\n",
              "      <td>1.9</td>\n",
              "    </tr>\n",
              "    <tr>\n",
              "      <th>147</th>\n",
              "      <td>6.5</td>\n",
              "      <td>3.0</td>\n",
              "      <td>5.2</td>\n",
              "      <td>2.0</td>\n",
              "    </tr>\n",
              "    <tr>\n",
              "      <th>148</th>\n",
              "      <td>6.2</td>\n",
              "      <td>3.4</td>\n",
              "      <td>5.4</td>\n",
              "      <td>2.3</td>\n",
              "    </tr>\n",
              "    <tr>\n",
              "      <th>149</th>\n",
              "      <td>5.9</td>\n",
              "      <td>3.0</td>\n",
              "      <td>5.1</td>\n",
              "      <td>1.8</td>\n",
              "    </tr>\n",
              "  </tbody>\n",
              "</table>\n",
              "</div>"
            ],
            "text/plain": [
              "     Sepal_length  Sepal_width  petal_length  petal_width\n",
              "145           6.7          3.0           5.2          2.3\n",
              "146           6.3          2.5           5.0          1.9\n",
              "147           6.5          3.0           5.2          2.0\n",
              "148           6.2          3.4           5.4          2.3\n",
              "149           5.9          3.0           5.1          1.8"
            ]
          },
          "metadata": {},
          "execution_count": 44
        }
      ]
    },
    {
      "cell_type": "code",
      "metadata": {
        "id": "R_OjV4QAXuGE",
        "colab": {
          "base_uri": "https://localhost:8080/",
          "height": 317
        },
        "outputId": "a45c7212-cff5-49df-d815-a60d18dd6607"
      },
      "source": [
        "X.describe()"
      ],
      "execution_count": null,
      "outputs": [
        {
          "output_type": "execute_result",
          "data": {
            "text/html": [
              "<div>\n",
              "<style scoped>\n",
              "    .dataframe tbody tr th:only-of-type {\n",
              "        vertical-align: middle;\n",
              "    }\n",
              "\n",
              "    .dataframe tbody tr th {\n",
              "        vertical-align: top;\n",
              "    }\n",
              "\n",
              "    .dataframe thead th {\n",
              "        text-align: right;\n",
              "    }\n",
              "</style>\n",
              "<table border=\"1\" class=\"dataframe\">\n",
              "  <thead>\n",
              "    <tr style=\"text-align: right;\">\n",
              "      <th></th>\n",
              "      <th>Sepal_length</th>\n",
              "      <th>Sepal_width</th>\n",
              "      <th>petal_length</th>\n",
              "      <th>petal_width</th>\n",
              "    </tr>\n",
              "  </thead>\n",
              "  <tbody>\n",
              "    <tr>\n",
              "      <th>count</th>\n",
              "      <td>150.000000</td>\n",
              "      <td>150.000000</td>\n",
              "      <td>150.000000</td>\n",
              "      <td>150.000000</td>\n",
              "    </tr>\n",
              "    <tr>\n",
              "      <th>mean</th>\n",
              "      <td>5.843333</td>\n",
              "      <td>3.057333</td>\n",
              "      <td>3.758000</td>\n",
              "      <td>1.199333</td>\n",
              "    </tr>\n",
              "    <tr>\n",
              "      <th>std</th>\n",
              "      <td>0.828066</td>\n",
              "      <td>0.435866</td>\n",
              "      <td>1.765298</td>\n",
              "      <td>0.762238</td>\n",
              "    </tr>\n",
              "    <tr>\n",
              "      <th>min</th>\n",
              "      <td>4.300000</td>\n",
              "      <td>2.000000</td>\n",
              "      <td>1.000000</td>\n",
              "      <td>0.100000</td>\n",
              "    </tr>\n",
              "    <tr>\n",
              "      <th>25%</th>\n",
              "      <td>5.100000</td>\n",
              "      <td>2.800000</td>\n",
              "      <td>1.600000</td>\n",
              "      <td>0.300000</td>\n",
              "    </tr>\n",
              "    <tr>\n",
              "      <th>50%</th>\n",
              "      <td>5.800000</td>\n",
              "      <td>3.000000</td>\n",
              "      <td>4.350000</td>\n",
              "      <td>1.300000</td>\n",
              "    </tr>\n",
              "    <tr>\n",
              "      <th>75%</th>\n",
              "      <td>6.400000</td>\n",
              "      <td>3.300000</td>\n",
              "      <td>5.100000</td>\n",
              "      <td>1.800000</td>\n",
              "    </tr>\n",
              "    <tr>\n",
              "      <th>max</th>\n",
              "      <td>7.900000</td>\n",
              "      <td>4.400000</td>\n",
              "      <td>6.900000</td>\n",
              "      <td>2.500000</td>\n",
              "    </tr>\n",
              "  </tbody>\n",
              "</table>\n",
              "</div>"
            ],
            "text/plain": [
              "       Sepal_length  Sepal_width  petal_length  petal_width\n",
              "count    150.000000   150.000000    150.000000   150.000000\n",
              "mean       5.843333     3.057333      3.758000     1.199333\n",
              "std        0.828066     0.435866      1.765298     0.762238\n",
              "min        4.300000     2.000000      1.000000     0.100000\n",
              "25%        5.100000     2.800000      1.600000     0.300000\n",
              "50%        5.800000     3.000000      4.350000     1.300000\n",
              "75%        6.400000     3.300000      5.100000     1.800000\n",
              "max        7.900000     4.400000      6.900000     2.500000"
            ]
          },
          "metadata": {},
          "execution_count": 43
        }
      ]
    },
    {
      "cell_type": "code",
      "metadata": {
        "id": "Y_S397C5XzDx",
        "colab": {
          "base_uri": "https://localhost:8080/",
          "height": 193
        },
        "outputId": "223e0eed-c6a4-4136-a51f-09a80afde015"
      },
      "source": [
        "X.cov()"
      ],
      "execution_count": null,
      "outputs": [
        {
          "output_type": "execute_result",
          "data": {
            "text/html": [
              "<div>\n",
              "<style scoped>\n",
              "    .dataframe tbody tr th:only-of-type {\n",
              "        vertical-align: middle;\n",
              "    }\n",
              "\n",
              "    .dataframe tbody tr th {\n",
              "        vertical-align: top;\n",
              "    }\n",
              "\n",
              "    .dataframe thead th {\n",
              "        text-align: right;\n",
              "    }\n",
              "</style>\n",
              "<table border=\"1\" class=\"dataframe\">\n",
              "  <thead>\n",
              "    <tr style=\"text-align: right;\">\n",
              "      <th></th>\n",
              "      <th>Sepal_length</th>\n",
              "      <th>Sepal_width</th>\n",
              "      <th>petal_length</th>\n",
              "      <th>petal_width</th>\n",
              "    </tr>\n",
              "  </thead>\n",
              "  <tbody>\n",
              "    <tr>\n",
              "      <th>Sepal_length</th>\n",
              "      <td>0.685694</td>\n",
              "      <td>-0.042434</td>\n",
              "      <td>1.274315</td>\n",
              "      <td>0.516271</td>\n",
              "    </tr>\n",
              "    <tr>\n",
              "      <th>Sepal_width</th>\n",
              "      <td>-0.042434</td>\n",
              "      <td>0.189979</td>\n",
              "      <td>-0.329656</td>\n",
              "      <td>-0.121639</td>\n",
              "    </tr>\n",
              "    <tr>\n",
              "      <th>petal_length</th>\n",
              "      <td>1.274315</td>\n",
              "      <td>-0.329656</td>\n",
              "      <td>3.116278</td>\n",
              "      <td>1.295609</td>\n",
              "    </tr>\n",
              "    <tr>\n",
              "      <th>petal_width</th>\n",
              "      <td>0.516271</td>\n",
              "      <td>-0.121639</td>\n",
              "      <td>1.295609</td>\n",
              "      <td>0.581006</td>\n",
              "    </tr>\n",
              "  </tbody>\n",
              "</table>\n",
              "</div>"
            ],
            "text/plain": [
              "              Sepal_length  Sepal_width  petal_length  petal_width\n",
              "Sepal_length      0.685694    -0.042434      1.274315     0.516271\n",
              "Sepal_width      -0.042434     0.189979     -0.329656    -0.121639\n",
              "petal_length      1.274315    -0.329656      3.116278     1.295609\n",
              "petal_width       0.516271    -0.121639      1.295609     0.581006"
            ]
          },
          "metadata": {},
          "execution_count": 41
        }
      ]
    },
    {
      "cell_type": "code",
      "metadata": {
        "id": "m0Zr-MixX5OS",
        "colab": {
          "base_uri": "https://localhost:8080/",
          "height": 193
        },
        "outputId": "eb23b662-2387-4847-e15b-c0d9bff20a9f"
      },
      "source": [
        "X.corr()"
      ],
      "execution_count": null,
      "outputs": [
        {
          "output_type": "execute_result",
          "data": {
            "text/html": [
              "<div>\n",
              "<style scoped>\n",
              "    .dataframe tbody tr th:only-of-type {\n",
              "        vertical-align: middle;\n",
              "    }\n",
              "\n",
              "    .dataframe tbody tr th {\n",
              "        vertical-align: top;\n",
              "    }\n",
              "\n",
              "    .dataframe thead th {\n",
              "        text-align: right;\n",
              "    }\n",
              "</style>\n",
              "<table border=\"1\" class=\"dataframe\">\n",
              "  <thead>\n",
              "    <tr style=\"text-align: right;\">\n",
              "      <th></th>\n",
              "      <th>Sepal_length</th>\n",
              "      <th>Sepal_width</th>\n",
              "      <th>petal_length</th>\n",
              "      <th>petal_width</th>\n",
              "    </tr>\n",
              "  </thead>\n",
              "  <tbody>\n",
              "    <tr>\n",
              "      <th>Sepal_length</th>\n",
              "      <td>1.000000</td>\n",
              "      <td>-0.117570</td>\n",
              "      <td>0.871754</td>\n",
              "      <td>0.817941</td>\n",
              "    </tr>\n",
              "    <tr>\n",
              "      <th>Sepal_width</th>\n",
              "      <td>-0.117570</td>\n",
              "      <td>1.000000</td>\n",
              "      <td>-0.428440</td>\n",
              "      <td>-0.366126</td>\n",
              "    </tr>\n",
              "    <tr>\n",
              "      <th>petal_length</th>\n",
              "      <td>0.871754</td>\n",
              "      <td>-0.428440</td>\n",
              "      <td>1.000000</td>\n",
              "      <td>0.962865</td>\n",
              "    </tr>\n",
              "    <tr>\n",
              "      <th>petal_width</th>\n",
              "      <td>0.817941</td>\n",
              "      <td>-0.366126</td>\n",
              "      <td>0.962865</td>\n",
              "      <td>1.000000</td>\n",
              "    </tr>\n",
              "  </tbody>\n",
              "</table>\n",
              "</div>"
            ],
            "text/plain": [
              "              Sepal_length  Sepal_width  petal_length  petal_width\n",
              "Sepal_length      1.000000    -0.117570      0.871754     0.817941\n",
              "Sepal_width      -0.117570     1.000000     -0.428440    -0.366126\n",
              "petal_length      0.871754    -0.428440      1.000000     0.962865\n",
              "petal_width       0.817941    -0.366126      0.962865     1.000000"
            ]
          },
          "metadata": {},
          "execution_count": 42
        }
      ]
    },
    {
      "cell_type": "code",
      "metadata": {
        "id": "D6YoxnHpX8y9",
        "colab": {
          "base_uri": "https://localhost:8080/"
        },
        "outputId": "1c1f7cc8-bd95-4e8c-e4c6-028533da367a"
      },
      "source": [
        "import numpy as np\n",
        "df=pd.DataFrame({'Name':['valli','sai','Chinni','Chikki'],'state':['IND','USA','UK','USSR'],'Grade':['A','A','B','C'],'Age':np.random.uniform(24,35,size=4),'salary':np.random.uniform(3000,5000,size=4),})\n",
        "print(df)"
      ],
      "execution_count": null,
      "outputs": [
        {
          "output_type": "stream",
          "name": "stdout",
          "text": [
            "     Name state Grade        Age       salary\n",
            "0   valli   IND     A  34.897375  4175.542714\n",
            "1     sai   USA     A  29.710951  4430.040815\n",
            "2  Chinni    UK     B  28.275262  4511.400789\n",
            "3  Chikki  USSR     C  25.406106  3887.112576\n"
          ]
        }
      ]
    },
    {
      "cell_type": "code",
      "metadata": {
        "id": "TZtUIu9fYAYN",
        "colab": {
          "base_uri": "https://localhost:8080/",
          "height": 224
        },
        "outputId": "7a759352-51a0-4474-9bac-d8142aaf5ea7"
      },
      "source": [
        "import numpy as np\n",
        "import pandas as pd\n",
        "df=pd.DataFrame({'Name':['valli','sai','Chinni','Chikki'],'state':['IND','USA','UK','USSR'],'Grade':['A','A','B','C'],'Age':np.random.uniform(24,35,size=4),'salary':np.random.uniform(3000,5000,size=4),})\n",
        "df.groupby(['Name','state']).max()"
      ],
      "execution_count": null,
      "outputs": [
        {
          "output_type": "execute_result",
          "data": {
            "text/html": [
              "<div>\n",
              "<style scoped>\n",
              "    .dataframe tbody tr th:only-of-type {\n",
              "        vertical-align: middle;\n",
              "    }\n",
              "\n",
              "    .dataframe tbody tr th {\n",
              "        vertical-align: top;\n",
              "    }\n",
              "\n",
              "    .dataframe thead th {\n",
              "        text-align: right;\n",
              "    }\n",
              "</style>\n",
              "<table border=\"1\" class=\"dataframe\">\n",
              "  <thead>\n",
              "    <tr style=\"text-align: right;\">\n",
              "      <th></th>\n",
              "      <th></th>\n",
              "      <th>Grade</th>\n",
              "      <th>Age</th>\n",
              "      <th>salary</th>\n",
              "    </tr>\n",
              "    <tr>\n",
              "      <th>Name</th>\n",
              "      <th>state</th>\n",
              "      <th></th>\n",
              "      <th></th>\n",
              "      <th></th>\n",
              "    </tr>\n",
              "  </thead>\n",
              "  <tbody>\n",
              "    <tr>\n",
              "      <th>Chikki</th>\n",
              "      <th>USSR</th>\n",
              "      <td>C</td>\n",
              "      <td>27.131472</td>\n",
              "      <td>3674.317745</td>\n",
              "    </tr>\n",
              "    <tr>\n",
              "      <th>Chinni</th>\n",
              "      <th>UK</th>\n",
              "      <td>B</td>\n",
              "      <td>26.126747</td>\n",
              "      <td>3366.335263</td>\n",
              "    </tr>\n",
              "    <tr>\n",
              "      <th>sai</th>\n",
              "      <th>USA</th>\n",
              "      <td>A</td>\n",
              "      <td>31.739408</td>\n",
              "      <td>4341.733637</td>\n",
              "    </tr>\n",
              "    <tr>\n",
              "      <th>valli</th>\n",
              "      <th>IND</th>\n",
              "      <td>A</td>\n",
              "      <td>29.997920</td>\n",
              "      <td>3245.396062</td>\n",
              "    </tr>\n",
              "  </tbody>\n",
              "</table>\n",
              "</div>"
            ],
            "text/plain": [
              "             Grade        Age       salary\n",
              "Name   state                              \n",
              "Chikki USSR      C  27.131472  3674.317745\n",
              "Chinni UK        B  26.126747  3366.335263\n",
              "sai    USA       A  31.739408  4341.733637\n",
              "valli  IND       A  29.997920  3245.396062"
            ]
          },
          "metadata": {},
          "execution_count": 25
        }
      ]
    },
    {
      "cell_type": "markdown",
      "metadata": {
        "id": "kPSrnnnVYDzn"
      },
      "source": [
        "# **Scipy**"
      ]
    },
    {
      "cell_type": "code",
      "metadata": {
        "id": "AUYFkx-_YIW4",
        "colab": {
          "base_uri": "https://localhost:8080/"
        },
        "outputId": "3bac23e8-474b-4b5e-f4af-ace75f72ca52"
      },
      "source": [
        "import numpy as np\n",
        "np.linspace(1.,4.,6)"
      ],
      "execution_count": null,
      "outputs": [
        {
          "output_type": "execute_result",
          "data": {
            "text/plain": [
              "array([1. , 1.6, 2.2, 2.8, 3.4, 4. ])"
            ]
          },
          "metadata": {},
          "execution_count": 20
        }
      ]
    },
    {
      "cell_type": "code",
      "metadata": {
        "id": "PVdIT4ASYLsA",
        "colab": {
          "base_uri": "https://localhost:8080/"
        },
        "outputId": "fe55f62f-2f4c-4e18-d06a-e114e51a8a47"
      },
      "source": [
        "from scipy.cluster.vq import kmeans,vq,whiten\n",
        "from numpy import vstack,array\n",
        "from numpy.random import rand\n",
        " \n",
        "data=vstack((rand(100,3)+array([.5,.5,.5]),rand(100,3)))\n",
        "data"
      ],
      "execution_count": null,
      "outputs": [
        {
          "output_type": "execute_result",
          "data": {
            "text/plain": [
              "array([[1.46718108e+00, 1.32857615e+00, 5.62609046e-01],\n",
              "       [1.25617849e+00, 1.42016913e+00, 1.30077675e+00],\n",
              "       [8.28007035e-01, 1.06683742e+00, 7.28468862e-01],\n",
              "       [9.78873131e-01, 6.31438970e-01, 5.79473684e-01],\n",
              "       [8.85871158e-01, 5.80372852e-01, 7.84088890e-01],\n",
              "       [1.41319562e+00, 5.22741708e-01, 1.14156309e+00],\n",
              "       [8.05296338e-01, 1.38677666e+00, 7.87094304e-01],\n",
              "       [6.78774885e-01, 1.08112286e+00, 1.27845248e+00],\n",
              "       [5.22059471e-01, 1.20466535e+00, 5.18103793e-01],\n",
              "       [1.08471141e+00, 1.26452808e+00, 9.60122659e-01],\n",
              "       [7.70912854e-01, 9.25180556e-01, 1.25614769e+00],\n",
              "       [1.37764890e+00, 1.12669274e+00, 5.85641662e-01],\n",
              "       [1.04636695e+00, 1.02390864e+00, 6.81975746e-01],\n",
              "       [1.49356674e+00, 1.13871271e+00, 5.52310775e-01],\n",
              "       [5.47660565e-01, 1.30289972e+00, 8.65621503e-01],\n",
              "       [8.74240822e-01, 1.43870297e+00, 5.37765564e-01],\n",
              "       [6.46367804e-01, 7.20002474e-01, 1.10057614e+00],\n",
              "       [1.11213811e+00, 8.15013089e-01, 1.42947322e+00],\n",
              "       [5.25091757e-01, 1.49788212e+00, 5.50440808e-01],\n",
              "       [7.49425113e-01, 5.23637291e-01, 8.87038397e-01],\n",
              "       [1.26118279e+00, 1.48705226e+00, 5.08607335e-01],\n",
              "       [6.01349986e-01, 1.22476725e+00, 1.18569213e+00],\n",
              "       [5.05477472e-01, 6.86372282e-01, 1.03271712e+00],\n",
              "       [1.08213467e+00, 8.46801097e-01, 1.01321938e+00],\n",
              "       [1.12153039e+00, 1.26226905e+00, 1.19964097e+00],\n",
              "       [1.41489137e+00, 8.46188414e-01, 1.15211962e+00],\n",
              "       [9.55197952e-01, 1.41698156e+00, 1.20527906e+00],\n",
              "       [1.11794684e+00, 1.43632248e+00, 1.20671915e+00],\n",
              "       [6.55133587e-01, 7.44331368e-01, 8.87052582e-01],\n",
              "       [1.26686549e+00, 1.35422525e+00, 1.18335699e+00],\n",
              "       [9.94859609e-01, 5.03035649e-01, 1.46564972e+00],\n",
              "       [1.02355087e+00, 7.68924842e-01, 1.10547329e+00],\n",
              "       [5.90788978e-01, 5.88272386e-01, 1.38779837e+00],\n",
              "       [1.36723875e+00, 1.30005342e+00, 1.49589496e+00],\n",
              "       [1.23729863e+00, 9.37607935e-01, 5.86833659e-01],\n",
              "       [8.01747692e-01, 6.49407647e-01, 1.12069129e+00],\n",
              "       [6.31959100e-01, 1.10930480e+00, 6.71094559e-01],\n",
              "       [1.23548653e+00, 8.16132834e-01, 1.46236344e+00],\n",
              "       [1.42788167e+00, 1.02482719e+00, 9.00797417e-01],\n",
              "       [7.16033215e-01, 1.28647837e+00, 1.02279471e+00],\n",
              "       [5.07179220e-01, 6.45757556e-01, 7.43825127e-01],\n",
              "       [6.69122382e-01, 1.31447898e+00, 5.44914809e-01],\n",
              "       [1.14196228e+00, 8.80906616e-01, 1.44556241e+00],\n",
              "       [5.48527829e-01, 1.35921198e+00, 9.29339125e-01],\n",
              "       [1.24415703e+00, 1.12194033e+00, 1.36383271e+00],\n",
              "       [1.28507475e+00, 9.16101986e-01, 1.16070442e+00],\n",
              "       [6.74480058e-01, 1.26262307e+00, 1.39628738e+00],\n",
              "       [9.73173472e-01, 1.20756948e+00, 5.53081262e-01],\n",
              "       [5.89774020e-01, 1.49366275e+00, 7.54607533e-01],\n",
              "       [1.45055180e+00, 1.08901860e+00, 5.65358384e-01],\n",
              "       [1.49287110e+00, 6.39951914e-01, 1.48059440e+00],\n",
              "       [1.46019417e+00, 1.27367765e+00, 1.24418487e+00],\n",
              "       [7.76801426e-01, 9.56888434e-01, 1.30258610e+00],\n",
              "       [7.72819645e-01, 6.68193614e-01, 1.14027871e+00],\n",
              "       [7.60318057e-01, 7.64372498e-01, 1.22450634e+00],\n",
              "       [9.22342979e-01, 8.16113340e-01, 5.18510093e-01],\n",
              "       [1.11812311e+00, 1.10118457e+00, 6.43250821e-01],\n",
              "       [5.73800279e-01, 1.14260768e+00, 7.70271435e-01],\n",
              "       [1.00481737e+00, 9.34654365e-01, 7.01446981e-01],\n",
              "       [1.34342400e+00, 5.83029369e-01, 1.31552446e+00],\n",
              "       [7.85676945e-01, 1.05802638e+00, 5.82571604e-01],\n",
              "       [5.58545523e-01, 5.19247670e-01, 1.12565254e+00],\n",
              "       [9.78366419e-01, 1.44505962e+00, 5.48096958e-01],\n",
              "       [1.48406718e+00, 7.70185707e-01, 6.92835533e-01],\n",
              "       [5.19488431e-01, 1.35337130e+00, 5.88304999e-01],\n",
              "       [5.18741858e-01, 7.71857400e-01, 1.41076543e+00],\n",
              "       [1.10708403e+00, 1.32854760e+00, 6.28645955e-01],\n",
              "       [6.55751864e-01, 7.92419237e-01, 1.49392264e+00],\n",
              "       [1.36706779e+00, 6.30282385e-01, 1.28433212e+00],\n",
              "       [6.31043815e-01, 5.94509870e-01, 8.14759757e-01],\n",
              "       [1.08402075e+00, 6.66836075e-01, 5.09589950e-01],\n",
              "       [1.24631753e+00, 1.32109694e+00, 7.11747997e-01],\n",
              "       [1.13226248e+00, 1.35436038e+00, 1.44252608e+00],\n",
              "       [8.64858935e-01, 1.35321355e+00, 1.22943773e+00],\n",
              "       [9.90146979e-01, 5.83400955e-01, 7.43492600e-01],\n",
              "       [9.27192137e-01, 7.78383004e-01, 9.02110936e-01],\n",
              "       [9.13973790e-01, 6.85903183e-01, 1.20443279e+00],\n",
              "       [9.54501997e-01, 8.34194623e-01, 5.30233240e-01],\n",
              "       [6.48632461e-01, 6.71316104e-01, 1.40544386e+00],\n",
              "       [1.43890397e+00, 1.37109314e+00, 5.46326235e-01],\n",
              "       [1.03955563e+00, 1.12321106e+00, 1.02503985e+00],\n",
              "       [1.00115899e+00, 1.38992812e+00, 7.23216015e-01],\n",
              "       [7.90853711e-01, 7.68411213e-01, 1.13016351e+00],\n",
              "       [1.45878471e+00, 7.13355379e-01, 1.41134383e+00],\n",
              "       [5.19789007e-01, 1.46797689e+00, 7.94370435e-01],\n",
              "       [9.24682563e-01, 5.37544543e-01, 9.08683496e-01],\n",
              "       [8.33594075e-01, 1.49915999e+00, 1.18944788e+00],\n",
              "       [8.15080322e-01, 1.09380836e+00, 9.38728342e-01],\n",
              "       [1.35536073e+00, 6.15029525e-01, 6.89294149e-01],\n",
              "       [1.24115553e+00, 1.26488741e+00, 9.96075752e-01],\n",
              "       [1.22143631e+00, 1.24809703e+00, 1.05440755e+00],\n",
              "       [1.34461154e+00, 1.16161622e+00, 6.41408316e-01],\n",
              "       [8.16811128e-01, 7.34055154e-01, 5.71320678e-01],\n",
              "       [1.43903499e+00, 1.30626705e+00, 1.36229066e+00],\n",
              "       [1.48072706e+00, 7.32530742e-01, 6.14868141e-01],\n",
              "       [8.15994912e-01, 5.39607798e-01, 5.85794341e-01],\n",
              "       [7.97875395e-01, 6.48734063e-01, 1.36637665e+00],\n",
              "       [1.25570952e+00, 1.43984185e+00, 6.32243168e-01],\n",
              "       [1.39592997e+00, 1.08951128e+00, 1.21353661e+00],\n",
              "       [1.35011128e+00, 5.08664642e-01, 1.25882053e+00],\n",
              "       [2.61093808e-01, 8.75934661e-02, 4.42681370e-01],\n",
              "       [5.39925550e-01, 1.80056025e-02, 6.85988923e-01],\n",
              "       [5.51833631e-01, 3.40342256e-01, 3.12131570e-01],\n",
              "       [7.44599162e-02, 4.37068805e-01, 5.84112013e-01],\n",
              "       [2.39811634e-01, 4.47512319e-01, 9.01714605e-01],\n",
              "       [2.17618282e-01, 7.87525049e-01, 7.21745137e-01],\n",
              "       [3.86890730e-01, 1.33935583e-01, 1.48729057e-01],\n",
              "       [8.59602223e-01, 9.09595517e-01, 5.67065766e-01],\n",
              "       [2.51040332e-01, 9.21065748e-01, 5.32654177e-01],\n",
              "       [1.21701163e-01, 1.11345270e-01, 7.91166302e-01],\n",
              "       [7.40354817e-01, 9.07002121e-01, 3.58405666e-04],\n",
              "       [2.78512020e-01, 4.02608960e-01, 2.79616076e-02],\n",
              "       [1.10552674e-01, 7.44506785e-01, 1.21740851e-01],\n",
              "       [8.41618995e-01, 5.82928855e-01, 1.83230086e-01],\n",
              "       [3.45502064e-01, 7.59630945e-01, 1.83801991e-02],\n",
              "       [6.55774393e-01, 1.07582587e-01, 2.40714661e-01],\n",
              "       [5.10442128e-01, 1.88503041e-01, 9.78767377e-01],\n",
              "       [5.14253568e-01, 4.52076717e-01, 1.63110500e-01],\n",
              "       [5.62889908e-01, 4.42786736e-01, 8.53944677e-01],\n",
              "       [9.80655733e-01, 6.74129849e-01, 9.75325449e-01],\n",
              "       [2.35551376e-01, 2.16706044e-02, 8.99490468e-01],\n",
              "       [5.94826050e-01, 2.94364958e-01, 8.13025471e-01],\n",
              "       [8.40746687e-01, 8.05031270e-01, 7.58377350e-01],\n",
              "       [9.88749135e-01, 9.62321424e-02, 6.71879833e-01],\n",
              "       [1.91013756e-01, 6.99635101e-01, 6.13064626e-01],\n",
              "       [2.96244271e-01, 3.12505528e-02, 7.92646980e-01],\n",
              "       [8.49499219e-01, 2.46828374e-01, 6.35336367e-01],\n",
              "       [6.58964476e-01, 1.01577592e-02, 6.78456403e-02],\n",
              "       [6.56357579e-01, 9.68430813e-01, 3.33030728e-01],\n",
              "       [6.90865761e-01, 8.88634384e-01, 2.92423371e-01],\n",
              "       [2.24998425e-02, 6.24373310e-02, 7.65643262e-01],\n",
              "       [6.86177429e-01, 8.82054856e-01, 6.03596565e-02],\n",
              "       [8.44274982e-01, 4.53024382e-01, 2.09745736e-01],\n",
              "       [1.68097543e-01, 6.28994175e-01, 3.71585435e-01],\n",
              "       [7.59644703e-01, 1.26358517e-01, 1.40813299e-02],\n",
              "       [4.52292159e-01, 8.78188664e-01, 3.87623496e-01],\n",
              "       [3.91398277e-01, 8.57835118e-01, 8.74082728e-01],\n",
              "       [4.96197392e-02, 7.25673699e-01, 7.23084211e-01],\n",
              "       [9.24122691e-01, 3.73900094e-01, 7.41443959e-01],\n",
              "       [1.98359486e-01, 2.10115701e-01, 6.14849439e-01],\n",
              "       [7.57914379e-01, 6.26363765e-01, 4.48011796e-01],\n",
              "       [8.54822741e-01, 2.57318646e-01, 7.02646019e-01],\n",
              "       [1.17422935e-01, 3.00888762e-01, 2.80902579e-01],\n",
              "       [9.93889082e-01, 5.74988597e-01, 8.07282418e-01],\n",
              "       [3.24487046e-01, 7.16905898e-01, 6.89862142e-01],\n",
              "       [4.49310649e-01, 2.80716215e-01, 4.42924936e-01],\n",
              "       [7.78682120e-01, 2.03345283e-01, 7.98755115e-01],\n",
              "       [4.01537331e-01, 1.07715645e-02, 6.14330570e-01],\n",
              "       [2.99319393e-01, 6.77556314e-01, 4.46443585e-01],\n",
              "       [6.60388496e-01, 1.43216116e-01, 4.57439809e-01],\n",
              "       [2.25785944e-01, 4.72873488e-01, 4.27078016e-01],\n",
              "       [8.49382075e-02, 3.07736059e-01, 7.33173274e-01],\n",
              "       [9.79560039e-01, 8.09225937e-01, 8.46746902e-01],\n",
              "       [1.52177908e-01, 9.23332393e-01, 6.18669339e-02],\n",
              "       [9.74457384e-01, 4.71391585e-01, 2.45396163e-01],\n",
              "       [2.54591308e-01, 1.83016348e-01, 4.95887727e-01],\n",
              "       [1.42420187e-01, 4.69819816e-02, 4.20729537e-03],\n",
              "       [5.85032405e-01, 7.12938606e-01, 2.37247365e-01],\n",
              "       [7.13414124e-01, 8.29324956e-01, 5.39409620e-01],\n",
              "       [1.49418756e-01, 1.05004546e-01, 4.56349931e-02],\n",
              "       [8.41513516e-01, 4.98074731e-01, 2.24678722e-01],\n",
              "       [7.16301052e-01, 6.84244030e-02, 1.50966927e-01],\n",
              "       [8.01236531e-01, 9.35501064e-01, 3.30330833e-01],\n",
              "       [1.28983644e-02, 1.61724309e-01, 5.85910320e-01],\n",
              "       [2.74787556e-01, 9.98840808e-01, 4.87122858e-01],\n",
              "       [1.25824778e-01, 2.05120315e-01, 1.52211193e-02],\n",
              "       [7.50182302e-01, 2.79776729e-01, 8.57575941e-01],\n",
              "       [2.51631145e-01, 8.88247402e-02, 6.62890880e-02],\n",
              "       [8.44622057e-01, 1.80093132e-01, 3.20130117e-01],\n",
              "       [6.86567945e-01, 4.33905613e-01, 3.80302333e-01],\n",
              "       [9.50675499e-01, 3.76854244e-01, 3.57171277e-01],\n",
              "       [8.58833549e-01, 5.01467672e-01, 8.47664649e-01],\n",
              "       [6.68413175e-01, 1.43411116e-01, 2.85339461e-01],\n",
              "       [8.12335738e-01, 2.94324089e-01, 3.16921030e-01],\n",
              "       [7.84328472e-01, 6.68166218e-01, 6.53443515e-01],\n",
              "       [5.36029936e-01, 7.79540937e-01, 3.01701190e-01],\n",
              "       [5.80894336e-03, 9.00189903e-01, 8.94105320e-01],\n",
              "       [4.04336444e-01, 2.79115100e-01, 4.96580833e-01],\n",
              "       [2.39023777e-01, 8.04783558e-01, 2.09500488e-01],\n",
              "       [1.83783531e-01, 2.11320848e-01, 2.61145802e-01],\n",
              "       [6.34530620e-01, 3.78607411e-01, 4.40930938e-01],\n",
              "       [1.67360747e-02, 3.04728179e-01, 7.06237555e-02],\n",
              "       [1.10097659e-01, 8.09542384e-01, 9.64213960e-01],\n",
              "       [6.17750137e-01, 9.73491120e-01, 6.97227500e-01],\n",
              "       [2.79739423e-01, 8.65447693e-01, 2.14015949e-01],\n",
              "       [9.71727266e-01, 8.82388320e-01, 7.39580888e-01],\n",
              "       [7.95238277e-01, 8.49616848e-01, 3.41158321e-01],\n",
              "       [6.62605232e-01, 6.50478782e-01, 1.76844442e-01],\n",
              "       [5.34141690e-02, 9.09724990e-02, 8.06776292e-01],\n",
              "       [3.37826805e-02, 4.90612639e-01, 2.09254669e-01],\n",
              "       [1.14100957e-01, 8.29004734e-02, 4.66353790e-01],\n",
              "       [8.60938941e-02, 3.01329195e-01, 5.03563393e-01],\n",
              "       [4.99815960e-01, 7.01526317e-01, 3.96051782e-01],\n",
              "       [3.34649111e-01, 1.84022343e-04, 3.63241719e-01],\n",
              "       [9.57137647e-01, 2.92169693e-01, 3.09545622e-01],\n",
              "       [4.09044959e-01, 5.86836270e-01, 9.08692168e-01],\n",
              "       [1.90600403e-01, 3.46056383e-01, 9.87542448e-01],\n",
              "       [4.67055671e-02, 6.95359896e-01, 5.49660583e-01],\n",
              "       [1.29155153e-01, 2.35921929e-01, 3.16279223e-01],\n",
              "       [3.87621286e-01, 1.11594201e-01, 6.35984206e-01]])"
            ]
          },
          "metadata": {},
          "execution_count": 21
        }
      ]
    },
    {
      "cell_type": "code",
      "metadata": {
        "id": "8U9usvcHYQFI",
        "colab": {
          "base_uri": "https://localhost:8080/"
        },
        "outputId": "48cc1b07-0185-4eda-afe0-d0b8de6430ee"
      },
      "source": [
        "data=whiten(data)\n",
        "data"
      ],
      "execution_count": null,
      "outputs": [
        {
          "output_type": "execute_result",
          "data": {
            "text/plain": [
              "array([[3.67197322e+00, 3.23467657e+00, 1.45541296e+00],\n",
              "       [3.14388855e+00, 3.45767746e+00, 3.36497849e+00],\n",
              "       [2.07228658e+00, 2.59742283e+00, 1.88447560e+00],\n",
              "       [2.44986524e+00, 1.53736076e+00, 1.49904007e+00],\n",
              "       [2.21710545e+00, 1.41303039e+00, 2.02835901e+00],\n",
              "       [3.53686163e+00, 1.27271618e+00, 2.95310878e+00],\n",
              "       [2.01544760e+00, 3.37637701e+00, 2.03613372e+00],\n",
              "       [1.69879726e+00, 2.63220350e+00, 3.30722785e+00],\n",
              "       [1.30657928e+00, 2.93299168e+00, 1.34028235e+00],\n",
              "       [2.71475095e+00, 3.07873912e+00, 2.48374065e+00],\n",
              "       [1.92939467e+00, 2.25253169e+00, 3.24952761e+00],\n",
              "       [3.44789742e+00, 2.74315222e+00, 1.51499601e+00],\n",
              "       [2.61878473e+00, 2.49290436e+00, 1.76420259e+00],\n",
              "       [3.73800968e+00, 2.77241718e+00, 1.42877236e+00],\n",
              "       [1.37065217e+00, 3.17216232e+00, 2.23927567e+00],\n",
              "       [2.18799774e+00, 3.50280170e+00, 1.39114537e+00],\n",
              "       [1.61769075e+00, 1.75298581e+00, 2.84707967e+00],\n",
              "       [2.78339287e+00, 1.98430760e+00, 3.69790328e+00],\n",
              "       [1.31416830e+00, 3.64688483e+00, 1.42393495e+00],\n",
              "       [1.87561643e+00, 1.27489665e+00, 2.29467902e+00],\n",
              "       [3.15641300e+00, 3.62051743e+00, 1.31571597e+00],\n",
              "       [1.50502284e+00, 2.98193365e+00, 3.06726616e+00],\n",
              "       [1.26507884e+00, 1.67110658e+00, 2.67153521e+00],\n",
              "       [2.70830205e+00, 2.06170167e+00, 2.62109651e+00],\n",
              "       [2.80689932e+00, 3.07323907e+00, 3.10335041e+00],\n",
              "       [3.54110565e+00, 2.06020998e+00, 2.98041745e+00],\n",
              "       [2.39061241e+00, 3.44991672e+00, 3.11793558e+00],\n",
              "       [2.79793062e+00, 3.49700593e+00, 3.12166095e+00],\n",
              "       [1.63962923e+00, 1.81221922e+00, 2.29471572e+00],\n",
              "       [3.17063531e+00, 3.29712428e+00, 3.06122538e+00],\n",
              "       [2.48987524e+00, 1.22473795e+00, 3.79148826e+00],\n",
              "       [2.56168202e+00, 1.87209681e+00, 2.85974809e+00],\n",
              "       [1.47859139e+00, 1.43226334e+00, 3.59009466e+00],\n",
              "       [3.42184352e+00, 3.16523245e+00, 3.86972966e+00],\n",
              "       [3.09663713e+00, 2.28278855e+00, 1.51807959e+00],\n",
              "       [2.00656626e+00, 1.58110900e+00, 2.89911554e+00],\n",
              "       [1.58162951e+00, 2.70081789e+00, 1.73605405e+00],\n",
              "       [3.09210194e+00, 1.98703383e+00, 3.78298698e+00],\n",
              "       [3.57361700e+00, 2.49514075e+00, 2.33027222e+00],\n",
              "       [1.79204519e+00, 3.13218137e+00, 2.64586694e+00],\n",
              "       [1.26933787e+00, 1.57222214e+00, 1.92420071e+00],\n",
              "       [1.67463955e+00, 3.20035429e+00, 1.40963975e+00],\n",
              "       [2.85803502e+00, 2.14473818e+00, 3.73952440e+00],\n",
              "       [1.37282271e+00, 3.30926546e+00, 2.40410675e+00],\n",
              "       [3.11380194e+00, 2.73158156e+00, 3.52809791e+00],\n",
              "       [3.21620837e+00, 2.23042814e+00, 3.00262548e+00],\n",
              "       [1.68804842e+00, 3.07410100e+00, 3.61205486e+00],\n",
              "       [2.43560047e+00, 2.94006235e+00, 1.43076554e+00],\n",
              "       [1.47605121e+00, 3.63661195e+00, 1.95209371e+00],\n",
              "       [3.63035445e+00, 2.65142720e+00, 1.46252522e+00],\n",
              "       [3.73626868e+00, 1.55808718e+00, 3.83014864e+00],\n",
              "       [3.65448679e+00, 3.10101551e+00, 3.21858098e+00],\n",
              "       [1.94413224e+00, 2.32973067e+00, 3.36965909e+00],\n",
              "       [1.93416687e+00, 1.62684708e+00, 2.94978622e+00],\n",
              "       [1.90287864e+00, 1.86101325e+00, 3.16767461e+00],\n",
              "       [2.30838495e+00, 1.98698637e+00, 1.34133340e+00],\n",
              "       [2.79837176e+00, 2.68104761e+00, 1.66402511e+00],\n",
              "       [1.43607308e+00, 2.78190024e+00, 1.99261465e+00],\n",
              "       [2.51479692e+00, 2.27559751e+00, 1.81457271e+00],\n",
              "       [3.36224139e+00, 1.41949819e+00, 3.40312933e+00],\n",
              "       [1.96634535e+00, 2.57597063e+00, 1.50705408e+00],\n",
              "       [1.39789439e+00, 1.26420926e+00, 2.91194979e+00],\n",
              "       [2.44859707e+00, 3.51827821e+00, 1.41787164e+00],\n",
              "       [3.71423475e+00, 1.87516663e+00, 1.79229576e+00],\n",
              "       [1.30014463e+00, 3.29504518e+00, 1.52188580e+00],\n",
              "       [1.29827615e+00, 1.87923669e+00, 3.64950812e+00],\n",
              "       [2.77074382e+00, 3.23460706e+00, 1.62624379e+00],\n",
              "       [1.64117662e+00, 1.92929848e+00, 3.86462745e+00],\n",
              "       [3.42141565e+00, 1.53454483e+00, 3.32243789e+00],\n",
              "       [1.57933879e+00, 1.44744970e+00, 2.10770146e+00],\n",
              "       [2.71302241e+00, 1.62354189e+00, 1.31825789e+00],\n",
              "       [3.11920912e+00, 3.21646700e+00, 1.84122040e+00],\n",
              "       [2.83375894e+00, 3.29745329e+00, 3.73166972e+00],\n",
              "       [2.16451731e+00, 3.29466112e+00, 3.18043163e+00],\n",
              "       [2.47808075e+00, 1.42040289e+00, 1.92334050e+00],\n",
              "       [2.32052113e+00, 1.89512454e+00, 2.33367016e+00],\n",
              "       [2.28743904e+00, 1.66996447e+00, 3.11574635e+00],\n",
              "       [2.38887062e+00, 2.03100876e+00, 1.37166000e+00],\n",
              "       [1.62335860e+00, 1.63444939e+00, 3.63574177e+00],\n",
              "       [3.60120295e+00, 3.33819245e+00, 1.41329096e+00],\n",
              "       [2.60173776e+00, 2.73467540e+00, 2.65167490e+00],\n",
              "       [2.50564096e+00, 3.38404986e+00, 1.87088701e+00],\n",
              "       [1.97930146e+00, 1.87084628e+00, 2.92361921e+00],\n",
              "       [3.65095929e+00, 1.73680217e+00, 3.65100437e+00],\n",
              "       [1.30089690e+00, 3.57407473e+00, 2.05495633e+00],\n",
              "       [2.31424032e+00, 1.30875655e+00, 2.35067271e+00],\n",
              "       [2.08626949e+00, 3.64999604e+00, 3.07698190e+00],\n",
              "       [2.03993437e+00, 2.66308881e+00, 2.42839570e+00],\n",
              "       [3.39211591e+00, 1.49740878e+00, 1.78313456e+00],\n",
              "       [3.10628998e+00, 3.07961397e+00, 2.57674768e+00],\n",
              "       [3.05693788e+00, 3.03873453e+00, 2.72764617e+00],\n",
              "       [3.36521350e+00, 2.82818021e+00, 1.65925873e+00],\n",
              "       [2.04426613e+00, 1.78719979e+00, 1.47794907e+00],\n",
              "       [3.60153087e+00, 3.18036073e+00, 3.52410876e+00],\n",
              "       [3.70587530e+00, 1.78348831e+00, 1.59060197e+00],\n",
              "       [2.04222335e+00, 1.31377995e+00, 1.51539098e+00],\n",
              "       [1.99687491e+00, 1.57946903e+00, 3.53467881e+00],\n",
              "       [3.14271482e+00, 3.50557453e+00, 1.63554942e+00],\n",
              "       [3.49365019e+00, 2.65262674e+00, 3.13929702e+00],\n",
              "       [3.37897791e+00, 1.23844283e+00, 3.25644198e+00],\n",
              "       [6.53449996e-01, 2.13263299e-01, 1.14517213e+00],\n",
              "       [1.35129343e+00, 4.38381351e-02, 1.77458427e+00],\n",
              "       [1.38109627e+00, 8.28629298e-01, 8.07452945e-01],\n",
              "       [1.86353833e-01, 1.06412886e+00, 1.51103897e+00],\n",
              "       [6.00186242e-01, 1.08955562e+00, 2.33264489e+00],\n",
              "       [5.44642045e-01, 1.91738263e+00, 1.86708200e+00],\n",
              "       [9.68287022e-01, 3.26092179e-01, 3.84747097e-01],\n",
              "       [2.15136113e+00, 2.21458688e+00, 1.46694204e+00],\n",
              "       [6.28288757e-01, 2.24251339e+00, 1.37792272e+00],\n",
              "       [3.04586406e-01, 2.71091678e-01, 2.04666756e+00],\n",
              "       [1.85291584e+00, 2.20827275e+00, 9.27159372e-04],\n",
              "       [6.97043257e-01, 9.80229678e-01, 7.23338636e-02],\n",
              "       [2.76684632e-01, 1.81264631e+00, 3.14931325e-01],\n",
              "       [2.10635378e+00, 1.41925347e+00, 4.73997785e-01],\n",
              "       [8.64701941e-01, 1.84946902e+00, 4.75477246e-02],\n",
              "       [1.64123300e+00, 2.61930695e-01, 6.22704591e-01],\n",
              "       [1.27750409e+00, 4.58947251e-01, 2.53197266e+00],\n",
              "       [1.28704313e+00, 1.10066854e+00, 4.21950441e-01],\n",
              "       [1.40876726e+00, 1.07805027e+00, 2.20906890e+00],\n",
              "       [2.45432663e+00, 1.64130000e+00, 2.52306873e+00],\n",
              "       [5.89523923e-01, 5.27612937e-02, 2.32689128e+00],\n",
              "       [1.48869513e+00, 7.16688641e-01, 2.10321503e+00],\n",
              "       [2.10417062e+00, 1.96000492e+00, 1.96184585e+00],\n",
              "       [2.47458231e+00, 2.34295834e-01, 1.73808548e+00],\n",
              "       [4.78057825e-01, 1.70339749e+00, 1.58593646e+00],\n",
              "       [7.41422476e-01, 7.60855381e-02, 2.05049793e+00],\n",
              "       [2.12607593e+00, 6.00951598e-01, 1.64355121e+00],\n",
              "       [1.64921695e+00, 2.47310368e-02, 1.75509840e-01],\n",
              "       [1.64269257e+00, 2.35783283e+00, 8.61516961e-01],\n",
              "       [1.72905758e+00, 2.16355293e+00, 7.56469817e-01],\n",
              "       [5.63112626e-02, 1.52015804e-01, 1.98064203e+00],\n",
              "       [1.71732391e+00, 2.14753379e+00, 1.56144354e-01],\n",
              "       [2.11300102e+00, 1.10297581e+00, 5.42591100e-01],\n",
              "       [4.20704496e-01, 1.53140844e+00, 9.61254107e-01],\n",
              "       [1.90119341e+00, 3.07644341e-01, 3.64269827e-02],\n",
              "       [1.13196981e+00, 2.13812080e+00, 1.00274296e+00],\n",
              "       [9.79568241e-01, 2.08856614e+00, 2.26116401e+00],\n",
              "       [1.24185321e-01, 1.76679351e+00, 1.87054605e+00],\n",
              "       [2.31283910e+00, 9.10332370e-01, 1.91804087e+00],\n",
              "       [4.96442281e-01, 5.11567468e-01, 1.59055359e+00],\n",
              "       [1.89686286e+00, 1.52500419e+00, 1.15896141e+00],\n",
              "       [2.13939933e+00, 6.26492202e-01, 1.81767450e+00],\n",
              "       [2.93879111e-01, 7.32572108e-01, 7.26666688e-01],\n",
              "       [2.48744626e+00, 1.39992137e+00, 2.08835833e+00],\n",
              "       [8.12106808e-01, 1.74544659e+00, 1.78460390e+00],\n",
              "       [1.12450787e+00, 6.83458124e-01, 1.14580221e+00],\n",
              "       [1.94883912e+00, 4.95083571e-01, 2.06629906e+00],\n",
              "       [1.00494366e+00, 2.62254651e-02, 1.58921133e+00],\n",
              "       [7.49118708e-01, 1.64964239e+00, 1.15490460e+00],\n",
              "       [1.65278090e+00, 3.48687438e-01, 1.18335073e+00],\n",
              "       [5.65083581e-01, 1.15130231e+00, 1.10480783e+00],\n",
              "       [2.12578275e-01, 7.49243182e-01, 1.89664544e+00],\n",
              "       [2.45158439e+00, 1.97021765e+00, 2.19044898e+00],\n",
              "       [3.80861785e-01, 2.24803197e+00, 1.60043529e-01],\n",
              "       [2.43881377e+00, 1.14769433e+00, 6.34815166e-01],\n",
              "       [6.37175928e-01, 4.45588831e-01, 1.28281162e+00],\n",
              "       [3.56440742e-01, 1.14386756e-01, 1.08838495e-02],\n",
              "       [1.46418418e+00, 1.73578745e+00, 6.13735046e-01],\n",
              "       [1.78549028e+00, 2.01915261e+00, 1.39539838e+00],\n",
              "       [3.73956342e-01, 2.55653953e-01, 1.18053132e-01],\n",
              "       [2.10608979e+00, 1.21265963e+00, 5.81221232e-01],\n",
              "       [1.79271551e+00, 1.66592493e-01, 3.90536240e-01],\n",
              "       [2.00528696e+00, 2.27765896e+00, 8.54532605e-01],\n",
              "       [3.22812563e-02, 3.93749228e-01, 1.51569100e+00],\n",
              "       [6.87721890e-01, 2.43187187e+00, 1.26013779e+00],\n",
              "       [3.14906744e-01, 4.99405230e-01, 3.93755030e-02],\n",
              "       [1.87751148e+00, 6.81170766e-01, 2.21846261e+00],\n",
              "       [6.29767407e-01, 2.16261075e-01, 1.71483196e-01],\n",
              "       [2.11386966e+00, 4.38471693e-01, 8.28144380e-01],\n",
              "       [1.71830127e+00, 1.05642746e+00, 9.83803843e-01],\n",
              "       [2.37929388e+00, 9.17524822e-01, 9.23966132e-01],\n",
              "       [2.14943734e+00, 1.22092041e+00, 2.19282310e+00],\n",
              "       [1.67286459e+00, 3.49162206e-01, 7.38144455e-01],\n",
              "       [2.03306539e+00, 7.16589136e-01, 8.19842796e-01],\n",
              "       [1.96297048e+00, 1.62678038e+00, 1.69039258e+00],\n",
              "       [1.34154372e+00, 1.89794376e+00, 7.80470602e-01],\n",
              "       [1.45382767e-02, 2.19168709e+00, 2.31296044e+00],\n",
              "       [1.01194911e+00, 6.79559899e-01, 1.28460462e+00],\n",
              "       [5.98214439e-01, 1.95940182e+00, 5.41956670e-01],\n",
              "       [4.59962449e-01, 5.14501631e-01, 6.75557896e-01],\n",
              "       [1.58806536e+00, 9.21793246e-01, 1.14064394e+00],\n",
              "       [4.18860486e-02, 7.41919914e-01, 1.82696545e-01],\n",
              "       [2.75545849e-01, 1.97098810e+00, 2.49432443e+00],\n",
              "       [1.54606816e+00, 2.37015313e+00, 1.80365734e+00],\n",
              "       [7.00115128e-01, 2.10710043e+00, 5.53637712e-01],\n",
              "       [2.43198099e+00, 2.14834568e+00, 1.91322129e+00],\n",
              "       [1.99027488e+00, 2.06855717e+00, 8.82542227e-01],\n",
              "       [1.65832882e+00, 1.58371688e+00, 4.57478766e-01],\n",
              "       [1.33681793e-01, 2.21490211e-01, 2.08704904e+00],\n",
              "       [8.45492759e-02, 1.19449172e+00, 5.41320759e-01],\n",
              "       [2.85565063e-01, 2.01837297e-01, 1.20641030e+00],\n",
              "       [2.15470658e-01, 7.33644426e-01, 1.30266780e+00],\n",
              "       [1.25090955e+00, 1.70800202e+00, 1.02454608e+00],\n",
              "       [8.37539817e-01, 4.48038122e-04, 9.39669753e-01],\n",
              "       [2.39546696e+00, 7.11343841e-01, 8.00763358e-01],\n",
              "       [1.02373330e+00, 1.42876683e+00, 2.35069515e+00],\n",
              "       [4.77023310e-01, 8.42541450e-01, 2.55467288e+00],\n",
              "       [1.16891905e-01, 1.69298867e+00, 1.42191659e+00],\n",
              "       [3.23241808e-01, 5.74397740e-01, 8.18182504e-01],\n",
              "       [9.70115415e-01, 2.71697749e-01, 1.64522711e+00]])"
            ]
          },
          "metadata": {},
          "execution_count": 22
        }
      ]
    },
    {
      "cell_type": "code",
      "metadata": {
        "id": "XOdkVFBqYXzq",
        "colab": {
          "base_uri": "https://localhost:8080/"
        },
        "outputId": "fae50132-f9e0-48a5-884c-8e0d200ef992"
      },
      "source": [
        "centroids,_=kmeans(data,3)\n",
        "centroids"
      ],
      "execution_count": null,
      "outputs": [
        {
          "output_type": "execute_result",
          "data": {
            "text/plain": [
              "array([[2.5627526 , 2.29633353, 3.180881  ],\n",
              "       [2.31395719, 2.5098451 , 1.62310303],\n",
              "       [1.06048865, 0.95754319, 1.21089436]])"
            ]
          },
          "metadata": {},
          "execution_count": 23
        }
      ]
    },
    {
      "cell_type": "code",
      "metadata": {
        "id": "MiQg-hH4Yabz",
        "colab": {
          "base_uri": "https://localhost:8080/"
        },
        "outputId": "ce2ab1e2-5014-4073-dd56-f880a6715e35"
      },
      "source": [
        "clx,_=vq(data,centroids)\n",
        "clx"
      ],
      "execution_count": null,
      "outputs": [
        {
          "output_type": "execute_result",
          "data": {
            "text/plain": [
              "array([1, 0, 1, 1, 1, 0, 1, 0, 1, 0, 0, 1, 1, 1, 1, 1, 0, 0, 1, 2, 1, 0,\n",
              "       0, 0, 0, 0, 0, 0, 1, 0, 0, 0, 0, 0, 1, 0, 1, 0, 0, 0, 2, 1, 0, 1,\n",
              "       0, 0, 0, 1, 1, 1, 0, 0, 0, 0, 0, 1, 1, 1, 1, 0, 1, 0, 1, 1, 1, 0,\n",
              "       1, 0, 0, 2, 1, 1, 0, 0, 1, 1, 0, 1, 0, 1, 0, 1, 0, 0, 1, 0, 0, 1,\n",
              "       1, 0, 0, 1, 1, 0, 1, 2, 0, 1, 0, 0, 2, 2, 2, 2, 2, 2, 2, 1, 2, 2,\n",
              "       1, 2, 2, 2, 2, 2, 2, 2, 2, 0, 2, 2, 1, 2, 2, 2, 2, 2, 1, 1, 2, 1,\n",
              "       2, 2, 2, 2, 1, 2, 2, 2, 2, 2, 2, 1, 2, 2, 2, 2, 2, 2, 2, 2, 1, 2,\n",
              "       2, 2, 2, 2, 1, 2, 2, 2, 1, 2, 2, 2, 2, 2, 2, 2, 2, 1, 2, 2, 1, 2,\n",
              "       2, 2, 2, 2, 2, 2, 2, 1, 2, 1, 1, 2, 2, 2, 2, 2, 2, 2, 2, 2, 2, 2,\n",
              "       2, 2], dtype=int32)"
            ]
          },
          "metadata": {},
          "execution_count": 24
        }
      ]
    },
    {
      "cell_type": "code",
      "metadata": {
        "id": "VUfnqgGwYswI",
        "colab": {
          "base_uri": "https://localhost:8080/"
        },
        "outputId": "f6fc7704-185f-4c70-b6fc-bfd5c7e08e98"
      },
      "source": [
        "from scipy.fftpack import fft\n",
        " \n",
        "x=np.array([1.0,2.0,1.0,-1.0,1.5])\n",
        " \n",
        "y=fft(x)\n",
        "print(\"FFT :\\n\",y)"
      ],
      "execution_count": null,
      "outputs": [
        {
          "output_type": "stream",
          "name": "stdout",
          "text": [
            "FFT :\n",
            " [ 4.5       -0.j          2.08155948-1.65109876j -1.83155948+1.60822041j\n",
            " -1.83155948-1.60822041j  2.08155948+1.65109876j]\n"
          ]
        }
      ]
    },
    {
      "cell_type": "code",
      "metadata": {
        "id": "3wqDTnbMYyqB",
        "colab": {
          "base_uri": "https://localhost:8080/"
        },
        "outputId": "0c9c92cd-ec7c-4058-df4a-543de7475ead"
      },
      "source": [
        "from scipy.fftpack import ifft\n",
        "yinv=ifft(y)\n",
        "print(\"FFT Inverse:\\n\",yinv)"
      ],
      "execution_count": null,
      "outputs": [
        {
          "output_type": "stream",
          "name": "stdout",
          "text": [
            "FFT Inverse:\n",
            " [ 0.03002179-0.00000000e+00j  0.03335241+1.60149268e-02j\n",
            "  0.04984053+4.76475741e-02j  0.26808698+3.81559464e-01j\n",
            " -0.05338566-1.00258785e-01j -0.02130519-4.93560509e-02j\n",
            " -0.0124347 -3.40205870e-02j -0.00842797-2.64074200e-02j\n",
            " -0.00620879-2.17717974e-02j -0.00482972-1.86150280e-02j\n",
            " -0.00390597-1.63084495e-02j -0.00325341-1.45397022e-02j\n",
            " -0.00277366-1.31349036e-02j -0.00240976-1.19890060e-02j\n",
            " -0.00212671-1.10345073e-02j -0.00190194-1.02258906e-02j\n",
            " -0.00172031-9.53125427e-03j -0.00157133-8.92752029e-03j\n",
            " -0.00144756-8.39754713e-03j -0.00134357-7.92831503e-03j\n",
            " -0.00125533-7.50974375e-03j -0.00117979-7.13389825e-03j\n",
            " -0.0011146 -6.79444083e-03j -0.00105796-6.48624434e-03j\n",
            " -0.00100841-6.20511338e-03j -0.00096483-5.94757984e-03j\n",
            " -0.00092627-5.71075039e-03j -0.00089201-5.49219105e-03j\n",
            " -0.00086141-5.28983876e-03j -0.00083397-5.10193271e-03j\n",
            " -0.00080927-4.92696054e-03j -0.00078696-4.76361565e-03j\n",
            " -0.00076674-4.61076312e-03j -0.00074835-4.46741222e-03j\n",
            " -0.00073157-4.33269404e-03j -0.00071623-4.20584324e-03j\n",
            " -0.00070217-4.08618294e-03j -0.00068924-3.97311224e-03j\n",
            " -0.00067732-3.86609579e-03j -0.00066632-3.76465503e-03j\n",
            " -0.00065615-3.66836082e-03j -0.00064671-3.57682720e-03j\n",
            " -0.00063794-3.48970605e-03j -0.00062979-3.40668255e-03j\n",
            " -0.00062219-3.32747127e-03j -0.00061509-3.25181282e-03j\n",
            " -0.00060845-3.17947090e-03j -0.00060223-3.11022981e-03j\n",
            " -0.00059641-3.04389224e-03j -0.00059093-2.98027733e-03j\n",
            " -0.00058579-2.91921897e-03j -0.00058094-2.86056438e-03j\n",
            " -0.00057637-2.80417272e-03j -0.00057206-2.74991400e-03j\n",
            " -0.00056799-2.69766803e-03j -0.00056414-2.64732350e-03j\n",
            " -0.0005605 -2.59877718e-03j -0.00055704-2.55193323e-03j\n",
            " -0.00055377-2.50670248e-03j -0.00055066-2.46300193e-03j\n",
            " -0.0005477 -2.42075418e-03j -0.00054489-2.37988696e-03j\n",
            " -0.00054221-2.34033276e-03j -0.00053967-2.30202838e-03j\n",
            " -0.00053724-2.26491465e-03j -0.00053492-2.22893605e-03j\n",
            " -0.00053271-2.19404050e-03j -0.00053059-2.16017904e-03j\n",
            " -0.00052857-2.12730564e-03j -0.00052664-2.09537696e-03j\n",
            " -0.00052478-2.06435215e-03j -0.00052301-2.03419271e-03j\n",
            " -0.00052131-2.00486228e-03j -0.00051968-1.97632652e-03j\n",
            " -0.00051812-1.94855296e-03j -0.00051661-1.92151089e-03j\n",
            " -0.00051517-1.89517121e-03j -0.00051378-1.86950636e-03j\n",
            " -0.00051245-1.84449020e-03j -0.00051117-1.82009793e-03j\n",
            " -0.00050993-1.79630599e-03j -0.00050874-1.77309200e-03j\n",
            " -0.00050759-1.75043468e-03j -0.00050649-1.72831378e-03j\n",
            " -0.00050542-1.70671001e-03j -0.00050439-1.68560503e-03j\n",
            " -0.0005034 -1.66498131e-03j -0.00050244-1.64482218e-03j\n",
            " -0.00050152-1.62511169e-03j -0.00050062-1.60583465e-03j\n",
            " -0.00049976-1.58697651e-03j -0.00049892-1.56852340e-03j\n",
            " -0.00049811-1.55046203e-03j -0.00049733-1.53277969e-03j\n",
            " -0.00049657-1.51546424e-03j -0.00049583-1.49850402e-03j\n",
            " -0.00049512-1.48188787e-03j -0.00049443-1.46560509e-03j\n",
            " -0.00049376-1.44964544e-03j -0.00049311-1.43399906e-03j\n",
            " -0.00049248-1.41865652e-03j -0.00049187-1.40360875e-03j\n",
            " -0.00049128-1.38884703e-03j -0.0004907 -1.37436299e-03j\n",
            " -0.00049015-1.36014858e-03j -0.0004896 -1.34619606e-03j\n",
            " -0.00048908-1.33249799e-03j -0.00048856-1.31904720e-03j\n",
            " -0.00048806-1.30583679e-03j -0.00048758-1.29286010e-03j\n",
            " -0.00048711-1.28011074e-03j -0.00048665-1.26758254e-03j\n",
            " -0.0004862 -1.25526954e-03j -0.00048577-1.24316600e-03j\n",
            " -0.00048534-1.23126638e-03j -0.00048493-1.21956535e-03j\n",
            " -0.00048453-1.20805773e-03j -0.00048414-1.19673856e-03j\n",
            " -0.00048376-1.18560301e-03j -0.00048338-1.17464644e-03j\n",
            " -0.00048302-1.16386435e-03j -0.00048267-1.15325239e-03j\n",
            " -0.00048232-1.14280636e-03j -0.00048198-1.13252219e-03j\n",
            " -0.00048166-1.12239596e-03j -0.00048134-1.11242385e-03j\n",
            " -0.00048102-1.10260217e-03j -0.00048072-1.09292735e-03j\n",
            " -0.00048042-1.08339594e-03j -0.00048013-1.07400459e-03j\n",
            " -0.00047984-1.06475003e-03j -0.00047956-1.05562914e-03j\n",
            " -0.00047929-1.04663885e-03j -0.00047903-1.03777620e-03j\n",
            " -0.00047877-1.02903832e-03j -0.00047851-1.02042243e-03j\n",
            " -0.00047826-1.01192581e-03j -0.00047802-1.00354584e-03j\n",
            " -0.00047778-9.95279983e-04j -0.00047755-9.87125747e-04j\n",
            " -0.00047732-9.79080733e-04j -0.0004771 -9.71142604e-04j\n",
            " -0.00047688-9.63309088e-04j -0.00047667-9.55577977e-04j\n",
            " -0.00047646-9.47947127e-04j -0.00047625-9.40414450e-04j\n",
            " -0.00047605-9.32977917e-04j -0.00047586-9.25635554e-04j\n",
            " -0.00047566-9.18385439e-04j -0.00047548-9.11225704e-04j\n",
            " -0.00047529-9.04154530e-04j -0.00047511-8.97170145e-04j\n",
            " -0.00047493-8.90270825e-04j -0.00047476-8.83454890e-04j\n",
            " -0.00047459-8.76720706e-04j -0.00047442-8.70066678e-04j\n",
            " -0.00047426-8.63491255e-04j -0.0004741 -8.56992923e-04j\n",
            " -0.00047394-8.50570207e-04j -0.00047378-8.44221670e-04j\n",
            " -0.00047363-8.37945911e-04j -0.00047348-8.31741562e-04j\n",
            " -0.00047334-8.25607291e-04j -0.00047319-8.19541798e-04j\n",
            " -0.00047305-8.13543813e-04j -0.00047291-8.07612099e-04j\n",
            " -0.00047278-8.01745447e-04j -0.00047264-7.95942680e-04j\n",
            " -0.00047251-7.90202645e-04j -0.00047238-7.84524219e-04j\n",
            " -0.00047226-7.78906304e-04j -0.00047213-7.73347829e-04j\n",
            " -0.00047201-7.67847747e-04j -0.00047189-7.62405035e-04j\n",
            " -0.00047177-7.57018694e-04j -0.00047166-7.51687747e-04j\n",
            " -0.00047154-7.46411241e-04j -0.00047143-7.41188242e-04j\n",
            " -0.00047132-7.36017840e-04j -0.00047121-7.30899142e-04j\n",
            " -0.00047111-7.25831277e-04j -0.000471  -7.20813392e-04j\n",
            " -0.0004709 -7.15844655e-04j -0.0004708 -7.10924248e-04j\n",
            " -0.0004707 -7.06051375e-04j -0.0004706 -7.01225255e-04j\n",
            " -0.00047051-6.96445124e-04j -0.00047041-6.91710234e-04j\n",
            " -0.00047032-6.87019855e-04j -0.00047023-6.82373268e-04j\n",
            " -0.00047014-6.77769774e-04j -0.00047005-6.73208686e-04j\n",
            " -0.00046996-6.68689331e-04j -0.00046987-6.64211050e-04j\n",
            " -0.00046979-6.59773200e-04j -0.00046971-6.55375149e-04j\n",
            " -0.00046962-6.51016276e-04j -0.00046954-6.46695977e-04j\n",
            " -0.00046946-6.42413657e-04j -0.00046939-6.38168734e-04j\n",
            " -0.00046931-6.33960636e-04j -0.00046923-6.29788806e-04j\n",
            " -0.00046916-6.25652693e-04j -0.00046908-6.21551762e-04j\n",
            " -0.00046901-6.17485484e-04j -0.00046894-6.13453344e-04j\n",
            " -0.00046887-6.09454833e-04j -0.0004688 -6.05489455e-04j\n",
            " -0.00046873-6.01556723e-04j -0.00046866-5.97656157e-04j\n",
            " -0.0004686 -5.93787290e-04j -0.00046853-5.89949659e-04j\n",
            " -0.00046847-5.86142815e-04j -0.0004684 -5.82366312e-04j\n",
            " -0.00046834-5.78619716e-04j -0.00046828-5.74902600e-04j\n",
            " -0.00046822-5.71214545e-04j -0.00046816-5.67555139e-04j\n",
            " -0.0004681 -5.63923978e-04j -0.00046804-5.60320666e-04j\n",
            " -0.00046798-5.56744812e-04j -0.00046793-5.53196034e-04j\n",
            " -0.00046787-5.49673957e-04j -0.00046782-5.46178210e-04j\n",
            " -0.00046776-5.42708433e-04j -0.00046771-5.39264268e-04j\n",
            " -0.00046766-5.35845366e-04j -0.0004676 -5.32451383e-04j\n",
            " -0.00046755-5.29081981e-04j -0.0004675 -5.25736829e-04j\n",
            " -0.00046745-5.22415599e-04j -0.0004674 -5.19117971e-04j\n",
            " -0.00046735-5.15843630e-04j -0.0004673 -5.12592266e-04j\n",
            " -0.00046726-5.09363575e-04j -0.00046721-5.06157257e-04j\n",
            " -0.00046716-5.02973017e-04j -0.00046712-4.99810566e-04j\n",
            " -0.00046707-4.96669620e-04j -0.00046703-4.93549898e-04j\n",
            " -0.00046698-4.90451124e-04j -0.00046694-4.87373028e-04j\n",
            " -0.0004669 -4.84315343e-04j -0.00046686-4.81277808e-04j\n",
            " -0.00046681-4.78260163e-04j -0.00046677-4.75262156e-04j\n",
            " -0.00046673-4.72283537e-04j -0.00046669-4.69324059e-04j\n",
            " -0.00046665-4.66383481e-04j -0.00046661-4.63461565e-04j\n",
            " -0.00046658-4.60558077e-04j -0.00046654-4.57672785e-04j\n",
            " -0.0004665 -4.54805464e-04j -0.00046646-4.51955889e-04j\n",
            " -0.00046643-4.49123840e-04j -0.00046639-4.46309102e-04j\n",
            " -0.00046635-4.43511459e-04j -0.00046632-4.40730703e-04j\n",
            " -0.00046628-4.37966627e-04j -0.00046625-4.35219026e-04j\n",
            " -0.00046621-4.32487700e-04j -0.00046618-4.29772452e-04j\n",
            " -0.00046615-4.27073086e-04j -0.00046611-4.24389411e-04j\n",
            " -0.00046608-4.21721238e-04j -0.00046605-4.19068381e-04j\n",
            " -0.00046602-4.16430655e-04j -0.00046599-4.13807881e-04j\n",
            " -0.00046596-4.11199881e-04j -0.00046593-4.08606478e-04j\n",
            " -0.00046589-4.06027499e-04j -0.00046586-4.03462775e-04j\n",
            " -0.00046584-4.00912137e-04j -0.00046581-3.98375419e-04j\n",
            " -0.00046578-3.95852458e-04j -0.00046575-3.93343093e-04j\n",
            " -0.00046572-3.90847165e-04j -0.00046569-3.88364518e-04j\n",
            " -0.00046567-3.85894996e-04j -0.00046564-3.83438449e-04j\n",
            " -0.00046561-3.80994725e-04j -0.00046558-3.78563677e-04j\n",
            " -0.00046556-3.76145159e-04j -0.00046553-3.73739027e-04j\n",
            " -0.00046551-3.71345138e-04j -0.00046548-3.68963353e-04j\n",
            " -0.00046546-3.66593533e-04j -0.00046543-3.64235541e-04j\n",
            " -0.00046541-3.61889244e-04j -0.00046538-3.59554509e-04j\n",
            " -0.00046536-3.57231204e-04j -0.00046533-3.54919200e-04j\n",
            " -0.00046531-3.52618369e-04j -0.00046529-3.50328586e-04j\n",
            " -0.00046527-3.48049726e-04j -0.00046524-3.45781667e-04j\n",
            " -0.00046522-3.43524288e-04j -0.0004652 -3.41277468e-04j\n",
            " -0.00046518-3.39041091e-04j -0.00046515-3.36815039e-04j\n",
            " -0.00046513-3.34599197e-04j -0.00046511-3.32393453e-04j\n",
            " -0.00046509-3.30197693e-04j -0.00046507-3.28011808e-04j\n",
            " -0.00046505-3.25835687e-04j -0.00046503-3.23669223e-04j\n",
            " -0.00046501-3.21512309e-04j -0.00046499-3.19364839e-04j\n",
            " -0.00046497-3.17226711e-04j -0.00046495-3.15097820e-04j\n",
            " -0.00046493-3.12978066e-04j -0.00046491-3.10867349e-04j\n",
            " -0.00046489-3.08765568e-04j -0.00046488-3.06672626e-04j\n",
            " -0.00046486-3.04588427e-04j -0.00046484-3.02512875e-04j\n",
            " -0.00046482-3.00445875e-04j -0.0004648 -2.98387334e-04j\n",
            " -0.00046479-2.96337160e-04j -0.00046477-2.94295262e-04j\n",
            " -0.00046475-2.92261550e-04j -0.00046473-2.90235934e-04j\n",
            " -0.00046472-2.88218326e-04j -0.0004647 -2.86208641e-04j\n",
            " -0.00046468-2.84206790e-04j -0.00046467-2.82212691e-04j\n",
            " -0.00046465-2.80226257e-04j -0.00046464-2.78247407e-04j\n",
            " -0.00046462-2.76276058e-04j -0.0004646 -2.74312129e-04j\n",
            " -0.00046459-2.72355539e-04j -0.00046457-2.70406209e-04j\n",
            " -0.00046456-2.68464060e-04j -0.00046454-2.66529015e-04j\n",
            " -0.00046453-2.64600997e-04j -0.00046451-2.62679929e-04j\n",
            " -0.0004645 -2.60765736e-04j -0.00046449-2.58858344e-04j\n",
            " -0.00046447-2.56957679e-04j -0.00046446-2.55063669e-04j\n",
            " -0.00046444-2.53176241e-04j -0.00046443-2.51295324e-04j\n",
            " -0.00046442-2.49420847e-04j -0.0004644 -2.47552741e-04j\n",
            " -0.00046439-2.45690935e-04j -0.00046438-2.43835363e-04j\n",
            " -0.00046436-2.41985956e-04j -0.00046435-2.40142648e-04j\n",
            " -0.00046434-2.38305371e-04j -0.00046433-2.36474060e-04j\n",
            " -0.00046431-2.34648650e-04j -0.0004643 -2.32829078e-04j\n",
            " -0.00046429-2.31015278e-04j -0.00046428-2.29207188e-04j\n",
            " -0.00046427-2.27404746e-04j -0.00046425-2.25607890e-04j\n",
            " -0.00046424-2.23816558e-04j -0.00046423-2.22030690e-04j\n",
            " -0.00046422-2.20250226e-04j -0.00046421-2.18475106e-04j\n",
            " -0.0004642 -2.16705272e-04j -0.00046419-2.14940664e-04j\n",
            " -0.00046417-2.13181226e-04j -0.00046416-2.11426899e-04j\n",
            " -0.00046415-2.09677628e-04j -0.00046414-2.07933355e-04j\n",
            " -0.00046413-2.06194026e-04j -0.00046412-2.04459585e-04j\n",
            " -0.00046411-2.02729977e-04j -0.0004641 -2.01005148e-04j\n",
            " -0.00046409-1.99285045e-04j -0.00046408-1.97569614e-04j\n",
            " -0.00046407-1.95858803e-04j -0.00046406-1.94152558e-04j\n",
            " -0.00046405-1.92450830e-04j -0.00046404-1.90753565e-04j\n",
            " -0.00046404-1.89060713e-04j -0.00046403-1.87372224e-04j\n",
            " -0.00046402-1.85688047e-04j -0.00046401-1.84008134e-04j\n",
            " -0.000464  -1.82332434e-04j -0.00046399-1.80660899e-04j\n",
            " -0.00046398-1.78993480e-04j -0.00046397-1.77330130e-04j\n",
            " -0.00046396-1.75670801e-04j -0.00046396-1.74015446e-04j\n",
            " -0.00046395-1.72364017e-04j -0.00046394-1.70716469e-04j\n",
            " -0.00046393-1.69072755e-04j -0.00046392-1.67432830e-04j\n",
            " -0.00046392-1.65796648e-04j -0.00046391-1.64164165e-04j\n",
            " -0.0004639 -1.62535335e-04j -0.00046389-1.60910114e-04j\n",
            " -0.00046389-1.59288459e-04j -0.00046388-1.57670325e-04j\n",
            " -0.00046387-1.56055670e-04j -0.00046386-1.54444450e-04j\n",
            " -0.00046386-1.52836623e-04j -0.00046385-1.51232146e-04j\n",
            " -0.00046384-1.49630978e-04j -0.00046384-1.48033076e-04j\n",
            " -0.00046383-1.46438400e-04j -0.00046382-1.44846907e-04j\n",
            " -0.00046382-1.43258557e-04j -0.00046381-1.41673311e-04j\n",
            " -0.0004638 -1.40091126e-04j -0.0004638 -1.38511964e-04j\n",
            " -0.00046379-1.36935784e-04j -0.00046378-1.35362547e-04j\n",
            " -0.00046378-1.33792214e-04j -0.00046377-1.32224746e-04j\n",
            " -0.00046377-1.30660104e-04j -0.00046376-1.29098250e-04j\n",
            " -0.00046375-1.27539145e-04j -0.00046375-1.25982752e-04j\n",
            " -0.00046374-1.24429032e-04j -0.00046374-1.22877949e-04j\n",
            " -0.00046373-1.21329465e-04j -0.00046373-1.19783544e-04j\n",
            " -0.00046372-1.18240147e-04j -0.00046372-1.16699239e-04j\n",
            " -0.00046371-1.15160784e-04j -0.00046371-1.13624744e-04j\n",
            " -0.0004637 -1.12091085e-04j -0.0004637 -1.10559770e-04j\n",
            " -0.00046369-1.09030764e-04j -0.00046369-1.07504032e-04j\n",
            " -0.00046368-1.05979538e-04j -0.00046368-1.04457248e-04j\n",
            " -0.00046367-1.02937126e-04j -0.00046367-1.01419139e-04j\n",
            " -0.00046366-9.99032512e-05j -0.00046366-9.83894290e-05j\n",
            " -0.00046366-9.68776382e-05j -0.00046365-9.53678450e-05j\n",
            " -0.00046365-9.38600156e-05j -0.00046364-9.23541166e-05j\n",
            " -0.00046364-9.08501145e-05j -0.00046364-8.93479761e-05j\n",
            " -0.00046363-8.78476684e-05j -0.00046363-8.63491584e-05j\n",
            " -0.00046362-8.48524133e-05j -0.00046362-8.33574006e-05j\n",
            " -0.00046362-8.18640878e-05j -0.00046361-8.03724425e-05j\n",
            " -0.00046361-7.88824326e-05j -0.00046361-7.73940259e-05j\n",
            " -0.0004636 -7.59071906e-05j -0.0004636 -7.44218948e-05j\n",
            " -0.0004636 -7.29381069e-05j -0.00046359-7.14557954e-05j\n",
            " -0.00046359-6.99749287e-05j -0.00046359-6.84954757e-05j\n",
            " -0.00046359-6.70174050e-05j -0.00046358-6.55406857e-05j\n",
            " -0.00046358-6.40652866e-05j -0.00046358-6.25911771e-05j\n",
            " -0.00046357-6.11183263e-05j -0.00046357-5.96467036e-05j\n",
            " -0.00046357-5.81762784e-05j -0.00046357-5.67070202e-05j\n",
            " -0.00046356-5.52388987e-05j -0.00046356-5.37718836e-05j\n",
            " -0.00046356-5.23059447e-05j -0.00046356-5.08410520e-05j\n",
            " -0.00046356-4.93771754e-05j -0.00046355-4.79142849e-05j\n",
            " -0.00046355-4.64523508e-05j -0.00046355-4.49913432e-05j\n",
            " -0.00046355-4.35312325e-05j -0.00046355-4.20719890e-05j\n",
            " -0.00046354-4.06135832e-05j -0.00046354-3.91559855e-05j\n",
            " -0.00046354-3.76991666e-05j -0.00046354-3.62430971e-05j\n",
            " -0.00046354-3.47877476e-05j -0.00046354-3.33330889e-05j\n",
            " -0.00046353-3.18790918e-05j -0.00046353-3.04257272e-05j\n",
            " -0.00046353-2.89729661e-05j -0.00046353-2.75207792e-05j\n",
            " -0.00046353-2.60691377e-05j -0.00046353-2.46180126e-05j\n",
            " -0.00046353-2.31673750e-05j -0.00046353-2.17171960e-05j\n",
            " -0.00046353-2.02674467e-05j -0.00046353-1.88180984e-05j\n",
            " -0.00046352-1.73691223e-05j -0.00046352-1.59204896e-05j\n",
            " -0.00046352-1.44721717e-05j -0.00046352-1.30241398e-05j\n",
            " -0.00046352-1.15763653e-05j -0.00046352-1.01288195e-05j\n",
            " -0.00046352-8.68147382e-06j -0.00046352-7.23429960e-06j\n",
            " -0.00046352-5.78726825e-06j -0.00046352-4.34035120e-06j\n",
            " -0.00046352-2.89351985e-06j -0.00046352-1.44674564e-06j\n",
            " -0.00046352-0.00000000e+00j -0.00046352+1.44674564e-06j\n",
            " -0.00046352+2.89351985e-06j -0.00046352+4.34035120e-06j\n",
            " -0.00046352+5.78726825e-06j -0.00046352+7.23429960e-06j\n",
            " -0.00046352+8.68147382e-06j -0.00046352+1.01288195e-05j\n",
            " -0.00046352+1.15763653e-05j -0.00046352+1.30241398e-05j\n",
            " -0.00046352+1.44721717e-05j -0.00046352+1.59204896e-05j\n",
            " -0.00046352+1.73691223e-05j -0.00046353+1.88180984e-05j\n",
            " -0.00046353+2.02674467e-05j -0.00046353+2.17171960e-05j\n",
            " -0.00046353+2.31673750e-05j -0.00046353+2.46180126e-05j\n",
            " -0.00046353+2.60691377e-05j -0.00046353+2.75207792e-05j\n",
            " -0.00046353+2.89729661e-05j -0.00046353+3.04257272e-05j\n",
            " -0.00046353+3.18790918e-05j -0.00046354+3.33330889e-05j\n",
            " -0.00046354+3.47877476e-05j -0.00046354+3.62430971e-05j\n",
            " -0.00046354+3.76991666e-05j -0.00046354+3.91559855e-05j\n",
            " -0.00046354+4.06135832e-05j -0.00046355+4.20719890e-05j\n",
            " -0.00046355+4.35312325e-05j -0.00046355+4.49913432e-05j\n",
            " -0.00046355+4.64523508e-05j -0.00046355+4.79142849e-05j\n",
            " -0.00046356+4.93771754e-05j -0.00046356+5.08410520e-05j\n",
            " -0.00046356+5.23059447e-05j -0.00046356+5.37718836e-05j\n",
            " -0.00046356+5.52388987e-05j -0.00046357+5.67070202e-05j\n",
            " -0.00046357+5.81762784e-05j -0.00046357+5.96467036e-05j\n",
            " -0.00046357+6.11183263e-05j -0.00046358+6.25911771e-05j\n",
            " -0.00046358+6.40652866e-05j -0.00046358+6.55406857e-05j\n",
            " -0.00046359+6.70174050e-05j -0.00046359+6.84954757e-05j\n",
            " -0.00046359+6.99749287e-05j -0.00046359+7.14557954e-05j\n",
            " -0.0004636 +7.29381069e-05j -0.0004636 +7.44218948e-05j\n",
            " -0.0004636 +7.59071906e-05j -0.00046361+7.73940259e-05j\n",
            " -0.00046361+7.88824326e-05j -0.00046361+8.03724425e-05j\n",
            " -0.00046362+8.18640878e-05j -0.00046362+8.33574006e-05j\n",
            " -0.00046362+8.48524133e-05j -0.00046363+8.63491584e-05j\n",
            " -0.00046363+8.78476684e-05j -0.00046364+8.93479761e-05j\n",
            " -0.00046364+9.08501145e-05j -0.00046364+9.23541166e-05j\n",
            " -0.00046365+9.38600156e-05j -0.00046365+9.53678450e-05j\n",
            " -0.00046366+9.68776382e-05j -0.00046366+9.83894290e-05j\n",
            " -0.00046366+9.99032512e-05j -0.00046367+1.01419139e-04j\n",
            " -0.00046367+1.02937126e-04j -0.00046368+1.04457248e-04j\n",
            " -0.00046368+1.05979538e-04j -0.00046369+1.07504032e-04j\n",
            " -0.00046369+1.09030764e-04j -0.0004637 +1.10559770e-04j\n",
            " -0.0004637 +1.12091085e-04j -0.00046371+1.13624744e-04j\n",
            " -0.00046371+1.15160784e-04j -0.00046372+1.16699239e-04j\n",
            " -0.00046372+1.18240147e-04j -0.00046373+1.19783544e-04j\n",
            " -0.00046373+1.21329465e-04j -0.00046374+1.22877949e-04j\n",
            " -0.00046374+1.24429032e-04j -0.00046375+1.25982752e-04j\n",
            " -0.00046375+1.27539145e-04j -0.00046376+1.29098250e-04j\n",
            " -0.00046377+1.30660104e-04j -0.00046377+1.32224746e-04j\n",
            " -0.00046378+1.33792214e-04j -0.00046378+1.35362547e-04j\n",
            " -0.00046379+1.36935784e-04j -0.0004638 +1.38511964e-04j\n",
            " -0.0004638 +1.40091126e-04j -0.00046381+1.41673311e-04j\n",
            " -0.00046382+1.43258557e-04j -0.00046382+1.44846907e-04j\n",
            " -0.00046383+1.46438400e-04j -0.00046384+1.48033076e-04j\n",
            " -0.00046384+1.49630978e-04j -0.00046385+1.51232146e-04j\n",
            " -0.00046386+1.52836623e-04j -0.00046386+1.54444450e-04j\n",
            " -0.00046387+1.56055670e-04j -0.00046388+1.57670325e-04j\n",
            " -0.00046389+1.59288459e-04j -0.00046389+1.60910114e-04j\n",
            " -0.0004639 +1.62535335e-04j -0.00046391+1.64164165e-04j\n",
            " -0.00046392+1.65796648e-04j -0.00046392+1.67432830e-04j\n",
            " -0.00046393+1.69072755e-04j -0.00046394+1.70716469e-04j\n",
            " -0.00046395+1.72364017e-04j -0.00046396+1.74015446e-04j\n",
            " -0.00046396+1.75670801e-04j -0.00046397+1.77330130e-04j\n",
            " -0.00046398+1.78993480e-04j -0.00046399+1.80660899e-04j\n",
            " -0.000464  +1.82332434e-04j -0.00046401+1.84008134e-04j\n",
            " -0.00046402+1.85688047e-04j -0.00046403+1.87372224e-04j\n",
            " -0.00046404+1.89060713e-04j -0.00046404+1.90753565e-04j\n",
            " -0.00046405+1.92450830e-04j -0.00046406+1.94152558e-04j\n",
            " -0.00046407+1.95858803e-04j -0.00046408+1.97569614e-04j\n",
            " -0.00046409+1.99285045e-04j -0.0004641 +2.01005148e-04j\n",
            " -0.00046411+2.02729977e-04j -0.00046412+2.04459585e-04j\n",
            " -0.00046413+2.06194026e-04j -0.00046414+2.07933355e-04j\n",
            " -0.00046415+2.09677628e-04j -0.00046416+2.11426899e-04j\n",
            " -0.00046417+2.13181226e-04j -0.00046419+2.14940664e-04j\n",
            " -0.0004642 +2.16705272e-04j -0.00046421+2.18475106e-04j\n",
            " -0.00046422+2.20250226e-04j -0.00046423+2.22030690e-04j\n",
            " -0.00046424+2.23816558e-04j -0.00046425+2.25607890e-04j\n",
            " -0.00046427+2.27404746e-04j -0.00046428+2.29207188e-04j\n",
            " -0.00046429+2.31015278e-04j -0.0004643 +2.32829078e-04j\n",
            " -0.00046431+2.34648650e-04j -0.00046433+2.36474060e-04j\n",
            " -0.00046434+2.38305371e-04j -0.00046435+2.40142648e-04j\n",
            " -0.00046436+2.41985956e-04j -0.00046438+2.43835363e-04j\n",
            " -0.00046439+2.45690935e-04j -0.0004644 +2.47552741e-04j\n",
            " -0.00046442+2.49420847e-04j -0.00046443+2.51295324e-04j\n",
            " -0.00046444+2.53176241e-04j -0.00046446+2.55063669e-04j\n",
            " -0.00046447+2.56957679e-04j -0.00046449+2.58858344e-04j\n",
            " -0.0004645 +2.60765736e-04j -0.00046451+2.62679929e-04j\n",
            " -0.00046453+2.64600997e-04j -0.00046454+2.66529015e-04j\n",
            " -0.00046456+2.68464060e-04j -0.00046457+2.70406209e-04j\n",
            " -0.00046459+2.72355539e-04j -0.0004646 +2.74312129e-04j\n",
            " -0.00046462+2.76276058e-04j -0.00046464+2.78247407e-04j\n",
            " -0.00046465+2.80226257e-04j -0.00046467+2.82212691e-04j\n",
            " -0.00046468+2.84206790e-04j -0.0004647 +2.86208641e-04j\n",
            " -0.00046472+2.88218326e-04j -0.00046473+2.90235934e-04j\n",
            " -0.00046475+2.92261550e-04j -0.00046477+2.94295262e-04j\n",
            " -0.00046479+2.96337160e-04j -0.0004648 +2.98387334e-04j\n",
            " -0.00046482+3.00445875e-04j -0.00046484+3.02512875e-04j\n",
            " -0.00046486+3.04588427e-04j -0.00046488+3.06672626e-04j\n",
            " -0.00046489+3.08765568e-04j -0.00046491+3.10867349e-04j\n",
            " -0.00046493+3.12978066e-04j -0.00046495+3.15097820e-04j\n",
            " -0.00046497+3.17226711e-04j -0.00046499+3.19364839e-04j\n",
            " -0.00046501+3.21512309e-04j -0.00046503+3.23669223e-04j\n",
            " -0.00046505+3.25835687e-04j -0.00046507+3.28011808e-04j\n",
            " -0.00046509+3.30197693e-04j -0.00046511+3.32393453e-04j\n",
            " -0.00046513+3.34599197e-04j -0.00046515+3.36815039e-04j\n",
            " -0.00046518+3.39041091e-04j -0.0004652 +3.41277468e-04j\n",
            " -0.00046522+3.43524288e-04j -0.00046524+3.45781667e-04j\n",
            " -0.00046527+3.48049726e-04j -0.00046529+3.50328586e-04j\n",
            " -0.00046531+3.52618369e-04j -0.00046533+3.54919200e-04j\n",
            " -0.00046536+3.57231204e-04j -0.00046538+3.59554509e-04j\n",
            " -0.00046541+3.61889244e-04j -0.00046543+3.64235541e-04j\n",
            " -0.00046546+3.66593533e-04j -0.00046548+3.68963353e-04j\n",
            " -0.00046551+3.71345138e-04j -0.00046553+3.73739027e-04j\n",
            " -0.00046556+3.76145159e-04j -0.00046558+3.78563677e-04j\n",
            " -0.00046561+3.80994725e-04j -0.00046564+3.83438449e-04j\n",
            " -0.00046567+3.85894996e-04j -0.00046569+3.88364518e-04j\n",
            " -0.00046572+3.90847165e-04j -0.00046575+3.93343093e-04j\n",
            " -0.00046578+3.95852458e-04j -0.00046581+3.98375419e-04j\n",
            " -0.00046584+4.00912137e-04j -0.00046586+4.03462775e-04j\n",
            " -0.00046589+4.06027499e-04j -0.00046593+4.08606478e-04j\n",
            " -0.00046596+4.11199881e-04j -0.00046599+4.13807881e-04j\n",
            " -0.00046602+4.16430655e-04j -0.00046605+4.19068381e-04j\n",
            " -0.00046608+4.21721238e-04j -0.00046611+4.24389411e-04j\n",
            " -0.00046615+4.27073086e-04j -0.00046618+4.29772452e-04j\n",
            " -0.00046621+4.32487700e-04j -0.00046625+4.35219026e-04j\n",
            " -0.00046628+4.37966627e-04j -0.00046632+4.40730703e-04j\n",
            " -0.00046635+4.43511459e-04j -0.00046639+4.46309102e-04j\n",
            " -0.00046643+4.49123840e-04j -0.00046646+4.51955889e-04j\n",
            " -0.0004665 +4.54805464e-04j -0.00046654+4.57672785e-04j\n",
            " -0.00046658+4.60558077e-04j -0.00046661+4.63461565e-04j\n",
            " -0.00046665+4.66383481e-04j -0.00046669+4.69324059e-04j\n",
            " -0.00046673+4.72283537e-04j -0.00046677+4.75262156e-04j\n",
            " -0.00046681+4.78260163e-04j -0.00046686+4.81277808e-04j\n",
            " -0.0004669 +4.84315343e-04j -0.00046694+4.87373028e-04j\n",
            " -0.00046698+4.90451124e-04j -0.00046703+4.93549898e-04j\n",
            " -0.00046707+4.96669620e-04j -0.00046712+4.99810566e-04j\n",
            " -0.00046716+5.02973017e-04j -0.00046721+5.06157257e-04j\n",
            " -0.00046726+5.09363575e-04j -0.0004673 +5.12592266e-04j\n",
            " -0.00046735+5.15843630e-04j -0.0004674 +5.19117971e-04j\n",
            " -0.00046745+5.22415599e-04j -0.0004675 +5.25736829e-04j\n",
            " -0.00046755+5.29081981e-04j -0.0004676 +5.32451383e-04j\n",
            " -0.00046766+5.35845366e-04j -0.00046771+5.39264268e-04j\n",
            " -0.00046776+5.42708433e-04j -0.00046782+5.46178210e-04j\n",
            " -0.00046787+5.49673957e-04j -0.00046793+5.53196034e-04j\n",
            " -0.00046798+5.56744812e-04j -0.00046804+5.60320666e-04j\n",
            " -0.0004681 +5.63923978e-04j -0.00046816+5.67555139e-04j\n",
            " -0.00046822+5.71214545e-04j -0.00046828+5.74902600e-04j\n",
            " -0.00046834+5.78619716e-04j -0.0004684 +5.82366312e-04j\n",
            " -0.00046847+5.86142815e-04j -0.00046853+5.89949659e-04j\n",
            " -0.0004686 +5.93787290e-04j -0.00046866+5.97656157e-04j\n",
            " -0.00046873+6.01556723e-04j -0.0004688 +6.05489455e-04j\n",
            " -0.00046887+6.09454833e-04j -0.00046894+6.13453344e-04j\n",
            " -0.00046901+6.17485484e-04j -0.00046908+6.21551762e-04j\n",
            " -0.00046916+6.25652693e-04j -0.00046923+6.29788806e-04j\n",
            " -0.00046931+6.33960636e-04j -0.00046939+6.38168734e-04j\n",
            " -0.00046946+6.42413657e-04j -0.00046954+6.46695977e-04j\n",
            " -0.00046962+6.51016276e-04j -0.00046971+6.55375149e-04j\n",
            " -0.00046979+6.59773200e-04j -0.00046987+6.64211050e-04j\n",
            " -0.00046996+6.68689331e-04j -0.00047005+6.73208686e-04j\n",
            " -0.00047014+6.77769774e-04j -0.00047023+6.82373268e-04j\n",
            " -0.00047032+6.87019855e-04j -0.00047041+6.91710234e-04j\n",
            " -0.00047051+6.96445124e-04j -0.0004706 +7.01225255e-04j\n",
            " -0.0004707 +7.06051375e-04j -0.0004708 +7.10924248e-04j\n",
            " -0.0004709 +7.15844655e-04j -0.000471  +7.20813392e-04j\n",
            " -0.00047111+7.25831277e-04j -0.00047121+7.30899142e-04j\n",
            " -0.00047132+7.36017840e-04j -0.00047143+7.41188242e-04j\n",
            " -0.00047154+7.46411241e-04j -0.00047166+7.51687747e-04j\n",
            " -0.00047177+7.57018694e-04j -0.00047189+7.62405035e-04j\n",
            " -0.00047201+7.67847747e-04j -0.00047213+7.73347829e-04j\n",
            " -0.00047226+7.78906304e-04j -0.00047238+7.84524219e-04j\n",
            " -0.00047251+7.90202645e-04j -0.00047264+7.95942680e-04j\n",
            " -0.00047278+8.01745447e-04j -0.00047291+8.07612099e-04j\n",
            " -0.00047305+8.13543813e-04j -0.00047319+8.19541798e-04j\n",
            " -0.00047334+8.25607291e-04j -0.00047348+8.31741562e-04j\n",
            " -0.00047363+8.37945911e-04j -0.00047378+8.44221670e-04j\n",
            " -0.00047394+8.50570207e-04j -0.0004741 +8.56992923e-04j\n",
            " -0.00047426+8.63491255e-04j -0.00047442+8.70066678e-04j\n",
            " -0.00047459+8.76720706e-04j -0.00047476+8.83454890e-04j\n",
            " -0.00047493+8.90270825e-04j -0.00047511+8.97170145e-04j\n",
            " -0.00047529+9.04154530e-04j -0.00047548+9.11225704e-04j\n",
            " -0.00047566+9.18385439e-04j -0.00047586+9.25635554e-04j\n",
            " -0.00047605+9.32977917e-04j -0.00047625+9.40414450e-04j\n",
            " -0.00047646+9.47947127e-04j -0.00047667+9.55577977e-04j\n",
            " -0.00047688+9.63309088e-04j -0.0004771 +9.71142604e-04j\n",
            " -0.00047732+9.79080733e-04j -0.00047755+9.87125747e-04j\n",
            " -0.00047778+9.95279983e-04j -0.00047802+1.00354584e-03j\n",
            " -0.00047826+1.01192581e-03j -0.00047851+1.02042243e-03j\n",
            " -0.00047877+1.02903832e-03j -0.00047903+1.03777620e-03j\n",
            " -0.00047929+1.04663885e-03j -0.00047956+1.05562914e-03j\n",
            " -0.00047984+1.06475003e-03j -0.00048013+1.07400459e-03j\n",
            " -0.00048042+1.08339594e-03j -0.00048072+1.09292735e-03j\n",
            " -0.00048102+1.10260217e-03j -0.00048134+1.11242385e-03j\n",
            " -0.00048166+1.12239596e-03j -0.00048198+1.13252219e-03j\n",
            " -0.00048232+1.14280636e-03j -0.00048267+1.15325239e-03j\n",
            " -0.00048302+1.16386435e-03j -0.00048338+1.17464644e-03j\n",
            " -0.00048376+1.18560301e-03j -0.00048414+1.19673856e-03j\n",
            " -0.00048453+1.20805773e-03j -0.00048493+1.21956535e-03j\n",
            " -0.00048534+1.23126638e-03j -0.00048577+1.24316600e-03j\n",
            " -0.0004862 +1.25526954e-03j -0.00048665+1.26758254e-03j\n",
            " -0.00048711+1.28011074e-03j -0.00048758+1.29286010e-03j\n",
            " -0.00048806+1.30583679e-03j -0.00048856+1.31904720e-03j\n",
            " -0.00048908+1.33249799e-03j -0.0004896 +1.34619606e-03j\n",
            " -0.00049015+1.36014858e-03j -0.0004907 +1.37436299e-03j\n",
            " -0.00049128+1.38884703e-03j -0.00049187+1.40360875e-03j\n",
            " -0.00049248+1.41865652e-03j -0.00049311+1.43399906e-03j\n",
            " -0.00049376+1.44964544e-03j -0.00049443+1.46560509e-03j\n",
            " -0.00049512+1.48188787e-03j -0.00049583+1.49850402e-03j\n",
            " -0.00049657+1.51546424e-03j -0.00049733+1.53277969e-03j\n",
            " -0.00049811+1.55046203e-03j -0.00049892+1.56852340e-03j\n",
            " -0.00049976+1.58697651e-03j -0.00050062+1.60583465e-03j\n",
            " -0.00050152+1.62511169e-03j -0.00050244+1.64482218e-03j\n",
            " -0.0005034 +1.66498131e-03j -0.00050439+1.68560503e-03j\n",
            " -0.00050542+1.70671001e-03j -0.00050649+1.72831378e-03j\n",
            " -0.00050759+1.75043468e-03j -0.00050874+1.77309200e-03j\n",
            " -0.00050993+1.79630599e-03j -0.00051117+1.82009793e-03j\n",
            " -0.00051245+1.84449020e-03j -0.00051378+1.86950636e-03j\n",
            " -0.00051517+1.89517121e-03j -0.00051661+1.92151089e-03j\n",
            " -0.00051812+1.94855296e-03j -0.00051968+1.97632652e-03j\n",
            " -0.00052131+2.00486228e-03j -0.00052301+2.03419271e-03j\n",
            " -0.00052478+2.06435215e-03j -0.00052664+2.09537696e-03j\n",
            " -0.00052857+2.12730564e-03j -0.00053059+2.16017904e-03j\n",
            " -0.00053271+2.19404050e-03j -0.00053492+2.22893605e-03j\n",
            " -0.00053724+2.26491465e-03j -0.00053967+2.30202838e-03j\n",
            " -0.00054221+2.34033276e-03j -0.00054489+2.37988696e-03j\n",
            " -0.0005477 +2.42075418e-03j -0.00055066+2.46300193e-03j\n",
            " -0.00055377+2.50670248e-03j -0.00055704+2.55193323e-03j\n",
            " -0.0005605 +2.59877718e-03j -0.00056414+2.64732350e-03j\n",
            " -0.00056799+2.69766803e-03j -0.00057206+2.74991400e-03j\n",
            " -0.00057637+2.80417272e-03j -0.00058094+2.86056438e-03j\n",
            " -0.00058579+2.91921897e-03j -0.00059093+2.98027733e-03j\n",
            " -0.00059641+3.04389224e-03j -0.00060223+3.11022981e-03j\n",
            " -0.00060845+3.17947090e-03j -0.00061509+3.25181282e-03j\n",
            " -0.00062219+3.32747127e-03j -0.00062979+3.40668255e-03j\n",
            " -0.00063794+3.48970605e-03j -0.00064671+3.57682720e-03j\n",
            " -0.00065615+3.66836082e-03j -0.00066632+3.76465503e-03j\n",
            " -0.00067732+3.86609579e-03j -0.00068924+3.97311224e-03j\n",
            " -0.00070217+4.08618294e-03j -0.00071623+4.20584324e-03j\n",
            " -0.00073157+4.33269404e-03j -0.00074835+4.46741222e-03j\n",
            " -0.00076674+4.61076312e-03j -0.00078696+4.76361565e-03j\n",
            " -0.00080927+4.92696054e-03j -0.00083397+5.10193271e-03j\n",
            " -0.00086141+5.28983876e-03j -0.00089201+5.49219105e-03j\n",
            " -0.00092627+5.71075039e-03j -0.00096483+5.94757984e-03j\n",
            " -0.00100841+6.20511338e-03j -0.00105796+6.48624434e-03j\n",
            " -0.0011146 +6.79444083e-03j -0.00117979+7.13389825e-03j\n",
            " -0.00125533+7.50974375e-03j -0.00134357+7.92831503e-03j\n",
            " -0.00144756+8.39754713e-03j -0.00157133+8.92752029e-03j\n",
            " -0.00172031+9.53125427e-03j -0.00190194+1.02258906e-02j\n",
            " -0.00212671+1.10345073e-02j -0.00240976+1.19890060e-02j\n",
            " -0.00277366+1.31349036e-02j -0.00325341+1.45397022e-02j\n",
            " -0.00390597+1.63084495e-02j -0.00482972+1.86150280e-02j\n",
            " -0.00620879+2.17717974e-02j -0.00842797+2.64074200e-02j\n",
            " -0.0124347 +3.40205870e-02j -0.02130519+4.93560509e-02j\n",
            " -0.05338566+1.00258785e-01j  0.26808698-3.81559464e-01j\n",
            "  0.04984053-4.76475741e-02j  0.03335241-1.60149268e-02j]\n"
          ]
        }
      ]
    },
    {
      "cell_type": "code",
      "metadata": {
        "id": "t5kYWwZRY1jS",
        "colab": {
          "base_uri": "https://localhost:8080/"
        },
        "outputId": "3f6e36e2-0bea-4387-b6ad-90a6c1aac14c"
      },
      "source": [
        "from scipy.fftpack import dct\n",
        "print(\"DCT:\\n\",dct(np.array([4.,3.,5.,10.,5.,3.])))"
      ],
      "execution_count": null,
      "outputs": [
        {
          "output_type": "stream",
          "name": "stdout",
          "text": [
            "DCT:\n",
            " [ 60.          -3.48476592 -13.85640646  11.3137085    6.\n",
            "  -6.31319305]\n"
          ]
        }
      ]
    },
    {
      "cell_type": "code",
      "metadata": {
        "id": "bASOGUC0Y4iT",
        "colab": {
          "base_uri": "https://localhost:8080/"
        },
        "outputId": "b04c943c-0d9c-4952-dfb6-2c8bfd851da1"
      },
      "source": [
        "from scipy.fftpack import idct\n",
        "print(\"IDCT:\\n\",idct(np.array([4.,3.,5.,10.,5.,3.])))"
      ],
      "execution_count": null,
      "outputs": [
        {
          "output_type": "stream",
          "name": "stdout",
          "text": [
            "IDCT:\n",
            " [ 39.15085889 -20.14213562  -6.45392043   7.13341236   8.14213562\n",
            "  -3.83035081]\n"
          ]
        }
      ]
    },
    {
      "cell_type": "markdown",
      "metadata": {
        "id": "NYea3sXHY-UY"
      },
      "source": [
        "# **SciPy**-**Integrated**"
      ]
    },
    {
      "cell_type": "markdown",
      "metadata": {
        "id": "zPesnf_IZJHw"
      },
      "source": [
        "The general form of quad is scipy.integrate.quad(f,a,b), Where 'f' is the name of the function to be integrated. Whereas, 'a' and 'b' are the lower and upper limits, respectively. Let us see an example of the Gaussian function, integrated over a range of 0 and 1\n",
        "\n"
      ]
    },
    {
      "cell_type": "markdown",
      "metadata": {
        "id": "6bVjX2hHZahC"
      },
      "source": [
        "# ∫f(x)dx"
      ]
    },
    {
      "cell_type": "code",
      "metadata": {
        "id": "eZ9IkkF4ZfDx",
        "colab": {
          "base_uri": "https://localhost:8080/"
        },
        "outputId": "1b4e405e-c4e7-4db1-a4c8-70f138faecb5"
      },
      "source": [
        "import scipy.integrate\n",
        "from numpy import exp\n",
        "f=lambda x:exp(-x**2)\n",
        "i=scipy.integrate.quad(f,0,1)\n",
        "print(i)"
      ],
      "execution_count": null,
      "outputs": [
        {
          "output_type": "stream",
          "name": "stdout",
          "text": [
            "(0.7468241328124271, 8.291413475940725e-15)\n"
          ]
        }
      ]
    },
    {
      "cell_type": "markdown",
      "metadata": {
        "id": "FBNgJqPzZkGt"
      },
      "source": [
        "# **Linear Algebra**"
      ]
    },
    {
      "cell_type": "markdown",
      "metadata": {
        "id": "Q-c1B4TPZ1Yy"
      },
      "source": [
        "# x+3y+5z=10\n",
        "\n",
        "# 2x+5y+z=8\n",
        "\n",
        "# 2x+3y+8z=3 *"
      ]
    },
    {
      "cell_type": "code",
      "metadata": {
        "id": "a_g631qSZ9i6",
        "colab": {
          "base_uri": "https://localhost:8080/"
        },
        "outputId": "623b271b-4aa6-4d48-b788-36fe548d0f60"
      },
      "source": [
        "from scipy import linalg\n",
        "import numpy as np\n",
        " \n",
        "a=np.array([[1,3,5],[2,5,1],[2,3,8]])\n",
        "b=np.array([10,8,3])\n",
        " \n",
        "X=linalg.solve(a,b)\n",
        " \n",
        "print(X)"
      ],
      "execution_count": null,
      "outputs": [
        {
          "output_type": "stream",
          "name": "stdout",
          "text": [
            "[-9.28  5.16  0.76]\n"
          ]
        }
      ]
    },
    {
      "cell_type": "markdown",
      "metadata": {
        "id": "aiBl5XvQaAlt"
      },
      "source": [
        "# **Finding an Determinant**"
      ]
    },
    {
      "cell_type": "code",
      "metadata": {
        "id": "2DFwzyFYaGTy",
        "colab": {
          "base_uri": "https://localhost:8080/"
        },
        "outputId": "fe80202c-5f6e-485e-dd1d-1af0d1fa3150"
      },
      "source": [
        "from scipy import linalg\n",
        "import numpy as np\n",
        " \n",
        "A=np.array([[1,2],[3,4]])\n",
        " \n",
        "x=linalg.det(A)\n",
        " \n",
        "print(x)"
      ],
      "execution_count": null,
      "outputs": [
        {
          "output_type": "stream",
          "name": "stdout",
          "text": [
            "-2.0\n"
          ]
        }
      ]
    },
    {
      "cell_type": "markdown",
      "metadata": {
        "id": "4lNGCygKaNGg"
      },
      "source": [
        "# **Eigen values and Eigen Vectors**"
      ]
    },
    {
      "cell_type": "code",
      "metadata": {
        "id": "8C8Wm4b0aTWF",
        "colab": {
          "base_uri": "https://localhost:8080/"
        },
        "outputId": "38a20c21-b6ed-4144-ee98-9dcde11a3c66"
      },
      "source": [
        "from scipy import linalg\n",
        "import numpy as np\n",
        " \n",
        "A=np.array([[1,2],[3,4]])\n",
        " \n",
        "l,v=linalg.eig(A)\n",
        " \n",
        "print(\"Eigen Values :\\n\",l)\n",
        " \n",
        "print(\"Eigen Vectors:\\n\",v)"
      ],
      "execution_count": null,
      "outputs": [
        {
          "output_type": "stream",
          "name": "stdout",
          "text": [
            "Eigen Values :\n",
            " [-0.37228132+0.j  5.37228132+0.j]\n",
            "Eigen Vectors:\n",
            " [[-0.82456484 -0.41597356]\n",
            " [ 0.56576746 -0.90937671]]\n"
          ]
        }
      ]
    },
    {
      "cell_type": "markdown",
      "metadata": {
        "id": "ghTFlxgzaaTS"
      },
      "source": [
        "# **Matplot Library**"
      ]
    },
    {
      "cell_type": "code",
      "metadata": {
        "id": "HIqX1od9afEL",
        "colab": {
          "base_uri": "https://localhost:8080/",
          "height": 216
        },
        "outputId": "b8a224b1-f40f-49a4-9cd7-8931e6c309ff"
      },
      "source": [
        "import matplotlib.pyplot as plt\n",
        "import numpy as np\n",
        " \n",
        "x=np.arange(5)\n",
        "y=(35,45,23,27,60)\n",
        " \n",
        "plt.bar(x,y)\n",
        "plt.show()"
      ],
      "execution_count": null,
      "outputs": [
        {
          "output_type": "display_data",
          "data": {
            "image/png": "[encoded data removed]",
            "text/plain": [
              "<Figure size 432x288 with 1 Axes>"
            ]
          },
          "metadata": {
            "needs_background": "light"
          }
        }
      ]
    },
    {
      "cell_type": "code",
      "metadata": {
        "id": "J_9Atxx_aiI3",
        "colab": {
          "base_uri": "https://localhost:8080/",
          "height": 216
        },
        "outputId": "9a44b6fb-4b9e-40e0-d5d9-3931a3b90c05"
      },
      "source": [
        "plt.scatter(x,y)\n",
        "plt.show()"
      ],
      "execution_count": null,
      "outputs": [
        {
          "output_type": "display_data",
          "data": {
            "image/png": "[encoded data removed]",
            "text/plain": [
              "<Figure size 432x288 with 1 Axes>"
            ]
          },
          "metadata": {
            "needs_background": "light"
          }
        }
      ]
    },
    {
      "cell_type": "code",
      "metadata": {
        "id": "kfnmwn6QapN_",
        "colab": {
          "base_uri": "https://localhost:8080/",
          "height": 224
        },
        "outputId": "a0ac07ef-e82b-4d2e-8680-3bedd964a0f3"
      },
      "source": [
        "import pandas as pd\n",
        "from sklearn.datasets import load_iris\n",
        "iris=load_iris()\n",
        "df=pd.DataFrame(iris.data)\n",
        " \n",
        "df.columns=['sepal_Length','sepal_Width','petal_Length','petal_Width']\n",
        "df.head()"
      ],
      "execution_count": null,
      "outputs": [
        {
          "output_type": "execute_result",
          "data": {
            "text/html": [
              "<div>\n",
              "<style scoped>\n",
              "    .dataframe tbody tr th:only-of-type {\n",
              "        vertical-align: middle;\n",
              "    }\n",
              "\n",
              "    .dataframe tbody tr th {\n",
              "        vertical-align: top;\n",
              "    }\n",
              "\n",
              "    .dataframe thead th {\n",
              "        text-align: right;\n",
              "    }\n",
              "</style>\n",
              "<table border=\"1\" class=\"dataframe\">\n",
              "  <thead>\n",
              "    <tr style=\"text-align: right;\">\n",
              "      <th></th>\n",
              "      <th>sepal_Length</th>\n",
              "      <th>sepal_Width</th>\n",
              "      <th>petal_Length</th>\n",
              "      <th>petal_Width</th>\n",
              "    </tr>\n",
              "  </thead>\n",
              "  <tbody>\n",
              "    <tr>\n",
              "      <th>0</th>\n",
              "      <td>5.1</td>\n",
              "      <td>3.5</td>\n",
              "      <td>1.4</td>\n",
              "      <td>0.2</td>\n",
              "    </tr>\n",
              "    <tr>\n",
              "      <th>1</th>\n",
              "      <td>4.9</td>\n",
              "      <td>3.0</td>\n",
              "      <td>1.4</td>\n",
              "      <td>0.2</td>\n",
              "    </tr>\n",
              "    <tr>\n",
              "      <th>2</th>\n",
              "      <td>4.7</td>\n",
              "      <td>3.2</td>\n",
              "      <td>1.3</td>\n",
              "      <td>0.2</td>\n",
              "    </tr>\n",
              "    <tr>\n",
              "      <th>3</th>\n",
              "      <td>4.6</td>\n",
              "      <td>3.1</td>\n",
              "      <td>1.5</td>\n",
              "      <td>0.2</td>\n",
              "    </tr>\n",
              "    <tr>\n",
              "      <th>4</th>\n",
              "      <td>5.0</td>\n",
              "      <td>3.6</td>\n",
              "      <td>1.4</td>\n",
              "      <td>0.2</td>\n",
              "    </tr>\n",
              "  </tbody>\n",
              "</table>\n",
              "</div>"
            ],
            "text/plain": [
              "   sepal_Length  sepal_Width  petal_Length  petal_Width\n",
              "0           5.1          3.5           1.4          0.2\n",
              "1           4.9          3.0           1.4          0.2\n",
              "2           4.7          3.2           1.3          0.2\n",
              "3           4.6          3.1           1.5          0.2\n",
              "4           5.0          3.6           1.4          0.2"
            ]
          },
          "metadata": {},
          "execution_count": 4
        }
      ]
    },
    {
      "cell_type": "code",
      "metadata": {
        "id": "hPBXH1n8atim",
        "colab": {
          "base_uri": "https://localhost:8080/",
          "height": 229
        },
        "outputId": "63e49a9a-fb45-4685-8c85-717fc659fca3"
      },
      "source": [
        "df.hist()\n",
        "plt.show()"
      ],
      "execution_count": null,
      "outputs": [
        {
          "output_type": "display_data",
          "data": {
            "image/png": "[encoded data removed]",
            "text/plain": [
              "<Figure size 432x288 with 4 Axes>"
            ]
          },
          "metadata": {
            "needs_background": "light"
          }
        }
      ]
    },
    {
      "cell_type": "code",
      "metadata": {
        "id": "9MXbD4Bcaxbo",
        "colab": {
          "base_uri": "https://localhost:8080/",
          "height": 219
        },
        "outputId": "f0930baf-74ad-4c8b-c213-b055fc9d538d"
      },
      "source": [
        "df.plot()\n",
        "plt.show()"
      ],
      "execution_count": null,
      "outputs": [
        {
          "output_type": "display_data",
          "data": {
            "image/png": "[encoded data removed]",
            "text/plain": [
              "<Figure size 432x288 with 1 Axes>"
            ]
          },
          "metadata": {
            "needs_background": "light"
          }
        }
      ]
    },
    {
      "cell_type": "code",
      "metadata": {
        "id": "8AZDCtk2bPvA",
        "colab": {
          "base_uri": "https://localhost:8080/",
          "height": 220
        },
        "outputId": "40762adc-3c65-4fd4-e447-28fd96c0ca97"
      },
      "source": [
        "df.boxplot()\n",
        "plt.show()"
      ],
      "execution_count": null,
      "outputs": [
        {
          "output_type": "display_data",
          "data": {
            "image/png": "[encoded data removed]",
            "text/plain": [
              "<Figure size 432x288 with 1 Axes>"
            ]
          },
          "metadata": {
            "needs_background": "light"
          }
        }
      ]
    },
    {
      "cell_type": "code",
      "metadata": {
        "id": "v1C2qw7UbUlU",
        "colab": {
          "base_uri": "https://localhost:8080/",
          "height": 217
        },
        "outputId": "a2382aad-7106-497c-a56f-a69d5dfb491a"
      },
      "source": [
        "import numpy as np\n",
        "x=np.linspace(0,20,1000)\n",
        "y=np.sin(x)\n",
        " \n",
        "plt.plot(x,y,label='sample Label')\n",
        "plt.title('sample plot title')\n",
        "plt.xlabel('x axis label')\n",
        "plt.ylabel('y axis label')\n",
        "plt.grid(True)\n",
        " \n",
        "plt.figtext(0.5,0.01,'Fig1:Sinusodial', ha='right',va='bottom')\n",
        " \n",
        "plt.legend(loc='best',framealpha=0.5,prop={'size':'small'})\n",
        " \n",
        "plt.tight_layout(pad=1)\n",
        " \n",
        "plt.show()"
      ],
      "execution_count": null,
      "outputs": [
        {
          "output_type": "display_data",
          "data": {
            "image/png": "[encoded data removed]",
            "text/plain": [
              "<Figure size 432x288 with 1 Axes>"
            ]
          },
          "metadata": {
            "needs_background": "light"
          }
        }
      ]
    }
  ]
}